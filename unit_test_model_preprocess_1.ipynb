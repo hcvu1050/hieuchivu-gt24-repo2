{
 "cells": [
  {
   "cell_type": "code",
   "execution_count": 17,
   "metadata": {},
   "outputs": [],
   "source": [
    "import pandas as pd\n",
    "from src.models.model1.model_preprocess import build_dataset, align_input_to_labels\n",
    "from src.data.build_features3 import build_features_freq_encode\n",
    "from src.data.select_features import select_features"
   ]
  },
  {
   "cell_type": "code",
   "execution_count": 18,
   "metadata": {},
   "outputs": [],
   "source": [
    "group_features_df = pd.read_pickle ('scripts/tmp_selected_group_features.pkl')\n",
    "technique_features_df = pd.read_pickle ('scripts/tmp_selected_technique_features.pkl')\n",
    "train_y_df = pd.read_csv ('data/interim/y_cleaned.csv')"
   ]
  },
  {
   "cell_type": "code",
   "execution_count": 19,
   "metadata": {},
   "outputs": [
    {
     "name": "stdout",
     "output_type": "stream",
     "text": [
      "--runing src.data.select_features\n",
      "--runing src.data.build_features3\n",
      "software_ID\n",
      "Index(['technique_ID', 'software_ID'], dtype='object')\n",
      "software_ID\n",
      "Index(['group_ID', 'software_ID'], dtype='object')\n"
     ]
    }
   ],
   "source": [
    "fe_technique_X, fe_group_X = select_features (group_features_df= group_features_df, technique_features_df=technique_features_df,\n",
    "                                              group_feature_names= ['software_ID'], technique_feature_names= ['software_ID'], \n",
    "                                              save_as_csv= False)\n",
    "fe_technique_X, fe_group_X = build_features_freq_encode (technique_features_df=fe_technique_X, technique_feature_names=['software_ID'],\n",
    "                                                         group_features_df=fe_group_X, group_features_names=['software_ID'], save_as_csv= False)\n",
    "fe_technique_X = align_input_to_labels (fe_technique_X, object='technique', label_df=train_y_df)\n",
    "fe_group_X = align_input_to_labels (fe_group_X, object='group', label_df=train_y_df)"
   ]
  },
  {
   "cell_type": "code",
   "execution_count": 20,
   "metadata": {},
   "outputs": [
    {
     "name": "stdout",
     "output_type": "stream",
     "text": [
      "(52768, 51)\n",
      "(52768, 18)\n"
     ]
    }
   ],
   "source": [
    "print (fe_technique_X.shape)\n",
    "print (fe_group_X.shape)"
   ]
  },
  {
   "cell_type": "code",
   "execution_count": 21,
   "metadata": {},
   "outputs": [],
   "source": [
    "fe_res = build_dataset (X_group_df= fe_group_X, X_technique_df= fe_technique_X, y_df=train_y_df, ragged_input= False)"
   ]
  },
  {
   "cell_type": "code",
   "execution_count": 22,
   "metadata": {},
   "outputs": [
    {
     "data": {
      "text/plain": [
       "({'input_Group': TensorSpec(shape=(17,), dtype=tf.float32, name=None),\n",
       "  'input_Technique': TensorSpec(shape=(50,), dtype=tf.float32, name=None)},\n",
       " TensorSpec(shape=(), dtype=tf.float32, name=None))"
      ]
     },
     "execution_count": 22,
     "metadata": {},
     "output_type": "execute_result"
    }
   ],
   "source": [
    "fe_res.element_spec"
   ]
  },
  {
   "cell_type": "code",
   "execution_count": 23,
   "metadata": {},
   "outputs": [],
   "source": [
    "# res = build_dataset(X_group_df=group_df, X_technique_df= technique_df, y_df=y_df, ragged_input= True)\n",
    "train_X_group_df = align_input_to_labels (group_features_df, \n",
    "                                            object= 'group', \n",
    "                                            label_df= train_y_df)\n",
    "train_X_technique_df = align_input_to_labels (technique_features_df, \n",
    "                                                object= 'technique', \n",
    "                                                label_df= train_y_df)"
   ]
  },
  {
   "cell_type": "code",
   "execution_count": 24,
   "metadata": {},
   "outputs": [],
   "source": [
    "res = build_dataset(X_group_df=train_X_group_df, X_technique_df= train_X_technique_df, y_df=train_y_df, ragged_input= True)\n"
   ]
  },
  {
   "cell_type": "code",
   "execution_count": 25,
   "metadata": {},
   "outputs": [
    {
     "data": {
      "text/plain": [
       "({'input_Group': RaggedTensorSpec(TensorShape([None, None]), tf.string, 1, tf.int64),\n",
       "  'input_Technique': RaggedTensorSpec(TensorShape([None, None]), tf.string, 1, tf.int64)},\n",
       " TensorSpec(shape=(), dtype=tf.float32, name=None))"
      ]
     },
     "execution_count": 25,
     "metadata": {},
     "output_type": "execute_result"
    }
   ],
   "source": [
    "res.element_spec"
   ]
  },
  {
   "cell_type": "code",
   "execution_count": 26,
   "metadata": {},
   "outputs": [
    {
     "name": "stdout",
     "output_type": "stream",
     "text": [
      "Input Group:\n",
      "[[b's0434']]\n",
      "Input Technique/ vector len:  8\n",
      "[[b'windows'], [b'defense_evasion', b'privilege_escalation'], [b'command_command_execution', b'process_process_creation', b'process_process_metadata', b'windows_registry_windows_registry_key_modification'], [b'windows_user_account_control'], [b'administrator', b'user'], [b'm1047', b'm1026', b'm1051', b'm1052'], [b'command_execution', b'process_creation', b'process_metadata', b'windows_registry_key_modification'], [b's0584', b's0129', b's0640', b's0606', b's0570', b's1068', b's0089', b's1039', b's0527', b's0660', b's0154', b's0134', b's0363', b's0182', b's0666', b's0531', b's0132', b's0260', b's0669', b's0356', b's0250', b's0447', b's0254', b's0501', b's0378', b's0192', b's0262', b's0662', b's0148', b's0458', b's0332', b's0692', b's1018', b's0074', b's0140', b's0444', b's0116', b's0670', b's0612', b's0141', b's0230']]\n",
      "Target Value: 0.0\n",
      "Input Group:\n",
      "[[b's0434']]\n",
      "Input Technique/ vector len:  8\n",
      "[[b'windows'], [b'defense_evasion', b'privilege_escalation'], [b'active_directory_active_directory_object_modification', b'command_command_execution', b'process_os_api_execution', b'process_process_creation', b'process_process_metadata', b'user_account_user_account_metadata'], [b'heuristic_detection', b'host_forensic_analysis', b'system_access_controls', b'windows_user_account_control'], [b'administrator', b'user'], [b'm1026', b'm1018'], [b'active_directory_object_modification', b'command_execution', b'os_api_execution', b'process_creation', b'process_metadata', b'user_account_metadata'], [b's0622', b's1068', b's0625', b's0038', b's0363', b's0666', b's0697', b's0203', b's0607', b's1060', b's0576', b's0378', b's0194', b's0446', b's0562', b's0633', b's0058']]\n",
      "Target Value: 0.0\n",
      "Input Group:\n",
      "[[b's0434']]\n",
      "Input Technique/ vector len:  8\n",
      "[[b'windows'], [b'defense_evasion', b'privilege_escalation'], [b'command_command_execution', b'process_os_api_execution'], [b'file_system_access_controls', b'system_access_controls', b'windows_user_account_control'], [b''], [b'm1026', b'm1018'], [b'command_execution', b'os_api_execution'], [b's0456', b's0344', b's0239', b's0363', b's0356', b's0501', b's0378', b's0496', b's0689', b's0412']]\n",
      "Target Value: 0.0\n",
      "Input Group:\n",
      "[[b's0434']]\n",
      "Input Technique/ vector len:  8\n",
      "[[b'windows'], [b'defense_evasion', b'privilege_escalation'], [b'command_command_execution', b'process_os_api_execution'], [b'file_system_access_controls', b'system_access_controls', b'windows_user_account_control'], [b''], [b'm1026', b'm1018'], [b'command_execution', b'os_api_execution'], [b's0456', b's0570', b's0154', b's0182', b's0439', b's0192', b's0496', b's0692', b's0140', b's0623', b's0603', b's1011']]\n",
      "Target Value: 0.0\n",
      "Input Group:\n",
      "[[b's0434']]\n",
      "Input Technique/ vector len:  8\n",
      "[[b'linux', b'office_365', b'saas', b'windows', b'macos'], [b'impact'], [b'active_directory_active_directory_object_modification', b'user_account_user_account_deletion', b'user_account_user_account_modification'], [b''], [b''], [b''], [b'active_directory_object_modification', b'user_account_deletion', b'user_account_modification'], [b's0372', b's0576', b's0688']]\n",
      "Target Value: 0.0\n"
     ]
    }
   ],
   "source": [
    "import tensorflow as tf\n",
    "# cnt = 50\n",
    "# Assuming you have a TensorFlow dataset named 'tf_dataset'\n",
    "for element in res.take(5):\n",
    "    inputs, target = element\n",
    "    # Access and inspect the 'input_Group' and 'input_Technique' RaggedTensors\n",
    "    input_group = inputs['input_Group']\n",
    "    input_technique = inputs['input_Technique']\n",
    "    # Access and inspect the target tensor\n",
    "    target_value = target.numpy()\n",
    "    # Printing the content of 'input_Group' and 'input_Technique' RaggedTensors\n",
    "    print(\"Input Group:\")\n",
    "    print(input_group.to_list())\n",
    "    print(\"Input Technique/ vector len: \", len(input_technique.to_list()))\n",
    "    print(input_technique.to_list())\n",
    "\n",
    "    # Printing the target value\n",
    "    print(\"Target Value:\", target_value)\n"
   ]
  }
 ],
 "metadata": {
  "kernelspec": {
   "display_name": "hcv-gt24-env",
   "language": "python",
   "name": "python3"
  },
  "language_info": {
   "codemirror_mode": {
    "name": "ipython",
    "version": 3
   },
   "file_extension": ".py",
   "mimetype": "text/x-python",
   "name": "python",
   "nbconvert_exporter": "python",
   "pygments_lexer": "ipython3",
   "version": "3.11.4"
  }
 },
 "nbformat": 4,
 "nbformat_minor": 2
}
