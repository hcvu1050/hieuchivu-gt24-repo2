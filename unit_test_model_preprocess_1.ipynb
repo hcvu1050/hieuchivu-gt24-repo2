{
 "cells": [
  {
   "cell_type": "code",
   "execution_count": 1,
   "metadata": {},
   "outputs": [],
   "source": [
    "import pandas as pd\n",
    "from src.models.model1.model_preprocess import build_dataset, align_input_to_labels"
   ]
  },
  {
   "cell_type": "code",
   "execution_count": 3,
   "metadata": {},
   "outputs": [],
   "source": [
    "group_features_df = pd.read_pickle ('scripts/tmp_selected_group_features.pkl')\n",
    "technique_features_df = pd.read_pickle ('scripts/tmp_selected_technique_features.pkl')\n",
    "train_y_df = pd.read_csv ('data/interim/y_cleaned.csv')"
   ]
  },
  {
   "cell_type": "code",
   "execution_count": 4,
   "metadata": {},
   "outputs": [],
   "source": [
    "# res = build_dataset(X_group_df=group_df, X_technique_df= technique_df, y_df=y_df, ragged_input= True)\n",
    "train_X_group_df = align_input_to_labels (group_features_df, \n",
    "                                            object= 'group', \n",
    "                                            label_df= train_y_df)\n",
    "train_X_technique_df = align_input_to_labels (technique_features_df, \n",
    "                                                object= 'technique', \n",
    "                                                label_df= train_y_df)"
   ]
  },
  {
   "cell_type": "code",
   "execution_count": 6,
   "metadata": {},
   "outputs": [],
   "source": [
    "res = build_dataset(X_group_df=train_X_group_df, X_technique_df= train_X_technique_df, y_df=train_y_df, ragged_input= True)\n"
   ]
  },
  {
   "cell_type": "code",
   "execution_count": 8,
   "metadata": {},
   "outputs": [
    {
     "data": {
      "text/plain": [
       "({'input_Group': RaggedTensorSpec(TensorShape([None, None]), tf.string, 1, tf.int64),\n",
       "  'input_Technique': RaggedTensorSpec(TensorShape([None, None]), tf.string, 1, tf.int64)},\n",
       " TensorSpec(shape=(), dtype=tf.float32, name=None))"
      ]
     },
     "execution_count": 8,
     "metadata": {},
     "output_type": "execute_result"
    }
   ],
   "source": [
    "res.element_spec"
   ]
  }
 ],
 "metadata": {
  "kernelspec": {
   "display_name": "hcv-gt24-env",
   "language": "python",
   "name": "python3"
  },
  "language_info": {
   "codemirror_mode": {
    "name": "ipython",
    "version": 3
   },
   "file_extension": ".py",
   "mimetype": "text/x-python",
   "name": "python",
   "nbconvert_exporter": "python",
   "pygments_lexer": "ipython3",
   "version": "3.11.4"
  }
 },
 "nbformat": 4,
 "nbformat_minor": 2
}
