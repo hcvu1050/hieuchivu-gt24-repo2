{
 "cells": [
  {
   "cell_type": "code",
   "execution_count": 42,
   "metadata": {},
   "outputs": [],
   "source": [
    "import pandas as pd\n",
    "import category_encoders as ce\n",
    "\n",
    "count_enc = ce.CountEncoder(normalize=True)"
   ]
  },
  {
   "cell_type": "code",
   "execution_count": 43,
   "metadata": {},
   "outputs": [],
   "source": [
    "from src.data.build_features2 import _frequency_encode_features"
   ]
  },
  {
   "cell_type": "code",
   "execution_count": 44,
   "metadata": {},
   "outputs": [],
   "source": [
    "df = pd.read_csv('data/interim/X_technique_selected_features.csv')\n"
   ]
  },
  {
   "cell_type": "code",
   "execution_count": 45,
   "metadata": {},
   "outputs": [
    {
     "data": {
      "text/html": [
       "<div>\n",
       "<style scoped>\n",
       "    .dataframe tbody tr th:only-of-type {\n",
       "        vertical-align: middle;\n",
       "    }\n",
       "\n",
       "    .dataframe tbody tr th {\n",
       "        vertical-align: top;\n",
       "    }\n",
       "\n",
       "    .dataframe thead th {\n",
       "        text-align: right;\n",
       "    }\n",
       "</style>\n",
       "<table border=\"1\" class=\"dataframe\">\n",
       "  <thead>\n",
       "    <tr style=\"text-align: right;\">\n",
       "      <th></th>\n",
       "      <th>technique_ID</th>\n",
       "      <th>tactics</th>\n",
       "      <th>mitigation_ID</th>\n",
       "    </tr>\n",
       "  </thead>\n",
       "  <tbody>\n",
       "    <tr>\n",
       "      <th>0</th>\n",
       "      <td>T1548</td>\n",
       "      <td>Defense Evasion, Privilege Escalation</td>\n",
       "      <td>M1047</td>\n",
       "    </tr>\n",
       "    <tr>\n",
       "      <th>1</th>\n",
       "      <td>T1548</td>\n",
       "      <td>Defense Evasion, Privilege Escalation</td>\n",
       "      <td>M1047</td>\n",
       "    </tr>\n",
       "    <tr>\n",
       "      <th>2</th>\n",
       "      <td>T1548</td>\n",
       "      <td>Defense Evasion, Privilege Escalation</td>\n",
       "      <td>M1047</td>\n",
       "    </tr>\n",
       "    <tr>\n",
       "      <th>3</th>\n",
       "      <td>T1548</td>\n",
       "      <td>Defense Evasion, Privilege Escalation</td>\n",
       "      <td>M1047</td>\n",
       "    </tr>\n",
       "    <tr>\n",
       "      <th>4</th>\n",
       "      <td>T1548</td>\n",
       "      <td>Defense Evasion, Privilege Escalation</td>\n",
       "      <td>M1047</td>\n",
       "    </tr>\n",
       "    <tr>\n",
       "      <th>...</th>\n",
       "      <td>...</td>\n",
       "      <td>...</td>\n",
       "      <td>...</td>\n",
       "    </tr>\n",
       "    <tr>\n",
       "      <th>63029</th>\n",
       "      <td>T1047</td>\n",
       "      <td>Execution</td>\n",
       "      <td>M1018</td>\n",
       "    </tr>\n",
       "    <tr>\n",
       "      <th>63030</th>\n",
       "      <td>T1047</td>\n",
       "      <td>Execution</td>\n",
       "      <td>M1018</td>\n",
       "    </tr>\n",
       "    <tr>\n",
       "      <th>63031</th>\n",
       "      <td>T1047</td>\n",
       "      <td>Execution</td>\n",
       "      <td>M1018</td>\n",
       "    </tr>\n",
       "    <tr>\n",
       "      <th>63032</th>\n",
       "      <td>T1220</td>\n",
       "      <td>Defense Evasion</td>\n",
       "      <td>M1038</td>\n",
       "    </tr>\n",
       "    <tr>\n",
       "      <th>63033</th>\n",
       "      <td>T1220</td>\n",
       "      <td>Defense Evasion</td>\n",
       "      <td>M1038</td>\n",
       "    </tr>\n",
       "  </tbody>\n",
       "</table>\n",
       "<p>63034 rows × 3 columns</p>\n",
       "</div>"
      ],
      "text/plain": [
       "      technique_ID                                tactics mitigation_ID\n",
       "0            T1548  Defense Evasion, Privilege Escalation         M1047\n",
       "1            T1548  Defense Evasion, Privilege Escalation         M1047\n",
       "2            T1548  Defense Evasion, Privilege Escalation         M1047\n",
       "3            T1548  Defense Evasion, Privilege Escalation         M1047\n",
       "4            T1548  Defense Evasion, Privilege Escalation         M1047\n",
       "...            ...                                    ...           ...\n",
       "63029        T1047                              Execution         M1018\n",
       "63030        T1047                              Execution         M1018\n",
       "63031        T1047                              Execution         M1018\n",
       "63032        T1220                        Defense Evasion         M1038\n",
       "63033        T1220                        Defense Evasion         M1038\n",
       "\n",
       "[63034 rows x 3 columns]"
      ]
     },
     "execution_count": 45,
     "metadata": {},
     "output_type": "execute_result"
    }
   ],
   "source": [
    "df"
   ]
  },
  {
   "cell_type": "code",
   "execution_count": 46,
   "metadata": {},
   "outputs": [],
   "source": [
    "# feature_name = 'platforms'\n",
    "# feature = df[feature_name].str.replace(r',\\s*',',', regex = True)\n",
    "# feature = feature.str.lower()\n",
    "# feature = feature.str.replace (r'[-/]', ' ', regex = True)"
   ]
  },
  {
   "cell_type": "code",
   "execution_count": 47,
   "metadata": {},
   "outputs": [],
   "source": [
    "# feature"
   ]
  },
  {
   "cell_type": "code",
   "execution_count": 48,
   "metadata": {},
   "outputs": [],
   "source": [
    "# feature = feature.str.split(',')\n",
    "# feature = feature.explode(ignore_index=False)"
   ]
  },
  {
   "cell_type": "code",
   "execution_count": 49,
   "metadata": {},
   "outputs": [],
   "source": [
    "# feature"
   ]
  },
  {
   "cell_type": "code",
   "execution_count": 50,
   "metadata": {},
   "outputs": [],
   "source": [
    "# feature_freq_encoded = count_enc.fit_transform(feature, return_df = True)\n",
    "# feature_freq_encoded_oh = pd.get_dummies (feature_freq_encoded[feature_name], dtype = float)\n",
    "# feature_freq_encoded_oh = feature_freq_encoded_oh.groupby(level=0).max()\n",
    "# freq_encoded_one_hot_true_val = feature_freq_encoded_oh.multiply(feature_freq_encoded_oh.columns, axis= 1)"
   ]
  },
  {
   "cell_type": "code",
   "execution_count": 51,
   "metadata": {},
   "outputs": [],
   "source": [
    "# freq_encoded_one_hot_true_val"
   ]
  },
  {
   "cell_type": "code",
   "execution_count": 52,
   "metadata": {},
   "outputs": [],
   "source": [
    "# res = _frequency_encode_features(df, ID = 'technique_ID', feature_names=['platforms'])"
   ]
  },
  {
   "cell_type": "code",
   "execution_count": 53,
   "metadata": {},
   "outputs": [],
   "source": [
    "# res.to_csv('tmp_res.csv')"
   ]
  },
  {
   "cell_type": "code",
   "execution_count": 54,
   "metadata": {},
   "outputs": [],
   "source": [
    "# res"
   ]
  },
  {
   "cell_type": "markdown",
   "metadata": {},
   "source": [
    "### testing cases when not all features are selected for one-hot encoding"
   ]
  },
  {
   "cell_type": "code",
   "execution_count": 55,
   "metadata": {},
   "outputs": [],
   "source": [
    "\n",
    "df = pd.read_csv('data/interim/X_technique_selected_features.csv')"
   ]
  },
  {
   "cell_type": "code",
   "execution_count": 38,
   "metadata": {},
   "outputs": [
    {
     "data": {
      "text/html": [
       "<div>\n",
       "<style scoped>\n",
       "    .dataframe tbody tr th:only-of-type {\n",
       "        vertical-align: middle;\n",
       "    }\n",
       "\n",
       "    .dataframe tbody tr th {\n",
       "        vertical-align: top;\n",
       "    }\n",
       "\n",
       "    .dataframe thead th {\n",
       "        text-align: right;\n",
       "    }\n",
       "</style>\n",
       "<table border=\"1\" class=\"dataframe\">\n",
       "  <thead>\n",
       "    <tr style=\"text-align: right;\">\n",
       "      <th></th>\n",
       "      <th>technique_ID</th>\n",
       "      <th>tactics</th>\n",
       "      <th>mitigation_ID</th>\n",
       "    </tr>\n",
       "  </thead>\n",
       "  <tbody>\n",
       "    <tr>\n",
       "      <th>0</th>\n",
       "      <td>T1548</td>\n",
       "      <td>Defense Evasion, Privilege Escalation</td>\n",
       "      <td>M1047</td>\n",
       "    </tr>\n",
       "    <tr>\n",
       "      <th>1</th>\n",
       "      <td>T1548</td>\n",
       "      <td>Defense Evasion, Privilege Escalation</td>\n",
       "      <td>M1047</td>\n",
       "    </tr>\n",
       "    <tr>\n",
       "      <th>2</th>\n",
       "      <td>T1548</td>\n",
       "      <td>Defense Evasion, Privilege Escalation</td>\n",
       "      <td>M1047</td>\n",
       "    </tr>\n",
       "    <tr>\n",
       "      <th>3</th>\n",
       "      <td>T1548</td>\n",
       "      <td>Defense Evasion, Privilege Escalation</td>\n",
       "      <td>M1047</td>\n",
       "    </tr>\n",
       "    <tr>\n",
       "      <th>4</th>\n",
       "      <td>T1548</td>\n",
       "      <td>Defense Evasion, Privilege Escalation</td>\n",
       "      <td>M1047</td>\n",
       "    </tr>\n",
       "    <tr>\n",
       "      <th>...</th>\n",
       "      <td>...</td>\n",
       "      <td>...</td>\n",
       "      <td>...</td>\n",
       "    </tr>\n",
       "    <tr>\n",
       "      <th>63029</th>\n",
       "      <td>T1047</td>\n",
       "      <td>Execution</td>\n",
       "      <td>M1018</td>\n",
       "    </tr>\n",
       "    <tr>\n",
       "      <th>63030</th>\n",
       "      <td>T1047</td>\n",
       "      <td>Execution</td>\n",
       "      <td>M1018</td>\n",
       "    </tr>\n",
       "    <tr>\n",
       "      <th>63031</th>\n",
       "      <td>T1047</td>\n",
       "      <td>Execution</td>\n",
       "      <td>M1018</td>\n",
       "    </tr>\n",
       "    <tr>\n",
       "      <th>63032</th>\n",
       "      <td>T1220</td>\n",
       "      <td>Defense Evasion</td>\n",
       "      <td>M1038</td>\n",
       "    </tr>\n",
       "    <tr>\n",
       "      <th>63033</th>\n",
       "      <td>T1220</td>\n",
       "      <td>Defense Evasion</td>\n",
       "      <td>M1038</td>\n",
       "    </tr>\n",
       "  </tbody>\n",
       "</table>\n",
       "<p>63034 rows × 3 columns</p>\n",
       "</div>"
      ],
      "text/plain": [
       "      technique_ID                                tactics mitigation_ID\n",
       "0            T1548  Defense Evasion, Privilege Escalation         M1047\n",
       "1            T1548  Defense Evasion, Privilege Escalation         M1047\n",
       "2            T1548  Defense Evasion, Privilege Escalation         M1047\n",
       "3            T1548  Defense Evasion, Privilege Escalation         M1047\n",
       "4            T1548  Defense Evasion, Privilege Escalation         M1047\n",
       "...            ...                                    ...           ...\n",
       "63029        T1047                              Execution         M1018\n",
       "63030        T1047                              Execution         M1018\n",
       "63031        T1047                              Execution         M1018\n",
       "63032        T1220                        Defense Evasion         M1038\n",
       "63033        T1220                        Defense Evasion         M1038\n",
       "\n",
       "[63034 rows x 3 columns]"
      ]
     },
     "execution_count": 38,
     "metadata": {},
     "output_type": "execute_result"
    }
   ],
   "source": [
    "df"
   ]
  },
  {
   "cell_type": "code",
   "execution_count": 56,
   "metadata": {},
   "outputs": [
    {
     "data": {
      "text/plain": [
       "43"
      ]
     },
     "execution_count": 56,
     "metadata": {},
     "output_type": "execute_result"
    }
   ],
   "source": [
    "df['mitigation_ID'].nunique()"
   ]
  },
  {
   "cell_type": "code",
   "execution_count": 57,
   "metadata": {},
   "outputs": [],
   "source": [
    "from src.data.build_features2 import _onehot_encode_features"
   ]
  },
  {
   "cell_type": "code",
   "execution_count": 58,
   "metadata": {},
   "outputs": [],
   "source": [
    "res = _onehot_encode_features (df, ID = 'technique_ID', feature_names=['tactics'])"
   ]
  },
  {
   "cell_type": "code",
   "execution_count": 59,
   "metadata": {},
   "outputs": [
    {
     "data": {
      "text/plain": [
       "40"
      ]
     },
     "execution_count": 59,
     "metadata": {},
     "output_type": "execute_result"
    }
   ],
   "source": [
    "res['mitigation_ID'].nunique()"
   ]
  }
 ],
 "metadata": {
  "kernelspec": {
   "display_name": "hcv-gt24-env",
   "language": "python",
   "name": "python3"
  },
  "language_info": {
   "codemirror_mode": {
    "name": "ipython",
    "version": 3
   },
   "file_extension": ".py",
   "mimetype": "text/x-python",
   "name": "python",
   "nbconvert_exporter": "python",
   "pygments_lexer": "ipython3",
   "version": "3.11.4"
  },
  "orig_nbformat": 4
 },
 "nbformat": 4,
 "nbformat_minor": 2
}
