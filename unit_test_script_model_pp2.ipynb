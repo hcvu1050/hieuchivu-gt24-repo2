{
 "cells": [
  {
   "cell_type": "code",
   "execution_count": 1,
   "metadata": {},
   "outputs": [],
   "source": [
    "import tensorflow  as tf"
   ]
  },
  {
   "cell_type": "code",
   "execution_count": 2,
   "metadata": {},
   "outputs": [],
   "source": [
    "test_dataset = tf.data.Dataset.load ('data/processed/model1/test_dataset/')"
   ]
  },
  {
   "cell_type": "code",
   "execution_count": 3,
   "metadata": {},
   "outputs": [
    {
     "data": {
      "text/plain": [
       "({'input_technique_software_id': TensorSpec(shape=(), dtype=tf.string, name=None),\n",
       "  'input_technique_platforms': TensorSpec(shape=(), dtype=tf.string, name=None),\n",
       "  'input_technique_permissions_required': TensorSpec(shape=(), dtype=tf.string, name=None),\n",
       "  'input_technique_data_sources': TensorSpec(shape=(), dtype=tf.string, name=None),\n",
       "  'input_technique_defenses_bypassed': TensorSpec(shape=(), dtype=tf.string, name=None),\n",
       "  'input_technique_tactics': TensorSpec(shape=(), dtype=tf.string, name=None),\n",
       "  'input_group_software_id': TensorSpec(shape=(), dtype=tf.string, name=None),\n",
       "  'input_technique_detection_name': TensorSpec(shape=(), dtype=tf.string, name=None),\n",
       "  'input_technique_mitigation_id': TensorSpec(shape=(), dtype=tf.string, name=None)},\n",
       " TensorSpec(shape=(), dtype=tf.float32, name=None))"
      ]
     },
     "execution_count": 3,
     "metadata": {},
     "output_type": "execute_result"
    }
   ],
   "source": [
    "test_dataset.element_spec"
   ]
  },
  {
   "cell_type": "code",
   "execution_count": 4,
   "metadata": {},
   "outputs": [],
   "source": [
    "num_samples = tf.data.experimental.cardinality(test_dataset).numpy()"
   ]
  },
  {
   "cell_type": "code",
   "execution_count": 5,
   "metadata": {},
   "outputs": [
    {
     "data": {
      "text/plain": [
       "5432"
      ]
     },
     "execution_count": 5,
     "metadata": {},
     "output_type": "execute_result"
    }
   ],
   "source": [
    "num_samples"
   ]
  },
  {
   "cell_type": "code",
   "execution_count": 10,
   "metadata": {},
   "outputs": [],
   "source": [
    "train_dataset = tf.data.Dataset.load ('data/processed/model1/train_dataset/')\n"
   ]
  },
  {
   "cell_type": "code",
   "execution_count": 9,
   "metadata": {},
   "outputs": [
    {
     "data": {
      "text/plain": [
       "69374"
      ]
     },
     "execution_count": 9,
     "metadata": {},
     "output_type": "execute_result"
    }
   ],
   "source": [
    "num_samples = tf.data.experimental.cardinality(train_dataset).numpy()\n",
    "num_samples"
   ]
  }
 ],
 "metadata": {
  "kernelspec": {
   "display_name": "hcv-gt24-env",
   "language": "python",
   "name": "python3"
  },
  "language_info": {
   "codemirror_mode": {
    "name": "ipython",
    "version": 3
   },
   "file_extension": ".py",
   "mimetype": "text/x-python",
   "name": "python",
   "nbconvert_exporter": "python",
   "pygments_lexer": "ipython3",
   "version": "3.11.4"
  }
 },
 "nbformat": 4,
 "nbformat_minor": 2
}
