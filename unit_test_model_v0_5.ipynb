{
 "cells": [
  {
   "cell_type": "code",
   "execution_count": 1,
   "metadata": {},
   "outputs": [],
   "source": [
    "import pandas as pd\n",
    "from src.models.model1.model_preprocess import build_dataset, align_input_to_labels\n",
    "from src.models.model1.model_preprocess import build_dataset_2\n"
   ]
  },
  {
   "cell_type": "code",
   "execution_count": 2,
   "metadata": {},
   "outputs": [],
   "source": [
    "input_group_software_id = pd.read_csv('data/interim/input_group_software_id_vocab.csv', header = None)\n",
    "input_technique_data_sources = pd.read_csv('data/interim/input_technique_data_sources_vocab.csv', header= None)\n",
    "input_technique_defenses_bypassed = pd.read_csv('data/interim/input_technique_defenses_bypassed_vocab.csv', header= None)\n",
    "input_technique_detection_name = pd.read_csv('data/interim/input_technique_detection_name_vocab.csv', header= None)\n",
    "input_technique_mitigation_id = pd.read_csv('data/interim/input_technique_mitigation_id_vocab.csv', header= None)\n",
    "input_technique_permissions_required = pd.read_csv('data/interim/input_technique_permissions_required_vocab.csv', header= None)\n",
    "input_technique_platforms = pd.read_csv('data/interim/input_technique_platforms_vocab.csv', header= None)\n",
    "input_technique_software_id = pd.read_csv('data/interim/input_technique_software_id_vocab.csv', header= None)\n",
    "input_technique_tactics = pd.read_csv('data/interim/input_technique_tactics_vocab.csv', header= None)"
   ]
  },
  {
   "cell_type": "code",
   "execution_count": 3,
   "metadata": {},
   "outputs": [],
   "source": [
    "vocabs = {\n",
    "    'input_group_software_id' : input_group_software_id[0].values,\n",
    "    'input_technique_data_sources' : input_technique_data_sources[0].values,\n",
    "    'input_technique_defenses_bypassed' : input_technique_defenses_bypassed[0].values,\n",
    "    'input_technique_detection_name' : input_technique_detection_name[0].values,\n",
    "    'input_technique_mitigation_id' : input_technique_mitigation_id[0].values,\n",
    "    'input_technique_permissions_required' : input_technique_permissions_required[0].values,\n",
    "    'input_technique_platforms' : input_technique_platforms[0].values,\n",
    "    'input_technique_software_id' : input_technique_software_id[0].values,\n",
    "    'input_technique_tactics' : input_technique_tactics[0].values    \n",
    "}\n"
   ]
  },
  {
   "cell_type": "code",
   "execution_count": 4,
   "metadata": {},
   "outputs": [],
   "source": [
    "group_features_df = pd.read_pickle ('scripts/tmp_selected_group_features.pkl')\n",
    "technique_features_df = pd.read_pickle ('scripts/tmp_selected_technique_features.pkl')\n",
    "train_y_df = pd.read_csv ('data/interim/y_cleaned.csv')\n",
    "train_X_group_df = align_input_to_labels (group_features_df, \n",
    "                                            object= 'group', \n",
    "                                            label_df= train_y_df)\n",
    "train_X_technique_df = align_input_to_labels (technique_features_df, \n",
    "                                                object= 'technique', \n",
    "                                                label_df= train_y_df)"
   ]
  },
  {
   "cell_type": "code",
   "execution_count": 5,
   "metadata": {},
   "outputs": [],
   "source": [
    "dataset = build_dataset_2 (X_group_df= train_X_group_df, X_technique_df=train_X_technique_df, y_df= train_y_df, ragged_input= True)\n"
   ]
  },
  {
   "cell_type": "code",
   "execution_count": 6,
   "metadata": {},
   "outputs": [
    {
     "data": {
      "text/plain": [
       "({'input_group_software_id': RaggedTensorSpec(TensorShape([None]), tf.string, 0, tf.int64),\n",
       "  'input_technique_data_sources': RaggedTensorSpec(TensorShape([None]), tf.string, 0, tf.int64),\n",
       "  'input_technique_defenses_bypassed': RaggedTensorSpec(TensorShape([None]), tf.string, 0, tf.int64),\n",
       "  'input_technique_detection_name': RaggedTensorSpec(TensorShape([None]), tf.string, 0, tf.int64),\n",
       "  'input_technique_mitigation_id': RaggedTensorSpec(TensorShape([None]), tf.string, 0, tf.int64),\n",
       "  'input_technique_permissions_required': RaggedTensorSpec(TensorShape([None]), tf.string, 0, tf.int64),\n",
       "  'input_technique_platforms': RaggedTensorSpec(TensorShape([None]), tf.string, 0, tf.int64),\n",
       "  'input_technique_software_id': RaggedTensorSpec(TensorShape([None]), tf.string, 0, tf.int64),\n",
       "  'input_technique_tactics': RaggedTensorSpec(TensorShape([None]), tf.string, 0, tf.int64)},\n",
       " TensorSpec(shape=(), dtype=tf.float32, name=None))"
      ]
     },
     "execution_count": 6,
     "metadata": {},
     "output_type": "execute_result"
    }
   ],
   "source": [
    "dataset.element_spec"
   ]
  },
  {
   "cell_type": "markdown",
   "metadata": {},
   "source": [
    "### unit test: `model_v0_5`"
   ]
  },
  {
   "cell_type": "code",
   "execution_count": 7,
   "metadata": {},
   "outputs": [],
   "source": [
    "from src.models.model1 import model_v0_5"
   ]
  },
  {
   "cell_type": "code",
   "execution_count": 8,
   "metadata": {},
   "outputs": [],
   "source": [
    "model = model_v0_5.Model1 (\n",
    "    name = 'model',\n",
    "    group_nn_hidden_layer_widths =  64,\n",
    "    group_nn_hidden_layer_depth =  3,\n",
    "    technique_nn_hidden_layer_widths =  256,\n",
    "    technique_nn_hidden_layer_depth =  3,\n",
    "    nn_output_size =  16,\n",
    "    vocabs= vocabs\n",
    ")"
   ]
  },
  {
   "cell_type": "code",
   "execution_count": 9,
   "metadata": {},
   "outputs": [
    {
     "name": "stdout",
     "output_type": "stream",
     "text": [
      "1649/1649 [==============================] - 7s 4ms/step\n"
     ]
    },
    {
     "data": {
      "text/plain": [
       "array([[-0.20070034],\n",
       "       [-0.18215957],\n",
       "       [-0.21262383],\n",
       "       ...,\n",
       "       [-0.10943798],\n",
       "       [-0.24375904],\n",
       "       [-0.05363335]], dtype=float32)"
      ]
     },
     "execution_count": 9,
     "metadata": {},
     "output_type": "execute_result"
    }
   ],
   "source": [
    "b_dataset = dataset.batch(32)\n",
    "model.predict (b_dataset)"
   ]
  },
  {
   "cell_type": "code",
   "execution_count": 10,
   "metadata": {},
   "outputs": [
    {
     "name": "stdout",
     "output_type": "stream",
     "text": [
      "Model: \"model\"\n",
      "_________________________________________________________________\n",
      " Layer (type)                Output Shape              Param #   \n",
      "=================================================================\n",
      " vectorize_group_software_id  multiple                 0         \n",
      "  (TextVectorization)                                            \n",
      "                                                                 \n",
      " vectorize_technique_data_so  multiple                 0         \n",
      " urces (TextVectorization)                                       \n",
      "                                                                 \n",
      " vectorize_technique_defense  multiple                 0         \n",
      " s_bypassed (TextVectorizati                                     \n",
      " on)                                                             \n",
      "                                                                 \n",
      " vectorize_technique_detecti  multiple                 0         \n",
      " on_name (TextVectorization)                                     \n",
      "                                                                 \n",
      " vectorize_technique_mitigat  multiple                 0         \n",
      " ion_id (TextVectorization)                                      \n",
      "                                                                 \n",
      " vectorize_technique_permiss  multiple                 0         \n",
      " ions_required (TextVectoriz                                     \n",
      " ation)                                                          \n",
      "                                                                 \n",
      " vectorize_technique_platfor  multiple                 0         \n",
      " ms (TextVectorization)                                          \n",
      "                                                                 \n",
      " vectorize_technique_softwar  multiple                 0         \n",
      " e_id (TextVectorization)                                        \n",
      "                                                                 \n",
      " vectorize_technique_tactics  multiple                 0         \n",
      "  (TextVectorization)                                            \n",
      "                                                                 \n",
      " embed_group_software_id (Em  multiple                 9765      \n",
      " bedding)                                                        \n",
      "                                                                 \n",
      " embed_technique_data_source  multiple                 1070      \n",
      " s (Embedding)                                                   \n",
      "                                                                 \n",
      " embed_technique_defenses_by  multiple                 130       \n",
      " passed (Embedding)                                              \n",
      "                                                                 \n",
      " embed_technique_detection_n  multiple                 1070      \n",
      " ame (Embedding)                                                 \n",
      "                                                                 \n",
      " embed_technique_mitigation_  multiple                 315       \n",
      " id (Embedding)                                                  \n",
      "                                                                 \n",
      " embed_technique_permissions  multiple                 21        \n",
      " _required (Embedding)                                           \n",
      "                                                                 \n",
      " embed_technique_platforms (  multiple                 52        \n",
      " Embedding)                                                      \n",
      "                                                                 \n",
      " embed_technique_software_id  multiple                 15925     \n",
      "  (Embedding)                                                    \n",
      "                                                                 \n",
      " embed_technique_tactics (Em  multiple                 64        \n",
      " bedding)                                                        \n",
      "                                                                 \n",
      " flatten (Flatten)           multiple                  0         \n",
      "                                                                 \n",
      " concatenate (Concatenate)   multiple                  0         \n",
      "                                                                 \n",
      " Group_NN (customNN_2)       (None, 16)                71248     \n",
      "                                                                 \n",
      " Technique_NN (customNN_2)   (None, 16)                2392592   \n",
      "                                                                 \n",
      " dot (Dot)                   multiple                  0         \n",
      "                                                                 \n",
      "=================================================================\n",
      "Total params: 2,492,252\n",
      "Trainable params: 2,492,252\n",
      "Non-trainable params: 0\n",
      "_________________________________________________________________\n"
     ]
    }
   ],
   "source": [
    "model.summary()"
   ]
  }
 ],
 "metadata": {
  "kernelspec": {
   "display_name": "hcv-gt24-env",
   "language": "python",
   "name": "python3"
  },
  "language_info": {
   "codemirror_mode": {
    "name": "ipython",
    "version": 3
   },
   "file_extension": ".py",
   "mimetype": "text/x-python",
   "name": "python",
   "nbconvert_exporter": "python",
   "pygments_lexer": "ipython3",
   "version": "3.11.4"
  }
 },
 "nbformat": 4,
 "nbformat_minor": 2
}
