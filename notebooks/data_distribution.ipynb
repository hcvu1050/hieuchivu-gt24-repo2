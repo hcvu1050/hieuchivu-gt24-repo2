{
 "cells": [
  {
   "cell_type": "code",
   "execution_count": 1,
   "metadata": {},
   "outputs": [],
   "source": [
    "import pandas as pd"
   ]
  },
  {
   "cell_type": "code",
   "execution_count": 5,
   "metadata": {},
   "outputs": [],
   "source": [
    "train_y_df = pd.read_csv ('../data/interim/FINAL_train_y_balanced.csv')\n",
    "cv_y_df = pd.read_csv ('../data/interim/FINAL_cv_y.csv')\n",
    "test_y_df = pd.read_csv ('../data/interim/FINAL_test_y.csv')"
   ]
  },
  {
   "cell_type": "code",
   "execution_count": 12,
   "metadata": {},
   "outputs": [
    {
     "name": "stdout",
     "output_type": "stream",
     "text": [
      "label\n",
      "0.0    59602\n",
      "1.0    59602\n",
      "Name: count, dtype: int64\n",
      "label\n",
      "0.0    9898\n",
      "1.0     421\n",
      "Name: count, dtype: int64\n",
      "label\n",
      "0.0    10000\n",
      "1.0      319\n",
      "Name: count, dtype: int64\n"
     ]
    }
   ],
   "source": [
    "print (train_y_df['label'].value_counts())\n",
    "print (cv_y_df['label'].value_counts())\n",
    "print (test_y_df['label'].value_counts())"
   ]
  },
  {
   "cell_type": "code",
   "execution_count": null,
   "metadata": {},
   "outputs": [],
   "source": []
  }
 ],
 "metadata": {
  "kernelspec": {
   "display_name": "hcv-gt24-env",
   "language": "python",
   "name": "python3"
  },
  "language_info": {
   "codemirror_mode": {
    "name": "ipython",
    "version": 3
   },
   "file_extension": ".py",
   "mimetype": "text/x-python",
   "name": "python",
   "nbconvert_exporter": "python",
   "pygments_lexer": "ipython3",
   "version": "3.11.4"
  },
  "orig_nbformat": 4
 },
 "nbformat": 4,
 "nbformat_minor": 2
}
