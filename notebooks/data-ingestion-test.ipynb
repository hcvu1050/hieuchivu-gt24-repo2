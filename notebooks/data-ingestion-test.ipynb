{
 "cells": [
  {
   "cell_type": "code",
   "execution_count": 1,
   "metadata": {},
   "outputs": [],
   "source": [
    "import sys\n",
    "sys.path.append(\"..\")"
   ]
  },
  {
   "cell_type": "code",
   "execution_count": 2,
   "metadata": {},
   "outputs": [],
   "source": [
    "from src.data.ingestion import collect_data"
   ]
  },
  {
   "cell_type": "code",
   "execution_count": 3,
   "metadata": {},
   "outputs": [
    {
     "name": "stderr",
     "output_type": "stream",
     "text": [
      "parsing techniques: 100%|██████████| 607/607 [00:00<00:00, 1473.63it/s]\n",
      "parsing relationships for type=technique: 100%|██████████| 16530/16530 [00:00<00:00, 76564.09it/s]\n",
      "parsing groups: 100%|██████████| 136/136 [00:00<00:00, 27006.22it/s]\n",
      "parsing relationships for type=group: 100%|██████████| 16530/16530 [00:00<00:00, 102458.99it/s]\n"
     ]
    },
    {
     "name": "stdout",
     "output_type": "stream",
     "text": [
      "files saved to c:\\Users\\vuchi\\GT24\\hieuchivu-gt24-repo2\\data/interim\n",
      "collected_techniques_df.csv\n",
      "collected_techniques_mitigations_df.csv\n",
      "collected_groups_df.csv\n",
      "collected_groups_techniques_df.csv\n",
      "collected_groups_software_df.csv\n"
     ]
    }
   ],
   "source": [
    "techniques_df, techniques_mitigations_df, groups_df, groups_techniques_df, groups_software_df = collect_data()"
   ]
  }
 ],
 "metadata": {
  "kernelspec": {
   "display_name": "hcv-gt24-env",
   "language": "python",
   "name": "python3"
  },
  "language_info": {
   "codemirror_mode": {
    "name": "ipython",
    "version": 3
   },
   "file_extension": ".py",
   "mimetype": "text/x-python",
   "name": "python",
   "nbconvert_exporter": "python",
   "pygments_lexer": "ipython3",
   "version": "3.11.4"
  },
  "orig_nbformat": 4
 },
 "nbformat": 4,
 "nbformat_minor": 2
}
