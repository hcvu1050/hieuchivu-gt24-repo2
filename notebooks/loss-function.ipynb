{
 "cells": [
  {
   "cell_type": "code",
   "execution_count": 101,
   "metadata": {},
   "outputs": [
    {
     "name": "stdout",
     "output_type": "stream",
     "text": [
      "Binary Cross-Entropy Loss: 0.22944289410146546\n"
     ]
    }
   ],
   "source": [
    "import numpy as np\n",
    "\n",
    "def binary_cross_entropy(y_true, y_pred):\n",
    "    \"\"\"\n",
    "    Compute the binary cross-entropy loss.\n",
    "\n",
    "    Args:\n",
    "        y_true (numpy.ndarray): True binary labels (0 or 1).\n",
    "        y_pred (numpy.ndarray): Predicted probabilities (between 0 and 1).\n",
    "\n",
    "    Returns:\n",
    "        float: Binary cross-entropy loss.\n",
    "    \"\"\"\n",
    "    # Ensure that inputs have the same shape\n",
    "    if y_true.shape != y_pred.shape:\n",
    "        raise ValueError(\"Input shapes do not match.\")\n",
    "\n",
    "    # Clip predicted probabilities to avoid log(0) and log(1)\n",
    "    epsilon = 1e-15  # Small constant to avoid numerical instability\n",
    "    y_pred = np.clip(y_pred, epsilon, 1 - epsilon)\n",
    "\n",
    "    # Compute binary cross-entropy loss\n",
    "    loss = - (y_true * np.log(y_pred) + (1 - y_true) * np.log(1 - y_pred)).mean()\n",
    "\n",
    "    return loss\n",
    "\n",
    "# Example usage:\n",
    "y_true = np.array([0, 1, 1, 0, 1])\n",
    "y_pred = np.array([0.1, 0.9, 0.8, 0.3, 0.7])\n",
    "\n",
    "bce_loss = binary_cross_entropy(y_true, y_pred)\n",
    "print(\"Binary Cross-Entropy Loss:\", bce_loss)"
   ]
  },
  {
   "cell_type": "code",
   "execution_count": 102,
   "metadata": {},
   "outputs": [],
   "source": [
    "# unbalanced set\n",
    "num_elements = 100\n",
    "num_ones = 5\n",
    "y_true = np.zeros(num_elements)\n",
    "indices_to_set_as_one = np.random.choice(num_elements, num_ones, replace=False)\n",
    "y_true[indices_to_set_as_one] = 1"
   ]
  },
  {
   "cell_type": "code",
   "execution_count": 103,
   "metadata": {},
   "outputs": [
    {
     "data": {
      "text/plain": [
       "array([0., 0., 0., 0., 0., 0., 0., 0., 0., 0., 0., 0., 0., 0., 0., 0., 0.,\n",
       "       0., 0., 0., 0., 0., 0., 0., 0., 1., 0., 0., 0., 0., 0., 0., 1., 0.,\n",
       "       0., 0., 0., 0., 0., 0., 0., 0., 0., 0., 0., 0., 0., 0., 0., 0., 0.,\n",
       "       0., 0., 0., 0., 0., 1., 0., 0., 0., 0., 0., 0., 0., 0., 0., 0., 0.,\n",
       "       0., 0., 0., 0., 0., 1., 0., 0., 0., 0., 0., 0., 0., 0., 0., 0., 0.,\n",
       "       0., 0., 0., 0., 0., 0., 0., 0., 1., 0., 0., 0., 0., 0., 0.])"
      ]
     },
     "execution_count": 103,
     "metadata": {},
     "output_type": "execute_result"
    }
   ],
   "source": [
    "y_true"
   ]
  },
  {
   "cell_type": "code",
   "execution_count": 104,
   "metadata": {},
   "outputs": [],
   "source": [
    "y_pred = np.zeros (num_elements )"
   ]
  },
  {
   "cell_type": "code",
   "execution_count": 105,
   "metadata": {},
   "outputs": [
    {
     "name": "stdout",
     "output_type": "stream",
     "text": [
      "1.726938819745535\n"
     ]
    }
   ],
   "source": [
    "bce_loss = binary_cross_entropy(y_true, y_pred)\n",
    "print (bce_loss)"
   ]
  },
  {
   "cell_type": "code",
   "execution_count": 106,
   "metadata": {},
   "outputs": [],
   "source": [
    "# balanced set\n",
    "num_elements = 100\n",
    "\n",
    "# Calculate the number of 1's needed for an even distribution\n",
    "num_ones = num_elements // 2\n",
    "\n",
    "# Create a y_true array with an even distribution of 1's and 0's\n",
    "y_true = np.zeros(num_elements)\n",
    "# Set random indices to 1 until we have num_ones 1's\n",
    "indices_to_set_as_one = np.random.choice(num_elements, num_ones, replace=False)\n",
    "y_true[indices_to_set_as_one] = 1\n",
    "\n",
    "y_pred = np.zeros (num_elements)"
   ]
  },
  {
   "cell_type": "code",
   "execution_count": 107,
   "metadata": {},
   "outputs": [
    {
     "name": "stdout",
     "output_type": "stream",
     "text": [
      "17.269388197455342\n"
     ]
    }
   ],
   "source": [
    "bce_loss = binary_cross_entropy(y_true, y_pred)\n",
    "print (bce_loss)"
   ]
  },
  {
   "cell_type": "code",
   "execution_count": null,
   "metadata": {},
   "outputs": [],
   "source": []
  }
 ],
 "metadata": {
  "kernelspec": {
   "display_name": "hcv-gt24-env",
   "language": "python",
   "name": "python3"
  },
  "language_info": {
   "codemirror_mode": {
    "name": "ipython",
    "version": 3
   },
   "file_extension": ".py",
   "mimetype": "text/x-python",
   "name": "python",
   "nbconvert_exporter": "python",
   "pygments_lexer": "ipython3",
   "version": "3.11.4"
  },
  "orig_nbformat": 4
 },
 "nbformat": 4,
 "nbformat_minor": 2
}
