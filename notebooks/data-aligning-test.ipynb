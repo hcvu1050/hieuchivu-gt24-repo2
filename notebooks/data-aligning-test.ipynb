{
 "cells": [
  {
   "cell_type": "code",
   "execution_count": 1,
   "metadata": {},
   "outputs": [],
   "source": [
    "import pandas as pd\n",
    "import sys\n",
    "sys.path.append(\"..\")"
   ]
  },
  {
   "cell_type": "code",
   "execution_count": 2,
   "metadata": {},
   "outputs": [],
   "source": [
    "target_df = pd.read_csv('../data/interim/split_by_group_train_df.csv')"
   ]
  },
  {
   "cell_type": "code",
   "execution_count": 3,
   "metadata": {},
   "outputs": [],
   "source": [
    "feature_df = pd.read_csv ('../data/interim/cleaned_group_features_df.csv')"
   ]
  },
  {
   "cell_type": "code",
   "execution_count": 4,
   "metadata": {},
   "outputs": [
    {
     "name": "stdout",
     "output_type": "stream",
     "text": [
      "Finished: files saved to c:\\Users\\vuchi\\GT24\\hieuchivu-gt24-repo2\\data/interim\n",
      "\tsplitted_group_features.csv\n"
     ]
    },
    {
     "data": {
      "text/html": [
       "<div>\n",
       "<style scoped>\n",
       "    .dataframe tbody tr th:only-of-type {\n",
       "        vertical-align: middle;\n",
       "    }\n",
       "\n",
       "    .dataframe tbody tr th {\n",
       "        vertical-align: top;\n",
       "    }\n",
       "\n",
       "    .dataframe thead th {\n",
       "        text-align: right;\n",
       "    }\n",
       "</style>\n",
       "<table border=\"1\" class=\"dataframe\">\n",
       "  <thead>\n",
       "    <tr style=\"text-align: right;\">\n",
       "      <th></th>\n",
       "      <th>group_ID</th>\n",
       "      <th>software_ID</th>\n",
       "    </tr>\n",
       "  </thead>\n",
       "  <tbody>\n",
       "    <tr>\n",
       "      <th>0</th>\n",
       "      <td>G0099</td>\n",
       "      <td>S0434</td>\n",
       "    </tr>\n",
       "    <tr>\n",
       "      <th>1</th>\n",
       "      <td>G0099</td>\n",
       "      <td>S0434</td>\n",
       "    </tr>\n",
       "    <tr>\n",
       "      <th>2</th>\n",
       "      <td>G0099</td>\n",
       "      <td>S0434</td>\n",
       "    </tr>\n",
       "    <tr>\n",
       "      <th>3</th>\n",
       "      <td>G0099</td>\n",
       "      <td>S0434</td>\n",
       "    </tr>\n",
       "    <tr>\n",
       "      <th>4</th>\n",
       "      <td>G0099</td>\n",
       "      <td>S0434</td>\n",
       "    </tr>\n",
       "    <tr>\n",
       "      <th>...</th>\n",
       "      <td>...</td>\n",
       "      <td>...</td>\n",
       "    </tr>\n",
       "    <tr>\n",
       "      <th>345985</th>\n",
       "      <td>G0018</td>\n",
       "      <td>S0039</td>\n",
       "    </tr>\n",
       "    <tr>\n",
       "      <th>345986</th>\n",
       "      <td>G0018</td>\n",
       "      <td>S0012</td>\n",
       "    </tr>\n",
       "    <tr>\n",
       "      <th>345987</th>\n",
       "      <td>G0018</td>\n",
       "      <td>S0096</td>\n",
       "    </tr>\n",
       "    <tr>\n",
       "      <th>345988</th>\n",
       "      <td>G0018</td>\n",
       "      <td>S0100</td>\n",
       "    </tr>\n",
       "    <tr>\n",
       "      <th>345989</th>\n",
       "      <td>G0018</td>\n",
       "      <td>S0104</td>\n",
       "    </tr>\n",
       "  </tbody>\n",
       "</table>\n",
       "<p>345990 rows × 2 columns</p>\n",
       "</div>"
      ],
      "text/plain": [
       "       group_ID software_ID\n",
       "0         G0099       S0434\n",
       "1         G0099       S0434\n",
       "2         G0099       S0434\n",
       "3         G0099       S0434\n",
       "4         G0099       S0434\n",
       "...         ...         ...\n",
       "345985    G0018       S0039\n",
       "345986    G0018       S0012\n",
       "345987    G0018       S0096\n",
       "345988    G0018       S0100\n",
       "345989    G0018       S0104\n",
       "\n",
       "[345990 rows x 2 columns]"
      ]
     },
     "execution_count": 4,
     "metadata": {},
     "output_type": "execute_result"
    }
   ],
   "source": [
    "from src.data.aligning import align_data\n",
    "\n",
    "align_data (feature_df= feature_df, target_df= target_df, object= 'group')"
   ]
  },
  {
   "cell_type": "code",
   "execution_count": null,
   "metadata": {},
   "outputs": [],
   "source": []
  }
 ],
 "metadata": {
  "kernelspec": {
   "display_name": "hcv-gt24-env",
   "language": "python",
   "name": "python3"
  },
  "language_info": {
   "codemirror_mode": {
    "name": "ipython",
    "version": 3
   },
   "file_extension": ".py",
   "mimetype": "text/x-python",
   "name": "python",
   "nbconvert_exporter": "python",
   "pygments_lexer": "ipython3",
   "version": "3.11.4"
  },
  "orig_nbformat": 4
 },
 "nbformat": 4,
 "nbformat_minor": 2
}
