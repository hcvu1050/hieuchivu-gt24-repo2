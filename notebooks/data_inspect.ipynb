{
 "cells": [
  {
   "cell_type": "markdown",
   "metadata": {},
   "source": [
    "last update: 2023-09-26"
   ]
  },
  {
   "cell_type": "code",
   "execution_count": 1,
   "metadata": {},
   "outputs": [],
   "source": [
    "import pandas as pd"
   ]
  },
  {
   "cell_type": "code",
   "execution_count": 4,
   "metadata": {},
   "outputs": [],
   "source": [
    "train_y_df = pd.read_csv ('../data/processed/model1/train_y_oversampled.csv')\n",
    "# train_cv_y_df = pd.read_csv ('../data/processed/model1/train_cv_y_oversampled.csv')\n",
    "cv_y_df = pd.read_csv ('../data/processed/model1/cv_y_split.csv')\n",
    "test_y_df = pd.read_csv ('../data/processed/model1/test_y_split.csv')"
   ]
  },
  {
   "cell_type": "markdown",
   "metadata": {},
   "source": [
    "### 1- Check the tables' shapes, number of groups and number of each labels"
   ]
  },
  {
   "cell_type": "code",
   "execution_count": 5,
   "metadata": {},
   "outputs": [
    {
     "name": "stdout",
     "output_type": "stream",
     "text": [
      "(110984, 3) no. of groups: 95\n",
      "label\n",
      "0.0    55492\n",
      "1.0    55492\n",
      "Name: count, dtype: int64\n",
      "(12140, 3) no. of groups: 20\n",
      "label\n",
      "0.0    11848\n",
      "1.0      292\n",
      "Name: count, dtype: int64\n",
      "(12747, 3) no. of groups: 21\n",
      "label\n",
      "0.0    12160\n",
      "1.0      587\n",
      "Name: count, dtype: int64\n"
     ]
    }
   ],
   "source": [
    "for df in [train_y_df, cv_y_df, test_y_df]:\n",
    "    print (df.shape, 'no. of groups: {n}'.format(n =  df['group_ID'].nunique()))\n",
    "    print (df['label'].value_counts())"
   ]
  },
  {
   "cell_type": "markdown",
   "metadata": {},
   "source": [
    "### 2- Check if there is any data of the same group that is shared between tables."
   ]
  },
  {
   "cell_type": "code",
   "execution_count": 6,
   "metadata": {},
   "outputs": [
    {
     "ename": "NameError",
     "evalue": "name 'train_cv_y_df' is not defined",
     "output_type": "error",
     "traceback": [
      "\u001b[1;31m---------------------------------------------------------------------------\u001b[0m",
      "\u001b[1;31mNameError\u001b[0m                                 Traceback (most recent call last)",
      "\u001b[1;32mc:\\Users\\vuchi\\GT24\\hieuchivu-gt24-repo2\\notebooks\\data_inspect.ipynb Cell 7\u001b[0m line \u001b[0;36m1\n\u001b[1;32m----> <a href='vscode-notebook-cell:/c%3A/Users/vuchi/GT24/hieuchivu-gt24-repo2/notebooks/data_inspect.ipynb#W6sZmlsZQ%3D%3D?line=0'>1</a>\u001b[0m similar_groups \u001b[39m=\u001b[39m train_y_df[\u001b[39m'\u001b[39m\u001b[39mgroup_ID\u001b[39m\u001b[39m'\u001b[39m]\u001b[39m.\u001b[39misin(train_cv_y_df[\u001b[39m'\u001b[39m\u001b[39mgroup_ID\u001b[39m\u001b[39m'\u001b[39m])\n\u001b[0;32m      <a href='vscode-notebook-cell:/c%3A/Users/vuchi/GT24/hieuchivu-gt24-repo2/notebooks/data_inspect.ipynb#W6sZmlsZQ%3D%3D?line=1'>2</a>\u001b[0m \u001b[39mif\u001b[39;00m similar_groups\u001b[39m.\u001b[39many():\n\u001b[0;32m      <a href='vscode-notebook-cell:/c%3A/Users/vuchi/GT24/hieuchivu-gt24-repo2/notebooks/data_inspect.ipynb#W6sZmlsZQ%3D%3D?line=2'>3</a>\u001b[0m     \u001b[39mprint\u001b[39m (similar_groups)\n",
      "\u001b[1;31mNameError\u001b[0m: name 'train_cv_y_df' is not defined"
     ]
    }
   ],
   "source": [
    "# similar_groups = train_y_df['group_ID'].isin(train_cv_y_df['group_ID'])\n",
    "# if similar_groups.any():\n",
    "#     print (similar_groups)\n",
    "\n",
    "# similar_groups = train_cv_y_df['group_ID'].isin(cv_y_df['group_ID'])\n",
    "# if similar_groups.any():\n",
    "#     print (similar_groups)\n",
    "    \n",
    "# similar_groups = train_cv_y_df['group_ID'].isin(cv_y_df['group_ID'])\n",
    "# if similar_groups.any():\n",
    "#     print (similar_groups)\n",
    "\n",
    "# similar_groups = cv_y_df['group_ID'].isin(test_y_df['group_ID'])\n",
    "# if similar_groups.any():\n",
    "#     print (similar_groups)"
   ]
  },
  {
   "cell_type": "code",
   "execution_count": null,
   "metadata": {},
   "outputs": [],
   "source": [
    "similar_groups = train_y_df['group_ID'].isin(cv_y_df['group_ID'])\n",
    "if similar_groups.any():\n",
    "    print (similar_groups)\n",
    "\n",
    "\n",
    "\n",
    "similar_groups = cv_y_df['group_ID'].isin(test_y_df['group_ID'])\n",
    "if similar_groups.any():\n",
    "    print (similar_groups)"
   ]
  }
 ],
 "metadata": {
  "kernelspec": {
   "display_name": "hcv-gt24-env",
   "language": "python",
   "name": "python3"
  },
  "language_info": {
   "codemirror_mode": {
    "name": "ipython",
    "version": 3
   },
   "file_extension": ".py",
   "mimetype": "text/x-python",
   "name": "python",
   "nbconvert_exporter": "python",
   "pygments_lexer": "ipython3",
   "version": "3.11.4"
  },
  "orig_nbformat": 4
 },
 "nbformat": 4,
 "nbformat_minor": 2
}
