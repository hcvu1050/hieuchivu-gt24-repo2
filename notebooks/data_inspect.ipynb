{
 "cells": [
  {
   "cell_type": "code",
   "execution_count": 2,
   "metadata": {},
   "outputs": [],
   "source": [
    "import pandas as pd"
   ]
  },
  {
   "cell_type": "code",
   "execution_count": 4,
   "metadata": {},
   "outputs": [],
   "source": [
    "train_y_df = pd.read_csv ('../data/processed/model1/train_y_oversampled.csv')\n",
    "train_cv_y_df = pd.read_csv ('../data/processed/model1/train_cv_y_oversampled.csv')\n",
    "cv_y_df = pd.read_csv ('../data/processed/model1/cv_y_split.csv')\n",
    "test_y_df = pd.read_csv ('../data/processed/model1/test_y_split.csv')"
   ]
  },
  {
   "cell_type": "markdown",
   "metadata": {},
   "source": [
    "### 1- Check the tables' shapes, number of groups and number of each labels"
   ]
  },
  {
   "cell_type": "code",
   "execution_count": 19,
   "metadata": {},
   "outputs": [
    {
     "name": "stdout",
     "output_type": "stream",
     "text": [
      "(86420, 3) no. of groups: 74\n",
      "label\n",
      "0.0    43210\n",
      "1.0    43210\n",
      "Name: count, dtype: int64\n",
      "(23356, 3) no. of groups: 20\n",
      "label\n",
      "0.0    11678\n",
      "1.0    11678\n",
      "Name: count, dtype: int64\n",
      "(12747, 3) no. of groups: 21\n",
      "label\n",
      "0.0    12457\n",
      "1.0      290\n",
      "Name: count, dtype: int64\n",
      "(12747, 3) no. of groups: 21\n",
      "label\n",
      "0.0    12155\n",
      "1.0      592\n",
      "Name: count, dtype: int64\n"
     ]
    }
   ],
   "source": [
    "for df in [train_y_df, train_cv_y_df, cv_y_df, test_y_df]:\n",
    "    print (df.shape, 'no. of groups:', df['group_ID'].nunique())\n",
    "    print (df['label'].value_counts())"
   ]
  },
  {
   "cell_type": "markdown",
   "metadata": {},
   "source": [
    "### 2- Check if there is any data of the same group that is shared between tables."
   ]
  },
  {
   "cell_type": "code",
   "execution_count": 22,
   "metadata": {},
   "outputs": [],
   "source": [
    "similar_groups = train_y_df['group_ID'].isin(train_cv_y_df['group_ID'])\n",
    "if similar_groups.any():\n",
    "    print (similar_groups)\n",
    "\n",
    "similar_groups = train_cv_y_df['group_ID'].isin(cv_y_df['group_ID'])\n",
    "if similar_groups.any():\n",
    "    print (similar_groups)\n",
    "    \n",
    "similar_groups = train_cv_y_df['group_ID'].isin(cv_y_df['group_ID'])\n",
    "if similar_groups.any():\n",
    "    print (similar_groups)\n",
    "\n",
    "similar_groups = cv_y_df['group_ID'].isin(test_y_df['group_ID'])\n",
    "if similar_groups.any():\n",
    "    print (similar_groups)"
   ]
  }
 ],
 "metadata": {
  "kernelspec": {
   "display_name": "hcv-gt24-env",
   "language": "python",
   "name": "python3"
  },
  "language_info": {
   "codemirror_mode": {
    "name": "ipython",
    "version": 3
   },
   "file_extension": ".py",
   "mimetype": "text/x-python",
   "name": "python",
   "nbconvert_exporter": "python",
   "pygments_lexer": "ipython3",
   "version": "3.11.4"
  },
  "orig_nbformat": 4
 },
 "nbformat": 4,
 "nbformat_minor": 2
}
