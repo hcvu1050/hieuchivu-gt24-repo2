{
 "cells": [
  {
   "cell_type": "markdown",
   "metadata": {},
   "source": [
    "last update: 2023-09-26"
   ]
  },
  {
   "cell_type": "code",
   "execution_count": 29,
   "metadata": {},
   "outputs": [],
   "source": [
    "import pandas as pd"
   ]
  },
  {
   "cell_type": "code",
   "execution_count": 30,
   "metadata": {},
   "outputs": [],
   "source": [
    "train_y_df = pd.read_csv ('../data/processed/model1/train_y_split.csv')\n",
    "train_cv_y_df = pd.read_csv ('../data/processed/model1/train_cv_y_split.csv')\n",
    "cv_y_df = pd.read_csv ('../data/processed/model1/cv_y_split.csv')\n",
    "test_y_df = pd.read_csv ('../data/processed/model1/test_y_split.csv')\n",
    "\n",
    "test_X_group_df = pd.read_csv ('../data/processed/model1/test_X_group_aligned.csv')\n",
    "test_X_technique_df = pd.read_csv ('../data/processed/model1/test_X_technique_aligned.csv')\n"
   ]
  },
  {
   "cell_type": "markdown",
   "metadata": {},
   "source": [
    "# 1- Check the tables' shapes, number of groups and number of each labels"
   ]
  },
  {
   "cell_type": "code",
   "execution_count": 31,
   "metadata": {},
   "outputs": [
    {
     "name": "stdout",
     "output_type": "stream",
     "text": [
      "(36860, 3) no. of groups: 95\n",
      "label\n",
      "0.0    34687\n",
      "1.0     2173\n",
      "Name: count, dtype: int64\n",
      "(5044, 3) no. of groups: 13\n",
      "label\n",
      "0.0    4863\n",
      "1.0     181\n",
      "Name: count, dtype: int64\n",
      "(5432, 3) no. of groups: 14\n",
      "label\n",
      "0.0    5067\n",
      "1.0     365\n",
      "Name: count, dtype: int64\n",
      "(5432, 3) no. of groups: 14\n",
      "label\n",
      "0.0    5099\n",
      "1.0     333\n",
      "Name: count, dtype: int64\n"
     ]
    }
   ],
   "source": [
    "for df in [train_y_df, train_cv_y_df,cv_y_df, test_y_df]:\n",
    "    print (df.shape, 'no. of groups: {n}'.format(n =  df['group_ID'].nunique()))\n",
    "    print (df['label'].value_counts())"
   ]
  },
  {
   "cell_type": "code",
   "execution_count": 32,
   "metadata": {},
   "outputs": [
    {
     "name": "stdout",
     "output_type": "stream",
     "text": [
      "(5432, 2)\n",
      "(5432, 9)\n"
     ]
    }
   ],
   "source": [
    "print (test_X_group_df.shape)\n",
    "print (test_X_technique_df.shape)"
   ]
  },
  {
   "cell_type": "markdown",
   "metadata": {},
   "source": [
    "## 1b- Check Resampled labels"
   ]
  },
  {
   "cell_type": "code",
   "execution_count": 33,
   "metadata": {},
   "outputs": [],
   "source": [
    "train_y_resampled_df = pd.read_csv ('../data/processed/model1/train_y_resampled.csv')\n",
    "train_cv_y_resampled_df = pd.read_csv ('../data/processed/model1/train_cv_y_resampled.csv')"
   ]
  },
  {
   "cell_type": "code",
   "execution_count": 34,
   "metadata": {},
   "outputs": [
    {
     "name": "stdout",
     "output_type": "stream",
     "text": [
      "(9416, 3) no. of groups: 95\n",
      "label\n",
      "0.0    7243\n",
      "1.0    2173\n",
      "Name: count, dtype: int64\n",
      "(784, 3) no. of groups: 13\n",
      "label\n",
      "0.0    603\n",
      "1.0    181\n",
      "Name: count, dtype: int64\n"
     ]
    }
   ],
   "source": [
    "for df in [train_y_resampled_df, train_cv_y_resampled_df]:\n",
    "    print (df.shape, 'no. of groups: {n}'.format(n =  df['group_ID'].nunique()))\n",
    "    print (df['label'].value_counts())"
   ]
  },
  {
   "cell_type": "markdown",
   "metadata": {},
   "source": [
    "### 2- Check if there is any data of the same group that is shared between tables."
   ]
  },
  {
   "cell_type": "code",
   "execution_count": 35,
   "metadata": {},
   "outputs": [],
   "source": [
    "# similar_groups = train_y_df['group_ID'].isin(train_cv_y_df['group_ID'])\n",
    "# if similar_groups.any():\n",
    "#     print (similar_groups)\n",
    "\n",
    "# similar_groups = train_cv_y_df['group_ID'].isin(cv_y_df['group_ID'])\n",
    "# if similar_groups.any():\n",
    "#     print (similar_groups)\n",
    "    \n",
    "# similar_groups = train_cv_y_df['group_ID'].isin(cv_y_df['group_ID'])\n",
    "# if similar_groups.any():\n",
    "#     print (similar_groups)\n",
    "\n",
    "# similar_groups = cv_y_df['group_ID'].isin(test_y_df['group_ID'])\n",
    "# if similar_groups.any():\n",
    "#     print (similar_groups)"
   ]
  },
  {
   "cell_type": "code",
   "execution_count": 36,
   "metadata": {},
   "outputs": [],
   "source": [
    "similar_groups = train_y_df['group_ID'].isin(cv_y_df['group_ID'])\n",
    "if similar_groups.any():\n",
    "    print (similar_groups)\n",
    "\n",
    "\n",
    "\n",
    "similar_groups = cv_y_df['group_ID'].isin(test_y_df['group_ID'])\n",
    "if similar_groups.any():\n",
    "    print (similar_groups)"
   ]
  },
  {
   "cell_type": "markdown",
   "metadata": {},
   "source": [
    "# 3- Check if unused Techniques are in interaction matrix"
   ]
  },
  {
   "cell_type": "markdown",
   "metadata": {},
   "source": [
    "There are *388* Techniques that are used by at least one Group"
   ]
  },
  {
   "cell_type": "code",
   "execution_count": 37,
   "metadata": {},
   "outputs": [],
   "source": [
    "# t_Ids = pd.read_csv ('../data/interim/X_technique_onehot.csv')"
   ]
  },
  {
   "cell_type": "code",
   "execution_count": 38,
   "metadata": {},
   "outputs": [],
   "source": [
    "# t_Ids.info()"
   ]
  },
  {
   "cell_type": "code",
   "execution_count": 39,
   "metadata": {},
   "outputs": [],
   "source": [
    "y_cleaned = pd.read_csv('../data/interim/y_cleaned.csv')"
   ]
  },
  {
   "cell_type": "code",
   "execution_count": 40,
   "metadata": {},
   "outputs": [
    {
     "data": {
      "text/plain": [
       "388"
      ]
     },
     "execution_count": 40,
     "metadata": {},
     "output_type": "execute_result"
    }
   ],
   "source": [
    "y_cleaned['technique_ID'].nunique()"
   ]
  },
  {
   "cell_type": "code",
   "execution_count": 41,
   "metadata": {},
   "outputs": [
    {
     "name": "stdout",
     "output_type": "stream",
     "text": [
      "<class 'pandas.core.frame.DataFrame'>\n",
      "RangeIndex: 52768 entries, 0 to 52767\n",
      "Data columns (total 3 columns):\n",
      " #   Column        Non-Null Count  Dtype  \n",
      "---  ------        --------------  -----  \n",
      " 0   group_ID      52768 non-null  object \n",
      " 1   technique_ID  52768 non-null  object \n",
      " 2   label         52768 non-null  float64\n",
      "dtypes: float64(1), object(2)\n",
      "memory usage: 1.2+ MB\n"
     ]
    }
   ],
   "source": [
    "y_cleaned.info()"
   ]
  }
 ],
 "metadata": {
  "kernelspec": {
   "display_name": "hcv-gt24-env",
   "language": "python",
   "name": "python3"
  },
  "language_info": {
   "codemirror_mode": {
    "name": "ipython",
    "version": 3
   },
   "file_extension": ".py",
   "mimetype": "text/x-python",
   "name": "python",
   "nbconvert_exporter": "python",
   "pygments_lexer": "ipython3",
   "version": "3.11.4"
  },
  "orig_nbformat": 4
 },
 "nbformat": 4,
 "nbformat_minor": 2
}
