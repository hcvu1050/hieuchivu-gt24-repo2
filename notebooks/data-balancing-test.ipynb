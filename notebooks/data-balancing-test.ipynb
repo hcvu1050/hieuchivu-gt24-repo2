{
 "cells": [
  {
   "cell_type": "code",
   "execution_count": 3,
   "metadata": {},
   "outputs": [],
   "source": [
    "import sys\n",
    "sys.path.append(\"..\")\n",
    "from src.data.balancing import naive_random_oversampling"
   ]
  },
  {
   "cell_type": "code",
   "execution_count": 4,
   "metadata": {},
   "outputs": [
    {
     "name": "stdout",
     "output_type": "stream",
     "text": [
      "Finished: files saved to c:\\Users\\vuchi\\GT24\\hieuchivu-gt24-repo2\\data/interim\n",
      "\tnaive_random_oversampled_interaction_matrix.csv\n"
     ]
    },
    {
     "data": {
      "text/html": [
       "<div>\n",
       "<style scoped>\n",
       "    .dataframe tbody tr th:only-of-type {\n",
       "        vertical-align: middle;\n",
       "    }\n",
       "\n",
       "    .dataframe tbody tr th {\n",
       "        vertical-align: top;\n",
       "    }\n",
       "\n",
       "    .dataframe thead th {\n",
       "        text-align: right;\n",
       "    }\n",
       "</style>\n",
       "<table border=\"1\" class=\"dataframe\">\n",
       "  <thead>\n",
       "    <tr style=\"text-align: right;\">\n",
       "      <th></th>\n",
       "      <th>group_ID</th>\n",
       "      <th>technique_ID</th>\n",
       "      <th>target</th>\n",
       "    </tr>\n",
       "  </thead>\n",
       "  <tbody>\n",
       "    <tr>\n",
       "      <th>0</th>\n",
       "      <td>G0099</td>\n",
       "      <td>T1548</td>\n",
       "      <td>0.0</td>\n",
       "    </tr>\n",
       "    <tr>\n",
       "      <th>1</th>\n",
       "      <td>G0099</td>\n",
       "      <td>T1548.002</td>\n",
       "      <td>0.0</td>\n",
       "    </tr>\n",
       "    <tr>\n",
       "      <th>2</th>\n",
       "      <td>G0099</td>\n",
       "      <td>T1548.004</td>\n",
       "      <td>0.0</td>\n",
       "    </tr>\n",
       "    <tr>\n",
       "      <th>3</th>\n",
       "      <td>G0099</td>\n",
       "      <td>T1548.001</td>\n",
       "      <td>0.0</td>\n",
       "    </tr>\n",
       "    <tr>\n",
       "      <th>4</th>\n",
       "      <td>G0099</td>\n",
       "      <td>T1548.003</td>\n",
       "      <td>0.0</td>\n",
       "    </tr>\n",
       "    <tr>\n",
       "      <th>...</th>\n",
       "      <td>...</td>\n",
       "      <td>...</td>\n",
       "      <td>...</td>\n",
       "    </tr>\n",
       "    <tr>\n",
       "      <th>158995</th>\n",
       "      <td>G0022</td>\n",
       "      <td>T1543.003</td>\n",
       "      <td>1.0</td>\n",
       "    </tr>\n",
       "    <tr>\n",
       "      <th>158996</th>\n",
       "      <td>G1001</td>\n",
       "      <td>T1204.002</td>\n",
       "      <td>1.0</td>\n",
       "    </tr>\n",
       "    <tr>\n",
       "      <th>158997</th>\n",
       "      <td>G0022</td>\n",
       "      <td>T1104</td>\n",
       "      <td>1.0</td>\n",
       "    </tr>\n",
       "    <tr>\n",
       "      <th>158998</th>\n",
       "      <td>G0007</td>\n",
       "      <td>T1039</td>\n",
       "      <td>1.0</td>\n",
       "    </tr>\n",
       "    <tr>\n",
       "      <th>158999</th>\n",
       "      <td>G0094</td>\n",
       "      <td>T1021.001</td>\n",
       "      <td>1.0</td>\n",
       "    </tr>\n",
       "  </tbody>\n",
       "</table>\n",
       "<p>159000 rows × 3 columns</p>\n",
       "</div>"
      ],
      "text/plain": [
       "       group_ID technique_ID  target\n",
       "0         G0099        T1548     0.0\n",
       "1         G0099    T1548.002     0.0\n",
       "2         G0099    T1548.004     0.0\n",
       "3         G0099    T1548.001     0.0\n",
       "4         G0099    T1548.003     0.0\n",
       "...         ...          ...     ...\n",
       "158995    G0022    T1543.003     1.0\n",
       "158996    G1001    T1204.002     1.0\n",
       "158997    G0022        T1104     1.0\n",
       "158998    G0007        T1039     1.0\n",
       "158999    G0094    T1021.001     1.0\n",
       "\n",
       "[159000 rows x 3 columns]"
      ]
     },
     "execution_count": 4,
     "metadata": {},
     "output_type": "execute_result"
    }
   ],
   "source": [
    "naive_random_oversampling()"
   ]
  },
  {
   "cell_type": "code",
   "execution_count": null,
   "metadata": {},
   "outputs": [],
   "source": []
  }
 ],
 "metadata": {
  "kernelspec": {
   "display_name": "hcv-gt24-env",
   "language": "python",
   "name": "python3"
  },
  "language_info": {
   "codemirror_mode": {
    "name": "ipython",
    "version": 3
   },
   "file_extension": ".py",
   "mimetype": "text/x-python",
   "name": "python",
   "nbconvert_exporter": "python",
   "pygments_lexer": "ipython3",
   "version": "3.11.4"
  },
  "orig_nbformat": 4
 },
 "nbformat": 4,
 "nbformat_minor": 2
}
