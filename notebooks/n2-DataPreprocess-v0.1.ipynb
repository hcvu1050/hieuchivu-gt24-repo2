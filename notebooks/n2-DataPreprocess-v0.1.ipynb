{
 "cells": [
  {
   "cell_type": "markdown",
   "metadata": {},
   "source": [
    "# One-hot encoding features"
   ]
  },
  {
   "cell_type": "code",
   "execution_count": 1,
   "metadata": {},
   "outputs": [],
   "source": [
    "import pandas as pd\n"
   ]
  },
  {
   "cell_type": "markdown",
   "metadata": {},
   "source": [
    "- Import from `fetched_data`"
   ]
  },
  {
   "cell_type": "code",
   "execution_count": 3,
   "metadata": {},
   "outputs": [],
   "source": [
    "techniques_df               = pd.read_csv('data/fetched_data/techniques_df.csv')\n",
    "techniques_mitigations_df   = pd.read_csv('data/fetched_data/techniques_mitigations_df.csv')\n",
    "groups_df                   = pd.read_csv('data/fetched_data/groups_df.csv')\n",
    "groups_techniques_df        = pd.read_csv('data/fetched_data/groups_techniques_df.csv')\n",
    "groups_software_df          = pd.read_csv('data/fetched_data/groups_software_df.csv')\n",
    "tactics_df                  = pd.read_csv('data/fetched_data/tactics_df.csv')\n",
    "software_df                 = pd.read_csv('data/fetched_data/software_df.csv')\n",
    "software_groups_df          = pd.read_csv('data/fetched_data/software_groups_df.csv')\n"
   ]
  },
  {
   "cell_type": "markdown",
   "metadata": {},
   "source": [
    "# 1- Group-Technique matrix (user-item)\n",
    "- each line of the matrix represents a Group-Technique relationship"
   ]
  },
  {
   "cell_type": "code",
   "execution_count": 4,
   "metadata": {},
   "outputs": [
    {
     "data": {
      "text/html": [
       "<div>\n",
       "<style scoped>\n",
       "    .dataframe tbody tr th:only-of-type {\n",
       "        vertical-align: middle;\n",
       "    }\n",
       "\n",
       "    .dataframe tbody tr th {\n",
       "        vertical-align: top;\n",
       "    }\n",
       "\n",
       "    .dataframe thead th {\n",
       "        text-align: right;\n",
       "    }\n",
       "</style>\n",
       "<table border=\"1\" class=\"dataframe\">\n",
       "  <thead>\n",
       "    <tr style=\"text-align: right;\">\n",
       "      <th></th>\n",
       "      <th>group ID</th>\n",
       "      <th>technique ID</th>\n",
       "    </tr>\n",
       "  </thead>\n",
       "  <tbody>\n",
       "    <tr>\n",
       "      <th>0</th>\n",
       "      <td>G0099</td>\n",
       "      <td>T1105</td>\n",
       "    </tr>\n",
       "    <tr>\n",
       "      <th>1</th>\n",
       "      <td>G0099</td>\n",
       "      <td>T1204.002</td>\n",
       "    </tr>\n",
       "    <tr>\n",
       "      <th>2</th>\n",
       "      <td>G0099</td>\n",
       "      <td>T1036.004</td>\n",
       "    </tr>\n",
       "    <tr>\n",
       "      <th>3</th>\n",
       "      <td>G0099</td>\n",
       "      <td>T1571</td>\n",
       "    </tr>\n",
       "    <tr>\n",
       "      <th>4</th>\n",
       "      <td>G0099</td>\n",
       "      <td>T1027</td>\n",
       "    </tr>\n",
       "  </tbody>\n",
       "</table>\n",
       "</div>"
      ],
      "text/plain": [
       "  group ID technique ID\n",
       "0    G0099        T1105\n",
       "1    G0099    T1204.002\n",
       "2    G0099    T1036.004\n",
       "3    G0099        T1571\n",
       "4    G0099        T1027"
      ]
     },
     "execution_count": 4,
     "metadata": {},
     "output_type": "execute_result"
    }
   ],
   "source": [
    "g_t_df = groups_techniques_df [['source ID', 'target ID',]]\n",
    "g_t_df.columns = ['group ID', 'technique ID']\n",
    "g_t_df.head()"
   ]
  },
  {
   "cell_type": "markdown",
   "metadata": {},
   "source": [
    "---\n",
    "# 2- Group: constructing features"
   ]
  },
  {
   "cell_type": "markdown",
   "metadata": {},
   "source": [
    "- Turn software into one-hot feature for groups\n",
    "- Two dataframes to merge based on group ID are\n",
    "    1. group id list\n",
    "    2. group - software one-hot encoded"
   ]
  },
  {
   "cell_type": "code",
   "execution_count": 5,
   "metadata": {},
   "outputs": [
    {
     "data": {
      "text/html": [
       "<div>\n",
       "<style scoped>\n",
       "    .dataframe tbody tr th:only-of-type {\n",
       "        vertical-align: middle;\n",
       "    }\n",
       "\n",
       "    .dataframe tbody tr th {\n",
       "        vertical-align: top;\n",
       "    }\n",
       "\n",
       "    .dataframe thead th {\n",
       "        text-align: right;\n",
       "    }\n",
       "</style>\n",
       "<table border=\"1\" class=\"dataframe\">\n",
       "  <thead>\n",
       "    <tr style=\"text-align: right;\">\n",
       "      <th></th>\n",
       "      <th>source ID</th>\n",
       "      <th>source name</th>\n",
       "      <th>source type</th>\n",
       "      <th>mapping type</th>\n",
       "      <th>target ID</th>\n",
       "      <th>target name</th>\n",
       "      <th>target type</th>\n",
       "      <th>mapping description</th>\n",
       "    </tr>\n",
       "  </thead>\n",
       "  <tbody>\n",
       "    <tr>\n",
       "      <th>0</th>\n",
       "      <td>G0099</td>\n",
       "      <td>APT-C-36</td>\n",
       "      <td>group</td>\n",
       "      <td>uses</td>\n",
       "      <td>S0434</td>\n",
       "      <td>Imminent Monitor</td>\n",
       "      <td>software</td>\n",
       "      <td>(Citation: QiAnXin APT-C-36 Feb2019)</td>\n",
       "    </tr>\n",
       "    <tr>\n",
       "      <th>1</th>\n",
       "      <td>G0006</td>\n",
       "      <td>APT1</td>\n",
       "      <td>group</td>\n",
       "      <td>uses</td>\n",
       "      <td>S0017</td>\n",
       "      <td>BISCUIT</td>\n",
       "      <td>software</td>\n",
       "      <td>(Citation: Mandiant APT1)</td>\n",
       "    </tr>\n",
       "    <tr>\n",
       "      <th>2</th>\n",
       "      <td>G0006</td>\n",
       "      <td>APT1</td>\n",
       "      <td>group</td>\n",
       "      <td>uses</td>\n",
       "      <td>S0025</td>\n",
       "      <td>CALENDAR</td>\n",
       "      <td>software</td>\n",
       "      <td>(Citation: Mandiant APT1)</td>\n",
       "    </tr>\n",
       "    <tr>\n",
       "      <th>3</th>\n",
       "      <td>G0006</td>\n",
       "      <td>APT1</td>\n",
       "      <td>group</td>\n",
       "      <td>uses</td>\n",
       "      <td>S0119</td>\n",
       "      <td>Cachedump</td>\n",
       "      <td>software</td>\n",
       "      <td>(Citation: Mandiant APT1)</td>\n",
       "    </tr>\n",
       "    <tr>\n",
       "      <th>4</th>\n",
       "      <td>G0006</td>\n",
       "      <td>APT1</td>\n",
       "      <td>group</td>\n",
       "      <td>uses</td>\n",
       "      <td>S0026</td>\n",
       "      <td>GLOOXMAIL</td>\n",
       "      <td>software</td>\n",
       "      <td>(Citation: Mandiant APT1)</td>\n",
       "    </tr>\n",
       "  </tbody>\n",
       "</table>\n",
       "</div>"
      ],
      "text/plain": [
       "  source ID source name source type mapping type target ID       target name  \\\n",
       "0     G0099    APT-C-36       group         uses     S0434  Imminent Monitor   \n",
       "1     G0006        APT1       group         uses     S0017           BISCUIT   \n",
       "2     G0006        APT1       group         uses     S0025          CALENDAR   \n",
       "3     G0006        APT1       group         uses     S0119         Cachedump   \n",
       "4     G0006        APT1       group         uses     S0026         GLOOXMAIL   \n",
       "\n",
       "  target type                   mapping description  \n",
       "0    software  (Citation: QiAnXin APT-C-36 Feb2019)  \n",
       "1    software             (Citation: Mandiant APT1)  \n",
       "2    software             (Citation: Mandiant APT1)  \n",
       "3    software             (Citation: Mandiant APT1)  \n",
       "4    software             (Citation: Mandiant APT1)  "
      ]
     },
     "execution_count": 5,
     "metadata": {},
     "output_type": "execute_result"
    }
   ],
   "source": [
    "groups_software_df.head()"
   ]
  },
  {
   "cell_type": "code",
   "execution_count": 6,
   "metadata": {},
   "outputs": [
    {
     "name": "stdout",
     "output_type": "stream",
     "text": [
      "124\n",
      "463\n"
     ]
    }
   ],
   "source": [
    "print (groups_software_df['source ID'].nunique())\n",
    "print (groups_software_df['target ID'].nunique())"
   ]
  },
  {
   "cell_type": "markdown",
   "metadata": {},
   "source": [
    "🔍 There are 127 unique Group IDs in `groups_software_df`. Total number of Groups: 136\n",
    "\n",
    "🔍 There are 463 unique Software IDs in `groups_software_df`. Total number of Software: 635"
   ]
  },
  {
   "cell_type": "code",
   "execution_count": 7,
   "metadata": {},
   "outputs": [
    {
     "name": "stdout",
     "output_type": "stream",
     "text": [
      "<class 'pandas.core.frame.DataFrame'>\n",
      "RangeIndex: 136 entries, 0 to 135\n",
      "Data columns (total 11 columns):\n",
      " #   Column                       Non-Null Count  Dtype  \n",
      "---  ------                       --------------  -----  \n",
      " 0   ID                           136 non-null    object \n",
      " 1   name                         136 non-null    object \n",
      " 2   description                  136 non-null    object \n",
      " 3   url                          136 non-null    object \n",
      " 4   created                      136 non-null    object \n",
      " 5   last modified                136 non-null    object \n",
      " 6   version                      136 non-null    float64\n",
      " 7   contributors                 73 non-null     object \n",
      " 8   associated groups            78 non-null     object \n",
      " 9   associated groups citations  77 non-null     object \n",
      " 10  relationship citations       136 non-null    object \n",
      "dtypes: float64(1), object(10)\n",
      "memory usage: 11.8+ KB\n"
     ]
    }
   ],
   "source": [
    "groups_df.info()"
   ]
  },
  {
   "cell_type": "markdown",
   "metadata": {},
   "source": [
    "- 🔍 There are 136 Groups, in which 124 Groups use one ore more software 👉 Features for the other groups (that doesn't use any software) will be filled with NaN values (0)"
   ]
  },
  {
   "cell_type": "code",
   "execution_count": 8,
   "metadata": {},
   "outputs": [
    {
     "data": {
      "text/html": [
       "<div>\n",
       "<style scoped>\n",
       "    .dataframe tbody tr th:only-of-type {\n",
       "        vertical-align: middle;\n",
       "    }\n",
       "\n",
       "    .dataframe tbody tr th {\n",
       "        vertical-align: top;\n",
       "    }\n",
       "\n",
       "    .dataframe thead th {\n",
       "        text-align: right;\n",
       "    }\n",
       "</style>\n",
       "<table border=\"1\" class=\"dataframe\">\n",
       "  <thead>\n",
       "    <tr style=\"text-align: right;\">\n",
       "      <th></th>\n",
       "      <th>source ID</th>\n",
       "      <th>source name</th>\n",
       "      <th>source type</th>\n",
       "      <th>mapping type</th>\n",
       "      <th>target ID</th>\n",
       "      <th>target name</th>\n",
       "      <th>target type</th>\n",
       "      <th>mapping description</th>\n",
       "    </tr>\n",
       "  </thead>\n",
       "  <tbody>\n",
       "    <tr>\n",
       "      <th>0</th>\n",
       "      <td>G0099</td>\n",
       "      <td>APT-C-36</td>\n",
       "      <td>group</td>\n",
       "      <td>uses</td>\n",
       "      <td>S0434</td>\n",
       "      <td>Imminent Monitor</td>\n",
       "      <td>software</td>\n",
       "      <td>(Citation: QiAnXin APT-C-36 Feb2019)</td>\n",
       "    </tr>\n",
       "    <tr>\n",
       "      <th>1</th>\n",
       "      <td>G0006</td>\n",
       "      <td>APT1</td>\n",
       "      <td>group</td>\n",
       "      <td>uses</td>\n",
       "      <td>S0017</td>\n",
       "      <td>BISCUIT</td>\n",
       "      <td>software</td>\n",
       "      <td>(Citation: Mandiant APT1)</td>\n",
       "    </tr>\n",
       "    <tr>\n",
       "      <th>2</th>\n",
       "      <td>G0006</td>\n",
       "      <td>APT1</td>\n",
       "      <td>group</td>\n",
       "      <td>uses</td>\n",
       "      <td>S0025</td>\n",
       "      <td>CALENDAR</td>\n",
       "      <td>software</td>\n",
       "      <td>(Citation: Mandiant APT1)</td>\n",
       "    </tr>\n",
       "    <tr>\n",
       "      <th>3</th>\n",
       "      <td>G0006</td>\n",
       "      <td>APT1</td>\n",
       "      <td>group</td>\n",
       "      <td>uses</td>\n",
       "      <td>S0119</td>\n",
       "      <td>Cachedump</td>\n",
       "      <td>software</td>\n",
       "      <td>(Citation: Mandiant APT1)</td>\n",
       "    </tr>\n",
       "    <tr>\n",
       "      <th>4</th>\n",
       "      <td>G0006</td>\n",
       "      <td>APT1</td>\n",
       "      <td>group</td>\n",
       "      <td>uses</td>\n",
       "      <td>S0026</td>\n",
       "      <td>GLOOXMAIL</td>\n",
       "      <td>software</td>\n",
       "      <td>(Citation: Mandiant APT1)</td>\n",
       "    </tr>\n",
       "  </tbody>\n",
       "</table>\n",
       "</div>"
      ],
      "text/plain": [
       "  source ID source name source type mapping type target ID       target name  \\\n",
       "0     G0099    APT-C-36       group         uses     S0434  Imminent Monitor   \n",
       "1     G0006        APT1       group         uses     S0017           BISCUIT   \n",
       "2     G0006        APT1       group         uses     S0025          CALENDAR   \n",
       "3     G0006        APT1       group         uses     S0119         Cachedump   \n",
       "4     G0006        APT1       group         uses     S0026         GLOOXMAIL   \n",
       "\n",
       "  target type                   mapping description  \n",
       "0    software  (Citation: QiAnXin APT-C-36 Feb2019)  \n",
       "1    software             (Citation: Mandiant APT1)  \n",
       "2    software             (Citation: Mandiant APT1)  \n",
       "3    software             (Citation: Mandiant APT1)  \n",
       "4    software             (Citation: Mandiant APT1)  "
      ]
     },
     "execution_count": 8,
     "metadata": {},
     "output_type": "execute_result"
    }
   ],
   "source": [
    "groups_software_df.head()"
   ]
  },
  {
   "cell_type": "markdown",
   "metadata": {},
   "source": [
    "## 2-1 Group ID list"
   ]
  },
  {
   "cell_type": "code",
   "execution_count": 9,
   "metadata": {},
   "outputs": [],
   "source": [
    "g_id_df = groups_df[['ID']]\n",
    "g_id_df.columns = ['group ID']"
   ]
  },
  {
   "cell_type": "code",
   "execution_count": 10,
   "metadata": {},
   "outputs": [
    {
     "name": "stdout",
     "output_type": "stream",
     "text": [
      "<class 'pandas.core.frame.DataFrame'>\n",
      "RangeIndex: 136 entries, 0 to 135\n",
      "Data columns (total 1 columns):\n",
      " #   Column    Non-Null Count  Dtype \n",
      "---  ------    --------------  ----- \n",
      " 0   group ID  136 non-null    object\n",
      "dtypes: object(1)\n",
      "memory usage: 1.2+ KB\n"
     ]
    }
   ],
   "source": [
    "g_id_df.info()"
   ]
  },
  {
   "cell_type": "markdown",
   "metadata": {},
   "source": [
    "## 2-2 Group - software one-hot encoded"
   ]
  },
  {
   "cell_type": "code",
   "execution_count": 11,
   "metadata": {},
   "outputs": [
    {
     "data": {
      "text/html": [
       "<div>\n",
       "<style scoped>\n",
       "    .dataframe tbody tr th:only-of-type {\n",
       "        vertical-align: middle;\n",
       "    }\n",
       "\n",
       "    .dataframe tbody tr th {\n",
       "        vertical-align: top;\n",
       "    }\n",
       "\n",
       "    .dataframe thead th {\n",
       "        text-align: right;\n",
       "    }\n",
       "</style>\n",
       "<table border=\"1\" class=\"dataframe\">\n",
       "  <thead>\n",
       "    <tr style=\"text-align: right;\">\n",
       "      <th></th>\n",
       "      <th>group ID</th>\n",
       "      <th>S0002</th>\n",
       "      <th>S0003</th>\n",
       "      <th>S0004</th>\n",
       "      <th>S0005</th>\n",
       "      <th>S0006</th>\n",
       "      <th>S0008</th>\n",
       "      <th>S0009</th>\n",
       "      <th>S0010</th>\n",
       "      <th>S0012</th>\n",
       "      <th>...</th>\n",
       "      <th>S1035</th>\n",
       "      <th>S1037</th>\n",
       "      <th>S1039</th>\n",
       "      <th>S1046</th>\n",
       "      <th>S1047</th>\n",
       "      <th>S1051</th>\n",
       "      <th>S1058</th>\n",
       "      <th>S1059</th>\n",
       "      <th>S1060</th>\n",
       "      <th>S1072</th>\n",
       "    </tr>\n",
       "  </thead>\n",
       "  <tbody>\n",
       "    <tr>\n",
       "      <th>0</th>\n",
       "      <td>G0001</td>\n",
       "      <td>0.0</td>\n",
       "      <td>0.0</td>\n",
       "      <td>0.0</td>\n",
       "      <td>0.0</td>\n",
       "      <td>0.0</td>\n",
       "      <td>0.0</td>\n",
       "      <td>1.0</td>\n",
       "      <td>0.0</td>\n",
       "      <td>1.0</td>\n",
       "      <td>...</td>\n",
       "      <td>0.0</td>\n",
       "      <td>0.0</td>\n",
       "      <td>0.0</td>\n",
       "      <td>0.0</td>\n",
       "      <td>0.0</td>\n",
       "      <td>0.0</td>\n",
       "      <td>0.0</td>\n",
       "      <td>0.0</td>\n",
       "      <td>0.0</td>\n",
       "      <td>0.0</td>\n",
       "    </tr>\n",
       "    <tr>\n",
       "      <th>1</th>\n",
       "      <td>G0002</td>\n",
       "      <td>0.0</td>\n",
       "      <td>0.0</td>\n",
       "      <td>0.0</td>\n",
       "      <td>0.0</td>\n",
       "      <td>0.0</td>\n",
       "      <td>0.0</td>\n",
       "      <td>0.0</td>\n",
       "      <td>0.0</td>\n",
       "      <td>1.0</td>\n",
       "      <td>...</td>\n",
       "      <td>0.0</td>\n",
       "      <td>0.0</td>\n",
       "      <td>0.0</td>\n",
       "      <td>0.0</td>\n",
       "      <td>0.0</td>\n",
       "      <td>0.0</td>\n",
       "      <td>0.0</td>\n",
       "      <td>0.0</td>\n",
       "      <td>0.0</td>\n",
       "      <td>0.0</td>\n",
       "    </tr>\n",
       "    <tr>\n",
       "      <th>2</th>\n",
       "      <td>G0003</td>\n",
       "      <td>1.0</td>\n",
       "      <td>0.0</td>\n",
       "      <td>1.0</td>\n",
       "      <td>0.0</td>\n",
       "      <td>0.0</td>\n",
       "      <td>0.0</td>\n",
       "      <td>0.0</td>\n",
       "      <td>0.0</td>\n",
       "      <td>0.0</td>\n",
       "      <td>...</td>\n",
       "      <td>0.0</td>\n",
       "      <td>0.0</td>\n",
       "      <td>0.0</td>\n",
       "      <td>0.0</td>\n",
       "      <td>0.0</td>\n",
       "      <td>0.0</td>\n",
       "      <td>0.0</td>\n",
       "      <td>0.0</td>\n",
       "      <td>0.0</td>\n",
       "      <td>0.0</td>\n",
       "    </tr>\n",
       "    <tr>\n",
       "      <th>3</th>\n",
       "      <td>G0004</td>\n",
       "      <td>1.0</td>\n",
       "      <td>0.0</td>\n",
       "      <td>0.0</td>\n",
       "      <td>0.0</td>\n",
       "      <td>0.0</td>\n",
       "      <td>0.0</td>\n",
       "      <td>0.0</td>\n",
       "      <td>0.0</td>\n",
       "      <td>0.0</td>\n",
       "      <td>...</td>\n",
       "      <td>0.0</td>\n",
       "      <td>0.0</td>\n",
       "      <td>0.0</td>\n",
       "      <td>0.0</td>\n",
       "      <td>0.0</td>\n",
       "      <td>0.0</td>\n",
       "      <td>0.0</td>\n",
       "      <td>0.0</td>\n",
       "      <td>0.0</td>\n",
       "      <td>0.0</td>\n",
       "    </tr>\n",
       "    <tr>\n",
       "      <th>4</th>\n",
       "      <td>G0005</td>\n",
       "      <td>0.0</td>\n",
       "      <td>1.0</td>\n",
       "      <td>0.0</td>\n",
       "      <td>0.0</td>\n",
       "      <td>0.0</td>\n",
       "      <td>0.0</td>\n",
       "      <td>0.0</td>\n",
       "      <td>0.0</td>\n",
       "      <td>0.0</td>\n",
       "      <td>...</td>\n",
       "      <td>0.0</td>\n",
       "      <td>0.0</td>\n",
       "      <td>0.0</td>\n",
       "      <td>0.0</td>\n",
       "      <td>0.0</td>\n",
       "      <td>0.0</td>\n",
       "      <td>0.0</td>\n",
       "      <td>0.0</td>\n",
       "      <td>0.0</td>\n",
       "      <td>0.0</td>\n",
       "    </tr>\n",
       "  </tbody>\n",
       "</table>\n",
       "<p>5 rows × 464 columns</p>\n",
       "</div>"
      ],
      "text/plain": [
       "  group ID  S0002  S0003  S0004  S0005  S0006  S0008  S0009  S0010  S0012  \\\n",
       "0    G0001    0.0    0.0    0.0    0.0    0.0    0.0    1.0    0.0    1.0   \n",
       "1    G0002    0.0    0.0    0.0    0.0    0.0    0.0    0.0    0.0    1.0   \n",
       "2    G0003    1.0    0.0    1.0    0.0    0.0    0.0    0.0    0.0    0.0   \n",
       "3    G0004    1.0    0.0    0.0    0.0    0.0    0.0    0.0    0.0    0.0   \n",
       "4    G0005    0.0    1.0    0.0    0.0    0.0    0.0    0.0    0.0    0.0   \n",
       "\n",
       "   ...  S1035  S1037  S1039  S1046  S1047  S1051  S1058  S1059  S1060  S1072  \n",
       "0  ...    0.0    0.0    0.0    0.0    0.0    0.0    0.0    0.0    0.0    0.0  \n",
       "1  ...    0.0    0.0    0.0    0.0    0.0    0.0    0.0    0.0    0.0    0.0  \n",
       "2  ...    0.0    0.0    0.0    0.0    0.0    0.0    0.0    0.0    0.0    0.0  \n",
       "3  ...    0.0    0.0    0.0    0.0    0.0    0.0    0.0    0.0    0.0    0.0  \n",
       "4  ...    0.0    0.0    0.0    0.0    0.0    0.0    0.0    0.0    0.0    0.0  \n",
       "\n",
       "[5 rows x 464 columns]"
      ]
     },
     "execution_count": 11,
     "metadata": {},
     "output_type": "execute_result"
    }
   ],
   "source": [
    "g_s_df = groups_software_df[['source ID', 'target ID']]\n",
    "g_s_df.columns = ['group ID', 'software ID']\n",
    "\n",
    "\n",
    "# extract the id\n",
    "id_g_s_df = g_s_df[['group ID']]\n",
    "\n",
    "# one-hot encode the features\n",
    "g_s_ohf = pd.get_dummies(g_s_df['software ID'], dtype= float)\n",
    "# g_s_ohf: group-software one-hot feature\n",
    "\n",
    "g_s_ohf = pd.concat(\n",
    "    [\n",
    "        id_g_s_df, \n",
    "        g_s_ohf\n",
    "    ],\n",
    "    axis = 1\n",
    ")\n",
    "\n",
    "g_s_ohf = g_s_ohf.groupby('group ID').max().reset_index()\n",
    "\n",
    "g_s_ohf.head()"
   ]
  },
  {
   "cell_type": "code",
   "execution_count": 12,
   "metadata": {},
   "outputs": [
    {
     "name": "stdout",
     "output_type": "stream",
     "text": [
      "(124, 464)\n"
     ]
    }
   ],
   "source": [
    "print (g_s_ohf.shape)"
   ]
  },
  {
   "cell_type": "markdown",
   "metadata": {},
   "source": [
    "## 2-3 Merge the dataframes\n",
    "\n",
    "- After merging, the Techniques that are not used by a Group will be `NaN` -> Replace `NaN` with 0's"
   ]
  },
  {
   "cell_type": "code",
   "execution_count": 13,
   "metadata": {},
   "outputs": [],
   "source": [
    "g_df = pd.merge (g_id_df, g_s_ohf, on = 'group ID', how = 'left')\n",
    "\n",
    "g_df.fillna(0, inplace= True)"
   ]
  },
  {
   "cell_type": "code",
   "execution_count": 14,
   "metadata": {},
   "outputs": [
    {
     "name": "stdout",
     "output_type": "stream",
     "text": [
      "<class 'pandas.core.frame.DataFrame'>\n",
      "RangeIndex: 136 entries, 0 to 135\n",
      "Columns: 464 entries, group ID to S1072\n",
      "dtypes: float64(463), object(1)\n",
      "memory usage: 493.1+ KB\n"
     ]
    }
   ],
   "source": [
    "g_df.info()"
   ]
  },
  {
   "cell_type": "markdown",
   "metadata": {},
   "source": [
    "# 3- Technique Features\n",
    "- features chosen for techniques are\n",
    "    1. Platforms\n",
    "    2. Mitigations\n",
    "\n",
    "- three dataframes to merge based on technique ID are:\n",
    "    1. technique id list\n",
    "    2. technique - platforms one-hot encoded\n",
    "    3. technique - mitigations one-hot encoded"
   ]
  },
  {
   "cell_type": "code",
   "execution_count": 15,
   "metadata": {},
   "outputs": [
    {
     "name": "stdout",
     "output_type": "stream",
     "text": [
      "<class 'pandas.core.frame.DataFrame'>\n",
      "RangeIndex: 607 entries, 0 to 606\n",
      "Data columns (total 21 columns):\n",
      " #   Column                  Non-Null Count  Dtype  \n",
      "---  ------                  --------------  -----  \n",
      " 0   ID                      607 non-null    object \n",
      " 1   name                    607 non-null    object \n",
      " 2   description             607 non-null    object \n",
      " 3   url                     607 non-null    object \n",
      " 4   created                 607 non-null    object \n",
      " 5   last modified           607 non-null    object \n",
      " 6   version                 607 non-null    float64\n",
      " 7   tactics                 607 non-null    object \n",
      " 8   detection               579 non-null    object \n",
      " 9   platforms               607 non-null    object \n",
      " 10  data sources            568 non-null    object \n",
      " 11  is sub-technique        607 non-null    bool   \n",
      " 12  sub-technique of        411 non-null    object \n",
      " 13  defenses bypassed       103 non-null    object \n",
      " 14  contributors            349 non-null    object \n",
      " 15  permissions required    201 non-null    object \n",
      " 16  supports remote         30 non-null     object \n",
      " 17  system requirements     40 non-null     object \n",
      " 18  impact type             26 non-null     object \n",
      " 19  effective permissions   19 non-null     object \n",
      " 20  relationship citations  607 non-null    object \n",
      "dtypes: bool(1), float64(1), object(19)\n",
      "memory usage: 95.6+ KB\n"
     ]
    }
   ],
   "source": [
    "techniques_df.info()"
   ]
  },
  {
   "cell_type": "markdown",
   "metadata": {},
   "source": [
    "## 3-1 Technique id list"
   ]
  },
  {
   "cell_type": "code",
   "execution_count": 16,
   "metadata": {},
   "outputs": [
    {
     "data": {
      "text/html": [
       "<div>\n",
       "<style scoped>\n",
       "    .dataframe tbody tr th:only-of-type {\n",
       "        vertical-align: middle;\n",
       "    }\n",
       "\n",
       "    .dataframe tbody tr th {\n",
       "        vertical-align: top;\n",
       "    }\n",
       "\n",
       "    .dataframe thead th {\n",
       "        text-align: right;\n",
       "    }\n",
       "</style>\n",
       "<table border=\"1\" class=\"dataframe\">\n",
       "  <thead>\n",
       "    <tr style=\"text-align: right;\">\n",
       "      <th></th>\n",
       "      <th>technique ID</th>\n",
       "    </tr>\n",
       "  </thead>\n",
       "  <tbody>\n",
       "    <tr>\n",
       "      <th>0</th>\n",
       "      <td>T1548</td>\n",
       "    </tr>\n",
       "    <tr>\n",
       "      <th>1</th>\n",
       "      <td>T1548.002</td>\n",
       "    </tr>\n",
       "    <tr>\n",
       "      <th>2</th>\n",
       "      <td>T1548.004</td>\n",
       "    </tr>\n",
       "    <tr>\n",
       "      <th>3</th>\n",
       "      <td>T1548.001</td>\n",
       "    </tr>\n",
       "    <tr>\n",
       "      <th>4</th>\n",
       "      <td>T1548.003</td>\n",
       "    </tr>\n",
       "    <tr>\n",
       "      <th>...</th>\n",
       "      <td>...</td>\n",
       "    </tr>\n",
       "    <tr>\n",
       "      <th>602</th>\n",
       "      <td>T1102.002</td>\n",
       "    </tr>\n",
       "    <tr>\n",
       "      <th>603</th>\n",
       "      <td>T1102.001</td>\n",
       "    </tr>\n",
       "    <tr>\n",
       "      <th>604</th>\n",
       "      <td>T1102.003</td>\n",
       "    </tr>\n",
       "    <tr>\n",
       "      <th>605</th>\n",
       "      <td>T1047</td>\n",
       "    </tr>\n",
       "    <tr>\n",
       "      <th>606</th>\n",
       "      <td>T1220</td>\n",
       "    </tr>\n",
       "  </tbody>\n",
       "</table>\n",
       "<p>607 rows × 1 columns</p>\n",
       "</div>"
      ],
      "text/plain": [
       "    technique ID\n",
       "0          T1548\n",
       "1      T1548.002\n",
       "2      T1548.004\n",
       "3      T1548.001\n",
       "4      T1548.003\n",
       "..           ...\n",
       "602    T1102.002\n",
       "603    T1102.001\n",
       "604    T1102.003\n",
       "605        T1047\n",
       "606        T1220\n",
       "\n",
       "[607 rows x 1 columns]"
      ]
     },
     "execution_count": 16,
     "metadata": {},
     "output_type": "execute_result"
    }
   ],
   "source": [
    "t_id_df = techniques_df[['ID']]\n",
    "t_id_df.columns = ['technique ID']\n",
    "t_id_df"
   ]
  },
  {
   "cell_type": "markdown",
   "metadata": {},
   "source": [
    "## 3-2 Technique - platforms one-hot encoded"
   ]
  },
  {
   "cell_type": "code",
   "execution_count": 17,
   "metadata": {},
   "outputs": [],
   "source": [
    "t_p_df = techniques_df[['ID', 'platforms']]\n",
    "# t-p-df: technique-platform \n",
    "id_t_p_df = t_p_df[['ID']]\n",
    "t_p_ohf_df = t_p_df['platforms'].str.get_dummies (sep = ', ')\n",
    "# t_p_ohf_df: technique-platform one-hot-feature\n",
    "\n",
    "t_p_ohf_df = pd.concat (\n",
    "    [id_t_p_df, t_p_ohf_df],\n",
    "    axis = 1\n",
    ")\n",
    "t_p_ohf_df.rename (columns= {'ID': 'technique ID'}, inplace= True)\n"
   ]
  },
  {
   "cell_type": "code",
   "execution_count": 18,
   "metadata": {},
   "outputs": [
    {
     "data": {
      "text/html": [
       "<div>\n",
       "<style scoped>\n",
       "    .dataframe tbody tr th:only-of-type {\n",
       "        vertical-align: middle;\n",
       "    }\n",
       "\n",
       "    .dataframe tbody tr th {\n",
       "        vertical-align: top;\n",
       "    }\n",
       "\n",
       "    .dataframe thead th {\n",
       "        text-align: right;\n",
       "    }\n",
       "</style>\n",
       "<table border=\"1\" class=\"dataframe\">\n",
       "  <thead>\n",
       "    <tr style=\"text-align: right;\">\n",
       "      <th></th>\n",
       "      <th>technique ID</th>\n",
       "      <th>Azure AD</th>\n",
       "      <th>Containers</th>\n",
       "      <th>Google Workspace</th>\n",
       "      <th>IaaS</th>\n",
       "      <th>Linux</th>\n",
       "      <th>Network</th>\n",
       "      <th>Office 365</th>\n",
       "      <th>PRE</th>\n",
       "      <th>SaaS</th>\n",
       "      <th>Windows</th>\n",
       "      <th>macOS</th>\n",
       "    </tr>\n",
       "  </thead>\n",
       "  <tbody>\n",
       "    <tr>\n",
       "      <th>0</th>\n",
       "      <td>T1548</td>\n",
       "      <td>0</td>\n",
       "      <td>0</td>\n",
       "      <td>0</td>\n",
       "      <td>0</td>\n",
       "      <td>1</td>\n",
       "      <td>0</td>\n",
       "      <td>0</td>\n",
       "      <td>0</td>\n",
       "      <td>0</td>\n",
       "      <td>1</td>\n",
       "      <td>1</td>\n",
       "    </tr>\n",
       "    <tr>\n",
       "      <th>1</th>\n",
       "      <td>T1548.002</td>\n",
       "      <td>0</td>\n",
       "      <td>0</td>\n",
       "      <td>0</td>\n",
       "      <td>0</td>\n",
       "      <td>0</td>\n",
       "      <td>0</td>\n",
       "      <td>0</td>\n",
       "      <td>0</td>\n",
       "      <td>0</td>\n",
       "      <td>1</td>\n",
       "      <td>0</td>\n",
       "    </tr>\n",
       "    <tr>\n",
       "      <th>2</th>\n",
       "      <td>T1548.004</td>\n",
       "      <td>0</td>\n",
       "      <td>0</td>\n",
       "      <td>0</td>\n",
       "      <td>0</td>\n",
       "      <td>0</td>\n",
       "      <td>0</td>\n",
       "      <td>0</td>\n",
       "      <td>0</td>\n",
       "      <td>0</td>\n",
       "      <td>0</td>\n",
       "      <td>1</td>\n",
       "    </tr>\n",
       "    <tr>\n",
       "      <th>3</th>\n",
       "      <td>T1548.001</td>\n",
       "      <td>0</td>\n",
       "      <td>0</td>\n",
       "      <td>0</td>\n",
       "      <td>0</td>\n",
       "      <td>1</td>\n",
       "      <td>0</td>\n",
       "      <td>0</td>\n",
       "      <td>0</td>\n",
       "      <td>0</td>\n",
       "      <td>0</td>\n",
       "      <td>1</td>\n",
       "    </tr>\n",
       "    <tr>\n",
       "      <th>4</th>\n",
       "      <td>T1548.003</td>\n",
       "      <td>0</td>\n",
       "      <td>0</td>\n",
       "      <td>0</td>\n",
       "      <td>0</td>\n",
       "      <td>1</td>\n",
       "      <td>0</td>\n",
       "      <td>0</td>\n",
       "      <td>0</td>\n",
       "      <td>0</td>\n",
       "      <td>0</td>\n",
       "      <td>1</td>\n",
       "    </tr>\n",
       "  </tbody>\n",
       "</table>\n",
       "</div>"
      ],
      "text/plain": [
       "  technique ID  Azure AD  Containers  Google Workspace  IaaS  Linux  Network  \\\n",
       "0        T1548         0           0                 0     0      1        0   \n",
       "1    T1548.002         0           0                 0     0      0        0   \n",
       "2    T1548.004         0           0                 0     0      0        0   \n",
       "3    T1548.001         0           0                 0     0      1        0   \n",
       "4    T1548.003         0           0                 0     0      1        0   \n",
       "\n",
       "   Office 365  PRE  SaaS  Windows  macOS  \n",
       "0           0    0     0        1      1  \n",
       "1           0    0     0        1      0  \n",
       "2           0    0     0        0      1  \n",
       "3           0    0     0        0      1  \n",
       "4           0    0     0        0      1  "
      ]
     },
     "execution_count": 18,
     "metadata": {},
     "output_type": "execute_result"
    }
   ],
   "source": [
    "t_p_ohf_df.head()"
   ]
  },
  {
   "cell_type": "code",
   "execution_count": 19,
   "metadata": {},
   "outputs": [
    {
     "data": {
      "text/plain": [
       "(607, 12)"
      ]
     },
     "execution_count": 19,
     "metadata": {},
     "output_type": "execute_result"
    }
   ],
   "source": [
    "t_p_ohf_df.shape"
   ]
  },
  {
   "cell_type": "markdown",
   "metadata": {},
   "source": [
    "## 3-3 Technique - mitigation one-hot encoded"
   ]
  },
  {
   "cell_type": "code",
   "execution_count": 20,
   "metadata": {},
   "outputs": [],
   "source": [
    "# get the dataframe\n",
    "t_m_df = techniques_mitigations_df[['source ID', 'target ID']]\n",
    "t_m_df.columns = ['mitigation ID', 'technique ID']\n",
    "\n",
    "# extract the id\n",
    "id_t_m_df = t_m_df[['technique ID']]\n",
    "\n",
    "# one-hot encode the feature\n",
    "t_m_ohf_df = pd.get_dummies(t_m_df['mitigation ID'], dtype= float)\n",
    "\n",
    "# concat the id with the one-hot encoded\n",
    "t_m_ohf_df = pd.concat (\n",
    "    [id_t_m_df, t_m_ohf_df],\n",
    "    axis= 1\n",
    ")\n",
    "\n",
    "t_m_ohf_df = t_m_ohf_df.groupby('technique ID').max().reset_index()"
   ]
  },
  {
   "cell_type": "markdown",
   "metadata": {},
   "source": [
    "`one_hot_features.groupby('technique ID').max().reset_index()`: This line groups the `one_hot_features` DataFrame by the 'technique ID' column and applies the `max()` function to each group. Since we are working with one-hot encoded values, the `max()` function will retain 1 for each genre if it exists in any row for a specific technique ID, and 0 if the genre is not present for that technique ID. The `reset_index()` function is used to reset the index of the resulting DataFrame, ensuring that the 'technique ID' column becomes a regular column."
   ]
  },
  {
   "cell_type": "code",
   "execution_count": 21,
   "metadata": {},
   "outputs": [
    {
     "name": "stdout",
     "output_type": "stream",
     "text": [
      "<class 'pandas.core.frame.DataFrame'>\n",
      "RangeIndex: 514 entries, 0 to 513\n",
      "Data columns (total 44 columns):\n",
      " #   Column        Non-Null Count  Dtype  \n",
      "---  ------        --------------  -----  \n",
      " 0   technique ID  514 non-null    object \n",
      " 1   M1013         514 non-null    float64\n",
      " 2   M1015         514 non-null    float64\n",
      " 3   M1016         514 non-null    float64\n",
      " 4   M1017         514 non-null    float64\n",
      " 5   M1018         514 non-null    float64\n",
      " 6   M1019         514 non-null    float64\n",
      " 7   M1020         514 non-null    float64\n",
      " 8   M1021         514 non-null    float64\n",
      " 9   M1022         514 non-null    float64\n",
      " 10  M1024         514 non-null    float64\n",
      " 11  M1025         514 non-null    float64\n",
      " 12  M1026         514 non-null    float64\n",
      " 13  M1027         514 non-null    float64\n",
      " 14  M1028         514 non-null    float64\n",
      " 15  M1029         514 non-null    float64\n",
      " 16  M1030         514 non-null    float64\n",
      " 17  M1031         514 non-null    float64\n",
      " 18  M1032         514 non-null    float64\n",
      " 19  M1033         514 non-null    float64\n",
      " 20  M1034         514 non-null    float64\n",
      " 21  M1035         514 non-null    float64\n",
      " 22  M1036         514 non-null    float64\n",
      " 23  M1037         514 non-null    float64\n",
      " 24  M1038         514 non-null    float64\n",
      " 25  M1039         514 non-null    float64\n",
      " 26  M1040         514 non-null    float64\n",
      " 27  M1041         514 non-null    float64\n",
      " 28  M1042         514 non-null    float64\n",
      " 29  M1043         514 non-null    float64\n",
      " 30  M1044         514 non-null    float64\n",
      " 31  M1045         514 non-null    float64\n",
      " 32  M1046         514 non-null    float64\n",
      " 33  M1047         514 non-null    float64\n",
      " 34  M1048         514 non-null    float64\n",
      " 35  M1049         514 non-null    float64\n",
      " 36  M1050         514 non-null    float64\n",
      " 37  M1051         514 non-null    float64\n",
      " 38  M1052         514 non-null    float64\n",
      " 39  M1053         514 non-null    float64\n",
      " 40  M1054         514 non-null    float64\n",
      " 41  M1055         514 non-null    float64\n",
      " 42  M1056         514 non-null    float64\n",
      " 43  M1057         514 non-null    float64\n",
      "dtypes: float64(43), object(1)\n",
      "memory usage: 176.8+ KB\n"
     ]
    }
   ],
   "source": [
    "t_m_ohf_df.info()"
   ]
  },
  {
   "cell_type": "markdown",
   "metadata": {},
   "source": [
    "## 3-4 Merge the dataframes"
   ]
  },
  {
   "cell_type": "code",
   "execution_count": 22,
   "metadata": {},
   "outputs": [],
   "source": [
    "t_df = pd.merge (t_id_df, t_p_ohf_df, on='technique ID', how= 'left')"
   ]
  },
  {
   "cell_type": "code",
   "execution_count": 23,
   "metadata": {},
   "outputs": [],
   "source": [
    "t_df = pd.merge (t_df, t_m_ohf_df, on = 'technique ID', how = 'left' )"
   ]
  },
  {
   "cell_type": "code",
   "execution_count": 24,
   "metadata": {},
   "outputs": [],
   "source": [
    "t_df.fillna(0, inplace= True)"
   ]
  },
  {
   "cell_type": "code",
   "execution_count": 25,
   "metadata": {},
   "outputs": [
    {
     "name": "stdout",
     "output_type": "stream",
     "text": [
      "<class 'pandas.core.frame.DataFrame'>\n",
      "RangeIndex: 607 entries, 0 to 606\n",
      "Data columns (total 55 columns):\n",
      " #   Column            Non-Null Count  Dtype  \n",
      "---  ------            --------------  -----  \n",
      " 0   technique ID      607 non-null    object \n",
      " 1   Azure AD          607 non-null    int64  \n",
      " 2   Containers        607 non-null    int64  \n",
      " 3   Google Workspace  607 non-null    int64  \n",
      " 4   IaaS              607 non-null    int64  \n",
      " 5   Linux             607 non-null    int64  \n",
      " 6   Network           607 non-null    int64  \n",
      " 7   Office 365        607 non-null    int64  \n",
      " 8   PRE               607 non-null    int64  \n",
      " 9   SaaS              607 non-null    int64  \n",
      " 10  Windows           607 non-null    int64  \n",
      " 11  macOS             607 non-null    int64  \n",
      " 12  M1013             607 non-null    float64\n",
      " 13  M1015             607 non-null    float64\n",
      " 14  M1016             607 non-null    float64\n",
      " 15  M1017             607 non-null    float64\n",
      " 16  M1018             607 non-null    float64\n",
      " 17  M1019             607 non-null    float64\n",
      " 18  M1020             607 non-null    float64\n",
      " 19  M1021             607 non-null    float64\n",
      " 20  M1022             607 non-null    float64\n",
      " 21  M1024             607 non-null    float64\n",
      " 22  M1025             607 non-null    float64\n",
      " 23  M1026             607 non-null    float64\n",
      " 24  M1027             607 non-null    float64\n",
      " 25  M1028             607 non-null    float64\n",
      " 26  M1029             607 non-null    float64\n",
      " 27  M1030             607 non-null    float64\n",
      " 28  M1031             607 non-null    float64\n",
      " 29  M1032             607 non-null    float64\n",
      " 30  M1033             607 non-null    float64\n",
      " 31  M1034             607 non-null    float64\n",
      " 32  M1035             607 non-null    float64\n",
      " 33  M1036             607 non-null    float64\n",
      " 34  M1037             607 non-null    float64\n",
      " 35  M1038             607 non-null    float64\n",
      " 36  M1039             607 non-null    float64\n",
      " 37  M1040             607 non-null    float64\n",
      " 38  M1041             607 non-null    float64\n",
      " 39  M1042             607 non-null    float64\n",
      " 40  M1043             607 non-null    float64\n",
      " 41  M1044             607 non-null    float64\n",
      " 42  M1045             607 non-null    float64\n",
      " 43  M1046             607 non-null    float64\n",
      " 44  M1047             607 non-null    float64\n",
      " 45  M1048             607 non-null    float64\n",
      " 46  M1049             607 non-null    float64\n",
      " 47  M1050             607 non-null    float64\n",
      " 48  M1051             607 non-null    float64\n",
      " 49  M1052             607 non-null    float64\n",
      " 50  M1053             607 non-null    float64\n",
      " 51  M1054             607 non-null    float64\n",
      " 52  M1055             607 non-null    float64\n",
      " 53  M1056             607 non-null    float64\n",
      " 54  M1057             607 non-null    float64\n",
      "dtypes: float64(43), int64(11), object(1)\n",
      "memory usage: 260.9+ KB\n"
     ]
    }
   ],
   "source": [
    "t_df.info()"
   ]
  },
  {
   "cell_type": "markdown",
   "metadata": {},
   "source": [
    "# 4- Target matrix\n",
    "- There are three columns in `target` matrix:\n",
    "    1. Group ID\n",
    "    2. Technique ID\n",
    "    3. `target` - binary value: \n",
    "        - `1` if Group uses the Technique, or \n",
    "        - `0` if Group does NOT use the Technique"
   ]
  },
  {
   "cell_type": "code",
   "execution_count": 26,
   "metadata": {},
   "outputs": [
    {
     "name": "stdout",
     "output_type": "stream",
     "text": [
      "(3052, 2)\n",
      "(136, 1)\n",
      "(136, 464)\n",
      "(607, 55)\n",
      "(607, 1)\n"
     ]
    }
   ],
   "source": [
    "print (g_t_df.shape)\n",
    "\n",
    "print (g_id_df.shape)\n",
    "print (g_df.shape)\n",
    "\n",
    "print (t_df.shape)\n",
    "print (t_id_df.shape)"
   ]
  },
  {
   "cell_type": "markdown",
   "metadata": {},
   "source": [
    "## 4-0 Group ID - Technique ID Cartesian product (`G_T_id_df`)\n",
    "- Cartesian product of Group and Technique will have 136 $\\times$ 607 = 82552 instances"
   ]
  },
  {
   "cell_type": "code",
   "execution_count": 27,
   "metadata": {},
   "outputs": [],
   "source": [
    "G_T_id_df = pd.merge (g_id_df, t_id_df, how = 'cross')"
   ]
  },
  {
   "cell_type": "code",
   "execution_count": 28,
   "metadata": {},
   "outputs": [
    {
     "data": {
      "text/plain": [
       "(82552, 2)"
      ]
     },
     "execution_count": 28,
     "metadata": {},
     "output_type": "execute_result"
    }
   ],
   "source": [
    "G_T_id_df.shape"
   ]
  },
  {
   "cell_type": "markdown",
   "metadata": {},
   "source": [
    "# 4-1 Positive instances\n",
    "- The istances where a Group uses a Technique is stored in `g_t_target_df`"
   ]
  },
  {
   "cell_type": "code",
   "execution_count": 29,
   "metadata": {},
   "outputs": [],
   "source": [
    "g_t_target_df = g_t_df.copy()\n",
    "g_t_target_df['target'] = 1"
   ]
  },
  {
   "cell_type": "code",
   "execution_count": 30,
   "metadata": {},
   "outputs": [
    {
     "data": {
      "text/html": [
       "<div>\n",
       "<style scoped>\n",
       "    .dataframe tbody tr th:only-of-type {\n",
       "        vertical-align: middle;\n",
       "    }\n",
       "\n",
       "    .dataframe tbody tr th {\n",
       "        vertical-align: top;\n",
       "    }\n",
       "\n",
       "    .dataframe thead th {\n",
       "        text-align: right;\n",
       "    }\n",
       "</style>\n",
       "<table border=\"1\" class=\"dataframe\">\n",
       "  <thead>\n",
       "    <tr style=\"text-align: right;\">\n",
       "      <th></th>\n",
       "      <th>group ID</th>\n",
       "      <th>technique ID</th>\n",
       "      <th>target</th>\n",
       "    </tr>\n",
       "  </thead>\n",
       "  <tbody>\n",
       "    <tr>\n",
       "      <th>0</th>\n",
       "      <td>G0099</td>\n",
       "      <td>T1105</td>\n",
       "      <td>1</td>\n",
       "    </tr>\n",
       "    <tr>\n",
       "      <th>1</th>\n",
       "      <td>G0099</td>\n",
       "      <td>T1204.002</td>\n",
       "      <td>1</td>\n",
       "    </tr>\n",
       "    <tr>\n",
       "      <th>2</th>\n",
       "      <td>G0099</td>\n",
       "      <td>T1036.004</td>\n",
       "      <td>1</td>\n",
       "    </tr>\n",
       "    <tr>\n",
       "      <th>3</th>\n",
       "      <td>G0099</td>\n",
       "      <td>T1571</td>\n",
       "      <td>1</td>\n",
       "    </tr>\n",
       "    <tr>\n",
       "      <th>4</th>\n",
       "      <td>G0099</td>\n",
       "      <td>T1027</td>\n",
       "      <td>1</td>\n",
       "    </tr>\n",
       "    <tr>\n",
       "      <th>...</th>\n",
       "      <td>...</td>\n",
       "      <td>...</td>\n",
       "      <td>...</td>\n",
       "    </tr>\n",
       "    <tr>\n",
       "      <th>3047</th>\n",
       "      <td>G0045</td>\n",
       "      <td>T1588.002</td>\n",
       "      <td>1</td>\n",
       "    </tr>\n",
       "    <tr>\n",
       "      <th>3048</th>\n",
       "      <td>G0045</td>\n",
       "      <td>T1199</td>\n",
       "      <td>1</td>\n",
       "    </tr>\n",
       "    <tr>\n",
       "      <th>3049</th>\n",
       "      <td>G0045</td>\n",
       "      <td>T1078</td>\n",
       "      <td>1</td>\n",
       "    </tr>\n",
       "    <tr>\n",
       "      <th>3050</th>\n",
       "      <td>G0045</td>\n",
       "      <td>T1059.003</td>\n",
       "      <td>1</td>\n",
       "    </tr>\n",
       "    <tr>\n",
       "      <th>3051</th>\n",
       "      <td>G0045</td>\n",
       "      <td>T1047</td>\n",
       "      <td>1</td>\n",
       "    </tr>\n",
       "  </tbody>\n",
       "</table>\n",
       "<p>3052 rows × 3 columns</p>\n",
       "</div>"
      ],
      "text/plain": [
       "     group ID technique ID  target\n",
       "0       G0099        T1105       1\n",
       "1       G0099    T1204.002       1\n",
       "2       G0099    T1036.004       1\n",
       "3       G0099        T1571       1\n",
       "4       G0099        T1027       1\n",
       "...       ...          ...     ...\n",
       "3047    G0045    T1588.002       1\n",
       "3048    G0045        T1199       1\n",
       "3049    G0045        T1078       1\n",
       "3050    G0045    T1059.003       1\n",
       "3051    G0045        T1047       1\n",
       "\n",
       "[3052 rows x 3 columns]"
      ]
     },
     "execution_count": 30,
     "metadata": {},
     "output_type": "execute_result"
    }
   ],
   "source": [
    "g_t_target_df"
   ]
  },
  {
   "cell_type": "markdown",
   "metadata": {},
   "source": [
    "# 4-3 Merging `G_T_id_df` with `g_t_target_df`"
   ]
  },
  {
   "cell_type": "code",
   "execution_count": 31,
   "metadata": {},
   "outputs": [],
   "source": [
    "G_T_df = pd.merge (G_T_id_df, g_t_target_df, on = ['group ID', 'technique ID'], how = 'left')"
   ]
  },
  {
   "cell_type": "code",
   "execution_count": 32,
   "metadata": {},
   "outputs": [
    {
     "name": "stdout",
     "output_type": "stream",
     "text": [
      "<class 'pandas.core.frame.DataFrame'>\n",
      "RangeIndex: 82552 entries, 0 to 82551\n",
      "Data columns (total 2 columns):\n",
      " #   Column        Non-Null Count  Dtype \n",
      "---  ------        --------------  ----- \n",
      " 0   group ID      82552 non-null  object\n",
      " 1   technique ID  82552 non-null  object\n",
      "dtypes: object(2)\n",
      "memory usage: 1.3+ MB\n"
     ]
    }
   ],
   "source": [
    "G_T_id_df.info()"
   ]
  },
  {
   "cell_type": "markdown",
   "metadata": {},
   "source": [
    "- Fill NaN values in `target` with `0`'s"
   ]
  },
  {
   "cell_type": "code",
   "execution_count": 33,
   "metadata": {},
   "outputs": [],
   "source": [
    "G_T_df['target'].fillna (0, inplace= True)"
   ]
  },
  {
   "cell_type": "code",
   "execution_count": 34,
   "metadata": {},
   "outputs": [
    {
     "data": {
      "text/plain": [
       "target\n",
       "0.0    79500\n",
       "1.0     3052\n",
       "Name: count, dtype: int64"
      ]
     },
     "execution_count": 34,
     "metadata": {},
     "output_type": "execute_result"
    }
   ],
   "source": [
    "G_T_df['target'].value_counts()"
   ]
  },
  {
   "cell_type": "markdown",
   "metadata": {},
   "source": [
    "---\n",
    "# 5 Export"
   ]
  },
  {
   "cell_type": "code",
   "execution_count": 35,
   "metadata": {},
   "outputs": [],
   "source": [
    "dfs = {\n",
    "    \"g_df\": g_df,\n",
    "    \"t_df\": t_df,\n",
    "    \"G_T_df\": G_T_df\n",
    "}"
   ]
  },
  {
   "cell_type": "code",
   "execution_count": 37,
   "metadata": {},
   "outputs": [],
   "source": [
    "import attck_utils\n",
    "for key in dfs.keys():\n",
    "    # dfs[key].to_csv (f\"preprocessed_data/{key}.csv\", index = False)\n",
    "    attck_utils.save_df_to_csv (\n",
    "        path = 'data/preprocessed_data',\n",
    "        filename = key,\n",
    "        df = dfs[key]\n",
    "    )"
   ]
  }
 ],
 "metadata": {
  "kernelspec": {
   "display_name": "tfNote01",
   "language": "python",
   "name": "python3"
  },
  "language_info": {
   "codemirror_mode": {
    "name": "ipython",
    "version": 3
   },
   "file_extension": ".py",
   "mimetype": "text/x-python",
   "name": "python",
   "nbconvert_exporter": "python",
   "pygments_lexer": "ipython3",
   "version": "3.10.12"
  },
  "orig_nbformat": 4
 },
 "nbformat": 4,
 "nbformat_minor": 2
}
