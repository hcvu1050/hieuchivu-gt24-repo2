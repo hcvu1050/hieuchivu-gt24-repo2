{
 "cells": [
  {
   "cell_type": "code",
   "execution_count": 33,
   "metadata": {},
   "outputs": [],
   "source": [
    "from tensorflow import keras\n",
    "import os, sys\n",
    "sys.path.append(\"../src\")\n",
    "from src.models.model1.dataloader import load_datasets\n"
   ]
  },
  {
   "cell_type": "code",
   "execution_count": 34,
   "metadata": {},
   "outputs": [],
   "source": [
    "model = keras.models.load_model ('../trained_models/model1/m1_1')\n"
   ]
  },
  {
   "cell_type": "code",
   "execution_count": 35,
   "metadata": {},
   "outputs": [
    {
     "name": "stdout",
     "output_type": "stream",
     "text": [
      "loading\t train_dataset -----loaded\n",
      "loading\t train_cv_dataset -----loaded\n",
      "loading\t cv_dataset -----loaded\n",
      "loading\t test_dataset -----loaded\n",
      "train_dataset: 69374 examples\n",
      "train_cv_dataset: 9726 examples\n",
      "cv_dataset: 5432 examples\n",
      "test_dataset: 5432 examples\n"
     ]
    }
   ],
   "source": [
    "train_dataset, train_cv_dataset, cv_dataset, test_dataset, feature_info= load_datasets (empty_train_cv= False)"
   ]
  },
  {
   "cell_type": "code",
   "execution_count": 36,
   "metadata": {},
   "outputs": [],
   "source": [
    "cv_dataset = cv_dataset.batch(32)\n",
    "train_cv_dataset = train_cv_dataset.batch(32)\n",
    "train_dataset = train_dataset.batch(32)\n",
    "test_dataset = test_dataset.batch(32)"
   ]
  },
  {
   "cell_type": "code",
   "execution_count": 37,
   "metadata": {},
   "outputs": [
    {
     "name": "stdout",
     "output_type": "stream",
     "text": [
      "2168/2168 [==============================] - 4s 2ms/step - loss: 0.5182 - auc: 0.8511\n"
     ]
    },
    {
     "data": {
      "text/plain": [
       "[0.5181812644004822, 0.8511453866958618]"
      ]
     },
     "execution_count": 37,
     "metadata": {},
     "output_type": "execute_result"
    }
   ],
   "source": [
    "model.evaluate(train_dataset)"
   ]
  },
  {
   "cell_type": "code",
   "execution_count": 38,
   "metadata": {},
   "outputs": [
    {
     "name": "stdout",
     "output_type": "stream",
     "text": [
      "304/304 [==============================] - 1s 2ms/step - loss: 0.5860 - auc: 0.7810\n"
     ]
    },
    {
     "data": {
      "text/plain": [
       "[0.5860157608985901, 0.7810479402542114]"
      ]
     },
     "execution_count": 38,
     "metadata": {},
     "output_type": "execute_result"
    }
   ],
   "source": [
    "model.evaluate(train_cv_dataset)"
   ]
  },
  {
   "cell_type": "code",
   "execution_count": 39,
   "metadata": {},
   "outputs": [
    {
     "name": "stdout",
     "output_type": "stream",
     "text": [
      "170/170 [==============================] - 0s 2ms/step - loss: 0.5174 - auc: 0.2975\n"
     ]
    },
    {
     "data": {
      "text/plain": [
       "[0.5173805952072144, 0.29745107889175415]"
      ]
     },
     "execution_count": 39,
     "metadata": {},
     "output_type": "execute_result"
    }
   ],
   "source": [
    "model.evaluate (cv_dataset)"
   ]
  },
  {
   "cell_type": "code",
   "execution_count": 40,
   "metadata": {},
   "outputs": [
    {
     "name": "stdout",
     "output_type": "stream",
     "text": [
      "170/170 [==============================] - 0s 2ms/step - loss: 0.4960 - auc: 0.2868\n"
     ]
    },
    {
     "data": {
      "text/plain": [
       "[0.49597886204719543, 0.2868356704711914]"
      ]
     },
     "execution_count": 40,
     "metadata": {},
     "output_type": "execute_result"
    }
   ],
   "source": [
    "model.evaluate (test_dataset)\n"
   ]
  }
 ],
 "metadata": {
  "kernelspec": {
   "display_name": "hcv-gt24-env",
   "language": "python",
   "name": "python3"
  },
  "language_info": {
   "codemirror_mode": {
    "name": "ipython",
    "version": 3
   },
   "file_extension": ".py",
   "mimetype": "text/x-python",
   "name": "python",
   "nbconvert_exporter": "python",
   "pygments_lexer": "ipython3",
   "version": "3.11.4"
  }
 },
 "nbformat": 4,
 "nbformat_minor": 2
}
