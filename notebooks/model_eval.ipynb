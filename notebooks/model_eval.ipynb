{
 "cells": [
  {
   "cell_type": "code",
   "execution_count": 20,
   "metadata": {},
   "outputs": [],
   "source": [
    "from tensorflow import keras\n",
    "import os, sys\n",
    "sys.path.append(\"..\")\n",
    "from src.models.model1.dataloader import load_datasets\n"
   ]
  },
  {
   "cell_type": "code",
   "execution_count": 38,
   "metadata": {},
   "outputs": [],
   "source": [
    "model = keras.models.load_model ('../trained_models/model1/m1_1c')\n"
   ]
  },
  {
   "cell_type": "code",
   "execution_count": 39,
   "metadata": {},
   "outputs": [
    {
     "name": "stdout",
     "output_type": "stream",
     "text": [
      "loading\t train_dataset -----loaded\n",
      "loading\t train_cv_dataset -----loaded\n",
      "loading\t cv_dataset -----loaded\n",
      "loading\t test_dataset -----loaded\n",
      "train_dataset: 69374 examples\n",
      "train_cv_dataset: 9726 examples\n",
      "cv_dataset: 5432 examples\n",
      "test_dataset: 5432 examples\n"
     ]
    }
   ],
   "source": [
    "train_dataset, train_cv_dataset, cv_dataset, test_dataset, feature_info= load_datasets (empty_train_cv= False)"
   ]
  },
  {
   "cell_type": "code",
   "execution_count": 40,
   "metadata": {},
   "outputs": [],
   "source": [
    "cv_dataset = cv_dataset.batch(32)\n",
    "train_cv_dataset = train_cv_dataset.batch(32)\n",
    "train_dataset = train_dataset.batch(32)\n",
    "test_dataset = test_dataset.batch(32)"
   ]
  },
  {
   "cell_type": "code",
   "execution_count": 41,
   "metadata": {},
   "outputs": [
    {
     "name": "stdout",
     "output_type": "stream",
     "text": [
      "2168/2168 [==============================] - 5s 2ms/step - loss: 0.0346 - auc-pr: 0.8760\n"
     ]
    },
    {
     "data": {
      "text/plain": [
       "[0.03459494560956955, 0.8759892582893372]"
      ]
     },
     "execution_count": 41,
     "metadata": {},
     "output_type": "execute_result"
    }
   ],
   "source": [
    "model.evaluate(train_dataset)"
   ]
  },
  {
   "cell_type": "code",
   "execution_count": 42,
   "metadata": {},
   "outputs": [
    {
     "name": "stdout",
     "output_type": "stream",
     "text": [
      "  1/304 [..............................] - ETA: 12s - loss: 0.0411 - auc-pr: 1.0000"
     ]
    },
    {
     "name": "stdout",
     "output_type": "stream",
     "text": [
      "304/304 [==============================] - 1s 2ms/step - loss: 0.0427 - auc-pr: 0.8018\n"
     ]
    },
    {
     "data": {
      "text/plain": [
       "[0.04270448535680771, 0.8017902970314026]"
      ]
     },
     "execution_count": 42,
     "metadata": {},
     "output_type": "execute_result"
    }
   ],
   "source": [
    "model.evaluate(train_cv_dataset)"
   ]
  },
  {
   "cell_type": "code",
   "execution_count": 43,
   "metadata": {},
   "outputs": [
    {
     "name": "stdout",
     "output_type": "stream",
     "text": [
      "170/170 [==============================] - 0s 2ms/step - loss: 0.0290 - auc-pr: 0.3842\n"
     ]
    },
    {
     "data": {
      "text/plain": [
       "[0.02899480238556862, 0.3841826617717743]"
      ]
     },
     "execution_count": 43,
     "metadata": {},
     "output_type": "execute_result"
    }
   ],
   "source": [
    "model.evaluate (cv_dataset)"
   ]
  },
  {
   "cell_type": "code",
   "execution_count": 44,
   "metadata": {},
   "outputs": [
    {
     "name": "stdout",
     "output_type": "stream",
     "text": [
      "170/170 [==============================] - 0s 2ms/step - loss: 0.0298 - auc-pr: 0.2893\n"
     ]
    },
    {
     "data": {
      "text/plain": [
       "[0.029805179685354233, 0.2892572581768036]"
      ]
     },
     "execution_count": 44,
     "metadata": {},
     "output_type": "execute_result"
    }
   ],
   "source": [
    "model.evaluate (test_dataset)\n"
   ]
  }
 ],
 "metadata": {
  "kernelspec": {
   "display_name": "hcv-gt24-env",
   "language": "python",
   "name": "python3"
  },
  "language_info": {
   "codemirror_mode": {
    "name": "ipython",
    "version": 3
   },
   "file_extension": ".py",
   "mimetype": "text/x-python",
   "name": "python",
   "nbconvert_exporter": "python",
   "pygments_lexer": "ipython3",
   "version": "3.11.4"
  }
 },
 "nbformat": 4,
 "nbformat_minor": 2
}
