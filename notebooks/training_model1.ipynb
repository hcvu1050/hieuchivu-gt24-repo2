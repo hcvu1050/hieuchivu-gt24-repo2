{
 "cells": [
  {
   "cell_type": "code",
   "execution_count": 1,
   "metadata": {},
   "outputs": [],
   "source": [
    "import sys\n",
    "sys.path.append('../src/models') \n",
    "sys.path.append('../src/data') \n",
    "import tensorflow as tf"
   ]
  },
  {
   "cell_type": "code",
   "execution_count": 2,
   "metadata": {},
   "outputs": [],
   "source": [
    "from model1.dataloader import load_data\n",
    "from model1.model_v0_3 import ContentBasedFiltering"
   ]
  },
  {
   "cell_type": "code",
   "execution_count": 3,
   "metadata": {},
   "outputs": [
    {
     "name": "stdout",
     "output_type": "stream",
     "text": [
      "loading\t train_dataset\n",
      "loaded:\t train_dataset\n",
      "DataSet size:\t 110984 examples\n",
      "loading\t cv_dataset\n",
      "loaded:\t cv_dataset\n",
      "DataSet size:\t 12140 examples\n",
      "loading\t test_dataset\n",
      "loaded:\t test_dataset\n",
      "DataSet size:\t 12747 examples\n",
      "({'input_Group': TensorSpec(shape=(463,), dtype=tf.float32, name=None), 'input_Technique': TensorSpec(shape=(54,), dtype=tf.float32, name=None)}, TensorSpec(shape=(1,), dtype=tf.float32, name=None))\n",
      "Train dataset is sampled: 11098 examples\n",
      "({'input_Group': TensorSpec(shape=(463,), dtype=tf.float32, name=None), 'input_Technique': TensorSpec(shape=(54,), dtype=tf.float32, name=None)}, TensorSpec(shape=(1,), dtype=tf.float32, name=None))\n"
     ]
    }
   ],
   "source": [
    "train_dataset, cv_dataset, test_dataset, info = load_data(sample_train= 0.1, feature_info=True)"
   ]
  },
  {
   "cell_type": "code",
   "execution_count": 4,
   "metadata": {},
   "outputs": [],
   "source": [
    "batch_size = 32\n",
    "\n",
    "train_dataset = train_dataset.shuffle(buffer_size=len(train_dataset))\n",
    "train_dataset = train_dataset.batch(batch_size)\n",
    "train_dataset = train_dataset.prefetch(buffer_size=tf.data.AUTOTUNE)"
   ]
  }
 ],
 "metadata": {
  "kernelspec": {
   "display_name": "hcv-gt24-env",
   "language": "python",
   "name": "python3"
  },
  "language_info": {
   "codemirror_mode": {
    "name": "ipython",
    "version": 3
   },
   "file_extension": ".py",
   "mimetype": "text/x-python",
   "name": "python",
   "nbconvert_exporter": "python",
   "pygments_lexer": "ipython3",
   "version": "3.11.4"
  },
  "orig_nbformat": 4
 },
 "nbformat": 4,
 "nbformat_minor": 2
}
