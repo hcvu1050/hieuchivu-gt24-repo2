{
 "cells": [
  {
   "cell_type": "code",
   "execution_count": 1,
   "metadata": {},
   "outputs": [],
   "source": [
    "import sys\n",
    "sys.path.append('../src/models') \n",
    "sys.path.append('../src/data') \n",
    "import tensorflow as tf\n",
    "from tensorflow import keras"
   ]
  },
  {
   "cell_type": "code",
   "execution_count": 2,
   "metadata": {},
   "outputs": [
    {
     "name": "stdout",
     "output_type": "stream",
     "text": [
      "loading\t train_dataset\n",
      "loaded:\t train_dataset\n",
      "loading\t cv_dataset\n",
      "loaded:\t cv_dataset\n",
      "loading\t test_dataset\n",
      "loaded:\t test_dataset\n",
      "train_dataset: 110 examples\n",
      "cv_dataset: 12140 examples\n",
      "test_dataset: 12747 examples\n"
     ]
    }
   ],
   "source": [
    "from model1.dataloader import load_data\n",
    "train_dataset, cv_dataset, test_dataset, feature_info = load_data(sample_train= 0.001, feature_info=True)"
   ]
  },
  {
   "cell_type": "code",
   "execution_count": 3,
   "metadata": {},
   "outputs": [],
   "source": [
    "batch_size = 32\n",
    "\n",
    "train_dataset = train_dataset.batch(batch_size)\n",
    "train_dataset = train_dataset.shuffle(buffer_size=len(train_dataset))\n",
    "train_dataset = train_dataset.prefetch(buffer_size=tf.data.AUTOTUNE)"
   ]
  },
  {
   "cell_type": "code",
   "execution_count": 4,
   "metadata": {},
   "outputs": [],
   "source": [
    "cv_dataset = cv_dataset.batch(batch_size)\n",
    "test_dataset = test_dataset.batch(batch_size)"
   ]
  },
  {
   "cell_type": "code",
   "execution_count": 5,
   "metadata": {},
   "outputs": [
    {
     "data": {
      "text/plain": [
       "{'group_feature_size': 463, 'technique_feature_size': 54}"
      ]
     },
     "execution_count": 5,
     "metadata": {},
     "output_type": "execute_result"
    }
   ],
   "source": [
    "feature_info"
   ]
  },
  {
   "cell_type": "markdown",
   "metadata": {},
   "source": [
    "---\n",
    "# build model from config files"
   ]
  },
  {
   "cell_type": "code",
   "execution_count": 6,
   "metadata": {},
   "outputs": [],
   "source": [
    "import yaml"
   ]
  },
  {
   "cell_type": "code",
   "execution_count": 7,
   "metadata": {},
   "outputs": [],
   "source": [
    "with open ('config.yaml', 'r') as config_file:\n",
    "    config = yaml.safe_load (config_file)"
   ]
  },
  {
   "cell_type": "code",
   "execution_count": 8,
   "metadata": {},
   "outputs": [],
   "source": [
    "model_architecture_config = config['model_architecture']\n",
    "traning_config = config['train']"
   ]
  },
  {
   "cell_type": "code",
   "execution_count": 9,
   "metadata": {},
   "outputs": [
    {
     "data": {
      "text/plain": [
       "{'group_nn_widths': [3, 4, 5, 6],\n",
       " 'group_nn_depth': 6,\n",
       " 'technique_nn_widths': [3, 4, 5, 6],\n",
       " 'technique_nn_depth': 6,\n",
       " 'nn_output_size': 4}"
      ]
     },
     "execution_count": 9,
     "metadata": {},
     "output_type": "execute_result"
    }
   ],
   "source": [
    "model_architecture_config"
   ]
  },
  {
   "cell_type": "code",
   "execution_count": 10,
   "metadata": {},
   "outputs": [],
   "source": [
    "class customNN(keras.Sequential):\n",
    "    def __init__(self, \n",
    "                 name,\n",
    "                 input_size, \n",
    "                 output_size,\n",
    "                 widths: int|list,\n",
    "                 depth: int,\n",
    "                 hidden_layer_activation = 'relu',\n",
    "                 output_layer_activation = 'linear',\n",
    "                 ):\n",
    "        super().__init__(name = name)\n",
    "        \"\"\"\n",
    "        when there is a single int for `widths`, all the Dense layers are identical in size\n",
    "        `widths` only indicates the widths in the middle layer, NOT the last layer. \n",
    "        The last layer's widths is indicated by `output_size`\n",
    "        \"\"\"\n",
    "        if isinstance (widths, int):\n",
    "            # First dense layer defined with input shape\n",
    "            self.add(keras.layers.Dense(widths, input_shape=(input_size,)))\n",
    "            # Custom layer of hidden Dense layer\n",
    "            for _ in range (depth-2):\n",
    "                self.add (keras.layers.Dense(widths,activation= hidden_layer_activation))\n",
    "            # Output layer\n",
    "            self.add (keras.layers.Dense (output_size, activation = output_layer_activation, name = 'output_NN'))  \n",
    "        elif isinstance (widths, list) and len(widths) == (depth-2):\n",
    "            self.add(keras.layers.Dense(widths[0], input_shape=(input_size,)))\n",
    "            for width in widths[1:]:\n",
    "                self.add (keras.layers.Dense(width,activation= hidden_layer_activation))\n",
    "            self.add (keras.layers.Dense (output_size, activation = output_layer_activation, name = 'output_NN'))  \n",
    "        else: raise Exception (\"CustomNN: widths and depths are set incorrectly.\\n Most likely becase: widths is a list, and len(width) == (depth-2) is False\")"
   ]
  },
  {
   "cell_type": "code",
   "execution_count": 11,
   "metadata": {},
   "outputs": [],
   "source": [
    "class customModel(keras.Model):\n",
    "    def __init__(self, input_sizes,\n",
    "                 group_nn_widths = None, group_nn_depth = None, \n",
    "                 technique_nn_widths = None, technique_nn_depth = None,\n",
    "                 nn_output_size = None, config = None,\n",
    "                 *args, **kwargs):\n",
    "        super().__init__(*args, **kwargs)\n",
    "        \n",
    "        if config != None:\n",
    "            print ('---config FOUND')\n",
    "            group_nn_widths = config['group_nn_widths']\n",
    "            group_nn_depth = config['group_nn_depth']\n",
    "            technique_nn_widths = config['technique_nn_widths']\n",
    "            technique_nn_depth = config['technique_nn_depth']\n",
    "            nn_output_size = config['nn_output_size']\n",
    "            \n",
    "        group_input_size = input_sizes['group_feature_size']\n",
    "        technique_input_size = input_sizes['technique_feature_size']\n",
    "        \n",
    "        self.input_Group = keras.layers.Input (shape= (group_input_size,), name = 'input_Group')\n",
    "        self.input_Technique = keras.layers.Input (shape= (technique_input_size,), name = 'input_Technique')\n",
    "        self.Group_NN = customNN(input_size =  group_input_size,\n",
    "                                 output_size = nn_output_size,\n",
    "                                 widths = group_nn_widths,\n",
    "                                 depth =group_nn_depth,\n",
    "                                 name = 'Group_NN')\n",
    "        self.Technique_NN = customNN(input_size = technique_input_size,\n",
    "                                 output_size = nn_output_size,\n",
    "                                 widths = technique_nn_widths,\n",
    "                                 depth = technique_nn_depth,\n",
    "                                 name = 'Technique_NN')\n",
    "        \n",
    "        self.dot_product = keras.layers.Dot(axes= 1)\n",
    "\n",
    "        \n",
    "    def call(self, inputs):\n",
    "        # self.input_NN_1, self.input_NN_2 = inputs[0], inputs[1]\n",
    "        self.input_Group = inputs['input_Group']\n",
    "        self.input_Technique = inputs['input_Technique']\n",
    "        \n",
    "        output_Group = self.Group_NN(self.input_Group)\n",
    "        output_Technique = self.Technique_NN(self.input_Technique)\n",
    "        \n",
    "        norm_output_Group = tf.linalg.l2_normalize (output_Group, axis = 1)\n",
    "        norm_output_Technique = tf.linalg.l2_normalize (output_Technique, axis = 1)\n",
    "        \n",
    "        dot_product = self.dot_product ([norm_output_Group, norm_output_Technique])\n",
    "        return dot_product\n"
   ]
  },
  {
   "cell_type": "code",
   "execution_count": 12,
   "metadata": {},
   "outputs": [
    {
     "name": "stdout",
     "output_type": "stream",
     "text": [
      "---config FOUND\n"
     ]
    }
   ],
   "source": [
    "model = customModel (\n",
    "    input_sizes= feature_info,\n",
    "    config= model_architecture_config\n",
    ")"
   ]
  },
  {
   "cell_type": "markdown",
   "metadata": {},
   "source": [
    "---"
   ]
  },
  {
   "cell_type": "code",
   "execution_count": 13,
   "metadata": {},
   "outputs": [],
   "source": [
    "optimizer = keras.optimizers.Adam (learning_rate= 0.001)    \n",
    "loss = keras.losses.BinaryCrossentropy (from_logits= True)\n",
    "model.compile (optimizer, loss = loss)"
   ]
  },
  {
   "cell_type": "code",
   "execution_count": 14,
   "metadata": {},
   "outputs": [
    {
     "name": "stdout",
     "output_type": "stream",
     "text": [
      "4/4 [==============================] - 7s 256ms/step - loss: 0.7267 - val_loss: 0.6944\n"
     ]
    }
   ],
   "source": [
    "history = model.fit(\n",
    "    train_dataset, \n",
    "    validation_data= cv_dataset,\n",
    "    epochs= 1)"
   ]
  }
 ],
 "metadata": {
  "kernelspec": {
   "display_name": "hcv-gt24-env",
   "language": "python",
   "name": "python3"
  },
  "language_info": {
   "codemirror_mode": {
    "name": "ipython",
    "version": 3
   },
   "file_extension": ".py",
   "mimetype": "text/x-python",
   "name": "python",
   "nbconvert_exporter": "python",
   "pygments_lexer": "ipython3",
   "version": "3.11.4"
  },
  "orig_nbformat": 4
 },
 "nbformat": 4,
 "nbformat_minor": 2
}
