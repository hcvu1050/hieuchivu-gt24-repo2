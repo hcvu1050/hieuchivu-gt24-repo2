{
 "cells": [
  {
   "cell_type": "markdown",
   "metadata": {},
   "source": [
    "# MITRE ATT&CK data fetch"
   ]
  },
  {
   "cell_type": "markdown",
   "metadata": {},
   "source": [
    "references:\n",
    "- https://github.com/mitre-attack/mitreattack-python/tree/master/mitreattack/attackToExcel\n",
    "- https://stix2.readthedocs.io/en/latest/api/datastore/stix2.datastore.memory.html\n",
    "- https://mitreattack-python.readthedocs.io/en/latest/\n",
    "---\n",
    "there are two ways to fetch the data:\n",
    "1. download `enterprise-attack.json` then load it (like in this note)\n",
    "2. directly fetch from the server with `mitreattack.attackToExcel.attackToExcel.get_stix_data(\"enterprise-attack\")` (see n0.ipynb)\n",
    "---"
   ]
  },
  {
   "cell_type": "code",
   "execution_count": 1,
   "metadata": {},
   "outputs": [
    {
     "ename": "ModuleNotFoundError",
     "evalue": "No module named 'mitreattack'",
     "output_type": "error",
     "traceback": [
      "\u001b[1;31m---------------------------------------------------------------------------\u001b[0m",
      "\u001b[1;31mModuleNotFoundError\u001b[0m                       Traceback (most recent call last)",
      "Cell \u001b[1;32mIn[1], line 2\u001b[0m\n\u001b[0;32m      1\u001b[0m \u001b[39m# import mitreattack.attackToExcel.attackToExcel as attackToExcel\u001b[39;00m\n\u001b[1;32m----> 2\u001b[0m \u001b[39mimport\u001b[39;00m \u001b[39mmitreattack\u001b[39;00m\u001b[39m.\u001b[39;00m\u001b[39mattackToExcel\u001b[39;00m\u001b[39m.\u001b[39;00m\u001b[39mstixToDf\u001b[39;00m \u001b[39mas\u001b[39;00m \u001b[39mstixToDf\u001b[39;00m\n\u001b[0;32m      3\u001b[0m \u001b[39mfrom\u001b[39;00m \u001b[39mstix2\u001b[39;00m \u001b[39mimport\u001b[39;00m MemoryStore\n\u001b[0;32m      4\u001b[0m attackdata \u001b[39m=\u001b[39m MemoryStore ()\n",
      "\u001b[1;31mModuleNotFoundError\u001b[0m: No module named 'mitreattack'"
     ]
    }
   ],
   "source": [
    "# import mitreattack.attackToExcel.attackToExcel as attackToExcel\n",
    "import mitreattack.attackToExcel.stixToDf as stixToDf\n",
    "from stix2 import MemoryStore\n",
    "attackdata = MemoryStore ()\n",
    "attackdata.load_from_file ( 'data/enterprise-attack.json')\n"
   ]
  },
  {
   "cell_type": "markdown",
   "metadata": {},
   "source": [
    "## 1 Technique lists\n",
    "\n",
    "`techniques_data` is a dict that stores multiple lists regarding Techniques\n"
   ]
  },
  {
   "cell_type": "code",
   "execution_count": 2,
   "metadata": {},
   "outputs": [
    {
     "name": "stderr",
     "output_type": "stream",
     "text": [
      "parsing techniques: 100%|██████████| 607/607 [00:00<00:00, 922.91it/s] \n",
      "parsing relationships for type=technique: 100%|██████████| 16530/16530 [00:00<00:00, 48079.94it/s]\n"
     ]
    },
    {
     "name": "stdout",
     "output_type": "stream",
     "text": [
      "dict_keys(['techniques', 'procedure examples', 'associated mitigations', 'citations'])\n"
     ]
    }
   ],
   "source": [
    "techniques_data = stixToDf.techniquesToDf(attackdata, \"enterprise-attack\")\n",
    "print (techniques_data.keys())\n"
   ]
  },
  {
   "cell_type": "markdown",
   "metadata": {},
   "source": [
    "### 1-1 Technique list"
   ]
  },
  {
   "cell_type": "code",
   "execution_count": 3,
   "metadata": {},
   "outputs": [
    {
     "name": "stdout",
     "output_type": "stream",
     "text": [
      "<class 'pandas.core.frame.DataFrame'>\n",
      "Index: 607 entries, 256 to 557\n",
      "Data columns (total 21 columns):\n",
      " #   Column                  Non-Null Count  Dtype \n",
      "---  ------                  --------------  ----- \n",
      " 0   ID                      607 non-null    object\n",
      " 1   name                    607 non-null    object\n",
      " 2   description             607 non-null    object\n",
      " 3   url                     607 non-null    object\n",
      " 4   created                 607 non-null    object\n",
      " 5   last modified           607 non-null    object\n",
      " 6   version                 607 non-null    object\n",
      " 7   tactics                 607 non-null    object\n",
      " 8   detection               607 non-null    object\n",
      " 9   platforms               607 non-null    object\n",
      " 10  data sources            568 non-null    object\n",
      " 11  is sub-technique        607 non-null    bool  \n",
      " 12  sub-technique of        411 non-null    object\n",
      " 13  defenses bypassed       103 non-null    object\n",
      " 14  contributors            349 non-null    object\n",
      " 15  permissions required    201 non-null    object\n",
      " 16  supports remote         30 non-null     object\n",
      " 17  system requirements     40 non-null     object\n",
      " 18  impact type             26 non-null     object\n",
      " 19  effective permissions   19 non-null     object\n",
      " 20  relationship citations  607 non-null    object\n",
      "dtypes: bool(1), object(20)\n",
      "memory usage: 100.2+ KB\n"
     ]
    }
   ],
   "source": [
    "techniques_df = techniques_data[\"techniques\"]\n",
    "techniques_df.info()"
   ]
  },
  {
   "cell_type": "code",
   "execution_count": 4,
   "metadata": {},
   "outputs": [
    {
     "name": "stdout",
     "output_type": "stream",
     "text": [
      "- ID\n",
      "- name\n",
      "- description\n",
      "- url\n",
      "- created\n",
      "- last modified\n",
      "- version\n",
      "- tactics\n",
      "- detection\n",
      "- platforms\n",
      "- data sources\n",
      "- is sub-technique\n",
      "- sub-technique of\n",
      "- defenses bypassed\n",
      "- contributors\n",
      "- permissions required\n",
      "- supports remote\n",
      "- system requirements\n",
      "- impact type\n",
      "- effective permissions\n",
      "- relationship citations\n"
     ]
    }
   ],
   "source": [
    "techniques_cols = list (techniques_df.columns)\n",
    "for col in techniques_cols:\n",
    "    print('-',col,)\n",
    "    \n",
    "    \n",
    "def print_cols (df):\n",
    "    df_cols = list(df.columns)\n",
    "    for col in df_cols:\n",
    "        print ('-',col)"
   ]
  },
  {
   "cell_type": "code",
   "execution_count": 5,
   "metadata": {},
   "outputs": [
    {
     "data": {
      "text/plain": [
       "impact type \n",
       "Availability    19\n",
       "Integrity        7\n",
       "Name: count, dtype: int64"
      ]
     },
     "execution_count": 5,
     "metadata": {},
     "output_type": "execute_result"
    }
   ],
   "source": [
    "# techniques_df[techniques_df['supports remote']==True].head(7)\n",
    "# techniques_df[['data sources']].head(7)\n",
    "# techniques_df[['system requirements']].value_counts()\n",
    "# techniques_df.head(7)\n",
    "techniques_df[['impact type']].value_counts()"
   ]
  },
  {
   "cell_type": "markdown",
   "metadata": {},
   "source": [
    "### 1-2 Technique - Associated mitigation list"
   ]
  },
  {
   "cell_type": "code",
   "execution_count": 6,
   "metadata": {},
   "outputs": [
    {
     "data": {
      "text/html": [
       "<div>\n",
       "<style scoped>\n",
       "    .dataframe tbody tr th:only-of-type {\n",
       "        vertical-align: middle;\n",
       "    }\n",
       "\n",
       "    .dataframe tbody tr th {\n",
       "        vertical-align: top;\n",
       "    }\n",
       "\n",
       "    .dataframe thead th {\n",
       "        text-align: right;\n",
       "    }\n",
       "</style>\n",
       "<table border=\"1\" class=\"dataframe\">\n",
       "  <thead>\n",
       "    <tr style=\"text-align: right;\">\n",
       "      <th></th>\n",
       "      <th>source ID</th>\n",
       "      <th>source name</th>\n",
       "      <th>source type</th>\n",
       "      <th>mapping type</th>\n",
       "      <th>target ID</th>\n",
       "      <th>target name</th>\n",
       "      <th>target type</th>\n",
       "      <th>mapping description</th>\n",
       "    </tr>\n",
       "  </thead>\n",
       "  <tbody>\n",
       "    <tr>\n",
       "      <th>7827</th>\n",
       "      <td>M1036</td>\n",
       "      <td>Account Use Policies</td>\n",
       "      <td>mitigation</td>\n",
       "      <td>mitigates</td>\n",
       "      <td>T1110</td>\n",
       "      <td>Brute Force</td>\n",
       "      <td>technique</td>\n",
       "      <td>Set account lockout policies after a certain n...</td>\n",
       "    </tr>\n",
       "    <tr>\n",
       "      <th>1037</th>\n",
       "      <td>M1036</td>\n",
       "      <td>Account Use Policies</td>\n",
       "      <td>mitigation</td>\n",
       "      <td>mitigates</td>\n",
       "      <td>T1078.004</td>\n",
       "      <td>Cloud Accounts</td>\n",
       "      <td>technique</td>\n",
       "      <td>Use conditional access policies to block login...</td>\n",
       "    </tr>\n",
       "    <tr>\n",
       "      <th>8955</th>\n",
       "      <td>M1036</td>\n",
       "      <td>Account Use Policies</td>\n",
       "      <td>mitigation</td>\n",
       "      <td>mitigates</td>\n",
       "      <td>T1110.004</td>\n",
       "      <td>Credential Stuffing</td>\n",
       "      <td>technique</td>\n",
       "      <td>Set account lockout policies after a certain n...</td>\n",
       "    </tr>\n",
       "    <tr>\n",
       "      <th>3874</th>\n",
       "      <td>M1036</td>\n",
       "      <td>Account Use Policies</td>\n",
       "      <td>mitigation</td>\n",
       "      <td>mitigates</td>\n",
       "      <td>T1621</td>\n",
       "      <td>Multi-Factor Authentication Request Generation</td>\n",
       "      <td>technique</td>\n",
       "      <td>Enable account restrictions to prevent login a...</td>\n",
       "    </tr>\n",
       "    <tr>\n",
       "      <th>14566</th>\n",
       "      <td>M1036</td>\n",
       "      <td>Account Use Policies</td>\n",
       "      <td>mitigation</td>\n",
       "      <td>mitigates</td>\n",
       "      <td>T1110.001</td>\n",
       "      <td>Password Guessing</td>\n",
       "      <td>technique</td>\n",
       "      <td>Set account lockout policies after a certain n...</td>\n",
       "    </tr>\n",
       "  </tbody>\n",
       "</table>\n",
       "</div>"
      ],
      "text/plain": [
       "      source ID           source name source type mapping type  target ID  \\\n",
       "7827      M1036  Account Use Policies  mitigation    mitigates      T1110   \n",
       "1037      M1036  Account Use Policies  mitigation    mitigates  T1078.004   \n",
       "8955      M1036  Account Use Policies  mitigation    mitigates  T1110.004   \n",
       "3874      M1036  Account Use Policies  mitigation    mitigates      T1621   \n",
       "14566     M1036  Account Use Policies  mitigation    mitigates  T1110.001   \n",
       "\n",
       "                                          target name target type  \\\n",
       "7827                                      Brute Force   technique   \n",
       "1037                                   Cloud Accounts   technique   \n",
       "8955                              Credential Stuffing   technique   \n",
       "3874   Multi-Factor Authentication Request Generation   technique   \n",
       "14566                               Password Guessing   technique   \n",
       "\n",
       "                                     mapping description  \n",
       "7827   Set account lockout policies after a certain n...  \n",
       "1037   Use conditional access policies to block login...  \n",
       "8955   Set account lockout policies after a certain n...  \n",
       "3874   Enable account restrictions to prevent login a...  \n",
       "14566  Set account lockout policies after a certain n...  "
      ]
     },
     "execution_count": 6,
     "metadata": {},
     "output_type": "execute_result"
    }
   ],
   "source": [
    "techniques_mitigations_df = techniques_data['associated mitigations']\n",
    "techniques_mitigations_df.head()"
   ]
  },
  {
   "cell_type": "code",
   "execution_count": 7,
   "metadata": {},
   "outputs": [
    {
     "name": "stdout",
     "output_type": "stream",
     "text": [
      "<class 'pandas.core.frame.DataFrame'>\n",
      "Index: 1200 entries, 7827 to 9804\n",
      "Data columns (total 8 columns):\n",
      " #   Column               Non-Null Count  Dtype \n",
      "---  ------               --------------  ----- \n",
      " 0   source ID            1200 non-null   object\n",
      " 1   source name          1200 non-null   object\n",
      " 2   source type          1200 non-null   object\n",
      " 3   mapping type         1200 non-null   object\n",
      " 4   target ID            1200 non-null   object\n",
      " 5   target name          1200 non-null   object\n",
      " 6   target type          1200 non-null   object\n",
      " 7   mapping description  1200 non-null   object\n",
      "dtypes: object(8)\n",
      "memory usage: 84.4+ KB\n"
     ]
    }
   ],
   "source": [
    "techniques_mitigations_df.info()"
   ]
  },
  {
   "cell_type": "code",
   "execution_count": 8,
   "metadata": {},
   "outputs": [
    {
     "name": "stdout",
     "output_type": "stream",
     "text": [
      "- source ID\n",
      "- source name\n",
      "- source type\n",
      "- mapping type\n",
      "- target ID\n",
      "- target name\n",
      "- target type\n",
      "- mapping description\n"
     ]
    }
   ],
   "source": [
    "print_cols (techniques_mitigations_df)"
   ]
  },
  {
   "cell_type": "markdown",
   "metadata": {},
   "source": [
    "---\n",
    "## 2 Group list"
   ]
  },
  {
   "cell_type": "code",
   "execution_count": 9,
   "metadata": {},
   "outputs": [
    {
     "ename": "TypeError",
     "evalue": "groupsToDf() takes 1 positional argument but 2 were given",
     "output_type": "error",
     "traceback": [
      "\u001b[1;31m---------------------------------------------------------------------------\u001b[0m",
      "\u001b[1;31mTypeError\u001b[0m                                 Traceback (most recent call last)",
      "Cell \u001b[1;32mIn[9], line 1\u001b[0m\n\u001b[1;32m----> 1\u001b[0m groups_data \u001b[39m=\u001b[39m stixToDf\u001b[39m.\u001b[39;49mgroupsToDf (attackdata, \u001b[39m\"\u001b[39;49m\u001b[39menterprise-attack\u001b[39;49m\u001b[39m\"\u001b[39;49m)\n\u001b[0;32m      2\u001b[0m \u001b[39mprint\u001b[39m (groups_data\u001b[39m.\u001b[39mkeys())\n",
      "\u001b[1;31mTypeError\u001b[0m: groupsToDf() takes 1 positional argument but 2 were given"
     ]
    }
   ],
   "source": [
    "groups_data = stixToDf.groupsToDf (attackdata)\n",
    "print (groups_data.keys())\n"
   ]
  },
  {
   "cell_type": "markdown",
   "metadata": {},
   "source": [
    "### 2-1 Group list"
   ]
  },
  {
   "cell_type": "code",
   "execution_count": 10,
   "metadata": {},
   "outputs": [],
   "source": [
    "groups_df = groups_data['groups']\n"
   ]
  },
  {
   "cell_type": "code",
   "execution_count": 11,
   "metadata": {},
   "outputs": [
    {
     "data": {
      "text/html": [
       "<div>\n",
       "<style scoped>\n",
       "    .dataframe tbody tr th:only-of-type {\n",
       "        vertical-align: middle;\n",
       "    }\n",
       "\n",
       "    .dataframe tbody tr th {\n",
       "        vertical-align: top;\n",
       "    }\n",
       "\n",
       "    .dataframe thead th {\n",
       "        text-align: right;\n",
       "    }\n",
       "</style>\n",
       "<table border=\"1\" class=\"dataframe\">\n",
       "  <thead>\n",
       "    <tr style=\"text-align: right;\">\n",
       "      <th></th>\n",
       "      <th>ID</th>\n",
       "      <th>name</th>\n",
       "      <th>description</th>\n",
       "      <th>url</th>\n",
       "      <th>created</th>\n",
       "      <th>last modified</th>\n",
       "      <th>version</th>\n",
       "      <th>contributors</th>\n",
       "      <th>associated groups</th>\n",
       "      <th>associated groups citations</th>\n",
       "      <th>relationship citations</th>\n",
       "    </tr>\n",
       "  </thead>\n",
       "  <tbody>\n",
       "    <tr>\n",
       "      <th>47</th>\n",
       "      <td>G0099</td>\n",
       "      <td>APT-C-36</td>\n",
       "      <td>[APT-C-36](https://attack.mitre.org/groups/G00...</td>\n",
       "      <td>https://attack.mitre.org/groups/G0099</td>\n",
       "      <td>05 May 2020</td>\n",
       "      <td>26 May 2021</td>\n",
       "      <td>1.1</td>\n",
       "      <td>Jose Luis Sánchez Martinez</td>\n",
       "      <td>Blind Eagle</td>\n",
       "      <td>(Citation: QiAnXin APT-C-36 Feb2019)</td>\n",
       "      <td>(Citation: QiAnXin APT-C-36 Feb2019),(Citation...</td>\n",
       "    </tr>\n",
       "    <tr>\n",
       "      <th>13</th>\n",
       "      <td>G0006</td>\n",
       "      <td>APT1</td>\n",
       "      <td>[APT1](https://attack.mitre.org/groups/G0006) ...</td>\n",
       "      <td>https://attack.mitre.org/groups/G0006</td>\n",
       "      <td>31 May 2017</td>\n",
       "      <td>26 May 2021</td>\n",
       "      <td>1.4</td>\n",
       "      <td>NaN</td>\n",
       "      <td>Comment Crew, Comment Group, Comment Panda</td>\n",
       "      <td>(Citation: Mandiant APT1), (Citation: Mandiant...</td>\n",
       "      <td>(Citation: Mandiant APT1 Appendix),(Citation: ...</td>\n",
       "    </tr>\n",
       "    <tr>\n",
       "      <th>96</th>\n",
       "      <td>G0005</td>\n",
       "      <td>APT12</td>\n",
       "      <td>[APT12](https://attack.mitre.org/groups/G0005)...</td>\n",
       "      <td>https://attack.mitre.org/groups/G0005</td>\n",
       "      <td>31 May 2017</td>\n",
       "      <td>30 March 2020</td>\n",
       "      <td>2.1</td>\n",
       "      <td>NaN</td>\n",
       "      <td>DNSCALC, DynCalc, IXESHE, Numbered Panda</td>\n",
       "      <td>(Citation: Moran 2014), (Citation: Meyers Numb...</td>\n",
       "      <td>(Citation: Moran 2014),(Citation: Moran 2013),...</td>\n",
       "    </tr>\n",
       "    <tr>\n",
       "      <th>129</th>\n",
       "      <td>G0023</td>\n",
       "      <td>APT16</td>\n",
       "      <td>[APT16](https://attack.mitre.org/groups/G0023)...</td>\n",
       "      <td>https://attack.mitre.org/groups/G0023</td>\n",
       "      <td>31 May 2017</td>\n",
       "      <td>26 July 2022</td>\n",
       "      <td>1.1</td>\n",
       "      <td>NaN</td>\n",
       "      <td></td>\n",
       "      <td></td>\n",
       "      <td>(Citation: FireEye EPS Awakens Part 2),(Citati...</td>\n",
       "    </tr>\n",
       "    <tr>\n",
       "      <th>130</th>\n",
       "      <td>G0025</td>\n",
       "      <td>APT17</td>\n",
       "      <td>[APT17](https://attack.mitre.org/groups/G0025)...</td>\n",
       "      <td>https://attack.mitre.org/groups/G0025</td>\n",
       "      <td>31 May 2017</td>\n",
       "      <td>13 October 2020</td>\n",
       "      <td>1.1</td>\n",
       "      <td>NaN</td>\n",
       "      <td>Deputy Dog</td>\n",
       "      <td>(Citation: FireEye APT17)</td>\n",
       "      <td>(Citation: FireEye APT17),(Citation: FireEye A...</td>\n",
       "    </tr>\n",
       "  </tbody>\n",
       "</table>\n",
       "</div>"
      ],
      "text/plain": [
       "        ID      name                                        description  \\\n",
       "47   G0099  APT-C-36  [APT-C-36](https://attack.mitre.org/groups/G00...   \n",
       "13   G0006      APT1  [APT1](https://attack.mitre.org/groups/G0006) ...   \n",
       "96   G0005     APT12  [APT12](https://attack.mitre.org/groups/G0005)...   \n",
       "129  G0023     APT16  [APT16](https://attack.mitre.org/groups/G0023)...   \n",
       "130  G0025     APT17  [APT17](https://attack.mitre.org/groups/G0025)...   \n",
       "\n",
       "                                       url      created    last modified  \\\n",
       "47   https://attack.mitre.org/groups/G0099  05 May 2020      26 May 2021   \n",
       "13   https://attack.mitre.org/groups/G0006  31 May 2017      26 May 2021   \n",
       "96   https://attack.mitre.org/groups/G0005  31 May 2017    30 March 2020   \n",
       "129  https://attack.mitre.org/groups/G0023  31 May 2017     26 July 2022   \n",
       "130  https://attack.mitre.org/groups/G0025  31 May 2017  13 October 2020   \n",
       "\n",
       "    version                contributors  \\\n",
       "47      1.1  Jose Luis Sánchez Martinez   \n",
       "13      1.4                         NaN   \n",
       "96      2.1                         NaN   \n",
       "129     1.1                         NaN   \n",
       "130     1.1                         NaN   \n",
       "\n",
       "                              associated groups  \\\n",
       "47                                  Blind Eagle   \n",
       "13   Comment Crew, Comment Group, Comment Panda   \n",
       "96     DNSCALC, DynCalc, IXESHE, Numbered Panda   \n",
       "129                                               \n",
       "130                                  Deputy Dog   \n",
       "\n",
       "                           associated groups citations  \\\n",
       "47                (Citation: QiAnXin APT-C-36 Feb2019)   \n",
       "13   (Citation: Mandiant APT1), (Citation: Mandiant...   \n",
       "96   (Citation: Moran 2014), (Citation: Meyers Numb...   \n",
       "129                                                      \n",
       "130                          (Citation: FireEye APT17)   \n",
       "\n",
       "                                relationship citations  \n",
       "47   (Citation: QiAnXin APT-C-36 Feb2019),(Citation...  \n",
       "13   (Citation: Mandiant APT1 Appendix),(Citation: ...  \n",
       "96   (Citation: Moran 2014),(Citation: Moran 2013),...  \n",
       "129  (Citation: FireEye EPS Awakens Part 2),(Citati...  \n",
       "130  (Citation: FireEye APT17),(Citation: FireEye A...  "
      ]
     },
     "execution_count": 11,
     "metadata": {},
     "output_type": "execute_result"
    }
   ],
   "source": [
    "# groups_df.info()\n",
    "# print_cols (groups_df)\n",
    "groups_df.head()"
   ]
  },
  {
   "cell_type": "markdown",
   "metadata": {},
   "source": [
    "### 2-2 Group - Technique list"
   ]
  },
  {
   "cell_type": "code",
   "execution_count": 12,
   "metadata": {},
   "outputs": [],
   "source": [
    "groups_techniques_df = groups_data['techniques used']\n"
   ]
  },
  {
   "cell_type": "code",
   "execution_count": 13,
   "metadata": {},
   "outputs": [
    {
     "name": "stdout",
     "output_type": "stream",
     "text": [
      "<class 'pandas.core.frame.DataFrame'>\n",
      "Index: 3052 entries, 3167 to 1447\n",
      "Data columns (total 8 columns):\n",
      " #   Column               Non-Null Count  Dtype \n",
      "---  ------               --------------  ----- \n",
      " 0   source ID            3052 non-null   object\n",
      " 1   source name          3052 non-null   object\n",
      " 2   source type          3052 non-null   object\n",
      " 3   mapping type         3052 non-null   object\n",
      " 4   target ID            3052 non-null   object\n",
      " 5   target name          3052 non-null   object\n",
      " 6   target type          3052 non-null   object\n",
      " 7   mapping description  3052 non-null   object\n",
      "dtypes: object(8)\n",
      "memory usage: 214.6+ KB\n"
     ]
    }
   ],
   "source": [
    "groups_techniques_df.info()"
   ]
  },
  {
   "cell_type": "code",
   "execution_count": 14,
   "metadata": {},
   "outputs": [
    {
     "data": {
      "text/html": [
       "<div>\n",
       "<style scoped>\n",
       "    .dataframe tbody tr th:only-of-type {\n",
       "        vertical-align: middle;\n",
       "    }\n",
       "\n",
       "    .dataframe tbody tr th {\n",
       "        vertical-align: top;\n",
       "    }\n",
       "\n",
       "    .dataframe thead th {\n",
       "        text-align: right;\n",
       "    }\n",
       "</style>\n",
       "<table border=\"1\" class=\"dataframe\">\n",
       "  <thead>\n",
       "    <tr style=\"text-align: right;\">\n",
       "      <th></th>\n",
       "      <th>source ID</th>\n",
       "      <th>source name</th>\n",
       "      <th>source type</th>\n",
       "      <th>mapping type</th>\n",
       "      <th>target ID</th>\n",
       "      <th>target name</th>\n",
       "      <th>target type</th>\n",
       "      <th>mapping description</th>\n",
       "    </tr>\n",
       "  </thead>\n",
       "  <tbody>\n",
       "    <tr>\n",
       "      <th>3167</th>\n",
       "      <td>G0099</td>\n",
       "      <td>APT-C-36</td>\n",
       "      <td>group</td>\n",
       "      <td>uses</td>\n",
       "      <td>T1105</td>\n",
       "      <td>Ingress Tool Transfer</td>\n",
       "      <td>technique</td>\n",
       "      <td>[APT-C-36](https://attack.mitre.org/groups/G00...</td>\n",
       "    </tr>\n",
       "    <tr>\n",
       "      <th>2096</th>\n",
       "      <td>G0099</td>\n",
       "      <td>APT-C-36</td>\n",
       "      <td>group</td>\n",
       "      <td>uses</td>\n",
       "      <td>T1204.002</td>\n",
       "      <td>Malicious File</td>\n",
       "      <td>technique</td>\n",
       "      <td>[APT-C-36](https://attack.mitre.org/groups/G00...</td>\n",
       "    </tr>\n",
       "    <tr>\n",
       "      <th>2093</th>\n",
       "      <td>G0099</td>\n",
       "      <td>APT-C-36</td>\n",
       "      <td>group</td>\n",
       "      <td>uses</td>\n",
       "      <td>T1036.004</td>\n",
       "      <td>Masquerade Task or Service</td>\n",
       "      <td>technique</td>\n",
       "      <td>[APT-C-36](https://attack.mitre.org/groups/G00...</td>\n",
       "    </tr>\n",
       "    <tr>\n",
       "      <th>65</th>\n",
       "      <td>G0099</td>\n",
       "      <td>APT-C-36</td>\n",
       "      <td>group</td>\n",
       "      <td>uses</td>\n",
       "      <td>T1571</td>\n",
       "      <td>Non-Standard Port</td>\n",
       "      <td>technique</td>\n",
       "      <td>[APT-C-36](https://attack.mitre.org/groups/G00...</td>\n",
       "    </tr>\n",
       "    <tr>\n",
       "      <th>2230</th>\n",
       "      <td>G0099</td>\n",
       "      <td>APT-C-36</td>\n",
       "      <td>group</td>\n",
       "      <td>uses</td>\n",
       "      <td>T1027</td>\n",
       "      <td>Obfuscated Files or Information</td>\n",
       "      <td>technique</td>\n",
       "      <td>[APT-C-36](https://attack.mitre.org/groups/G00...</td>\n",
       "    </tr>\n",
       "  </tbody>\n",
       "</table>\n",
       "</div>"
      ],
      "text/plain": [
       "     source ID source name source type mapping type  target ID  \\\n",
       "3167     G0099    APT-C-36       group         uses      T1105   \n",
       "2096     G0099    APT-C-36       group         uses  T1204.002   \n",
       "2093     G0099    APT-C-36       group         uses  T1036.004   \n",
       "65       G0099    APT-C-36       group         uses      T1571   \n",
       "2230     G0099    APT-C-36       group         uses      T1027   \n",
       "\n",
       "                          target name target type  \\\n",
       "3167            Ingress Tool Transfer   technique   \n",
       "2096                   Malicious File   technique   \n",
       "2093       Masquerade Task or Service   technique   \n",
       "65                  Non-Standard Port   technique   \n",
       "2230  Obfuscated Files or Information   technique   \n",
       "\n",
       "                                    mapping description  \n",
       "3167  [APT-C-36](https://attack.mitre.org/groups/G00...  \n",
       "2096  [APT-C-36](https://attack.mitre.org/groups/G00...  \n",
       "2093  [APT-C-36](https://attack.mitre.org/groups/G00...  \n",
       "65    [APT-C-36](https://attack.mitre.org/groups/G00...  \n",
       "2230  [APT-C-36](https://attack.mitre.org/groups/G00...  "
      ]
     },
     "execution_count": 14,
     "metadata": {},
     "output_type": "execute_result"
    }
   ],
   "source": [
    "groups_techniques_df.head()"
   ]
  },
  {
   "cell_type": "markdown",
   "metadata": {},
   "source": [
    "### 2-3 Associated Software"
   ]
  },
  {
   "cell_type": "code",
   "execution_count": 15,
   "metadata": {},
   "outputs": [
    {
     "data": {
      "text/html": [
       "<div>\n",
       "<style scoped>\n",
       "    .dataframe tbody tr th:only-of-type {\n",
       "        vertical-align: middle;\n",
       "    }\n",
       "\n",
       "    .dataframe tbody tr th {\n",
       "        vertical-align: top;\n",
       "    }\n",
       "\n",
       "    .dataframe thead th {\n",
       "        text-align: right;\n",
       "    }\n",
       "</style>\n",
       "<table border=\"1\" class=\"dataframe\">\n",
       "  <thead>\n",
       "    <tr style=\"text-align: right;\">\n",
       "      <th></th>\n",
       "      <th>source ID</th>\n",
       "      <th>source name</th>\n",
       "      <th>source type</th>\n",
       "      <th>mapping type</th>\n",
       "      <th>target ID</th>\n",
       "      <th>target name</th>\n",
       "      <th>target type</th>\n",
       "      <th>mapping description</th>\n",
       "    </tr>\n",
       "  </thead>\n",
       "  <tbody>\n",
       "    <tr>\n",
       "      <th>473</th>\n",
       "      <td>G0099</td>\n",
       "      <td>APT-C-36</td>\n",
       "      <td>group</td>\n",
       "      <td>uses</td>\n",
       "      <td>S0434</td>\n",
       "      <td>Imminent Monitor</td>\n",
       "      <td>software</td>\n",
       "      <td>(Citation: QiAnXin APT-C-36 Feb2019)</td>\n",
       "    </tr>\n",
       "    <tr>\n",
       "      <th>1746</th>\n",
       "      <td>G0006</td>\n",
       "      <td>APT1</td>\n",
       "      <td>group</td>\n",
       "      <td>uses</td>\n",
       "      <td>S0017</td>\n",
       "      <td>BISCUIT</td>\n",
       "      <td>software</td>\n",
       "      <td>(Citation: Mandiant APT1)</td>\n",
       "    </tr>\n",
       "    <tr>\n",
       "      <th>1270</th>\n",
       "      <td>G0006</td>\n",
       "      <td>APT1</td>\n",
       "      <td>group</td>\n",
       "      <td>uses</td>\n",
       "      <td>S0025</td>\n",
       "      <td>CALENDAR</td>\n",
       "      <td>software</td>\n",
       "      <td>(Citation: Mandiant APT1)</td>\n",
       "    </tr>\n",
       "    <tr>\n",
       "      <th>55</th>\n",
       "      <td>G0006</td>\n",
       "      <td>APT1</td>\n",
       "      <td>group</td>\n",
       "      <td>uses</td>\n",
       "      <td>S0119</td>\n",
       "      <td>Cachedump</td>\n",
       "      <td>software</td>\n",
       "      <td>(Citation: Mandiant APT1)</td>\n",
       "    </tr>\n",
       "    <tr>\n",
       "      <th>1485</th>\n",
       "      <td>G0006</td>\n",
       "      <td>APT1</td>\n",
       "      <td>group</td>\n",
       "      <td>uses</td>\n",
       "      <td>S0026</td>\n",
       "      <td>GLOOXMAIL</td>\n",
       "      <td>software</td>\n",
       "      <td>(Citation: Mandiant APT1)</td>\n",
       "    </tr>\n",
       "  </tbody>\n",
       "</table>\n",
       "</div>"
      ],
      "text/plain": [
       "     source ID source name source type mapping type target ID  \\\n",
       "473      G0099    APT-C-36       group         uses     S0434   \n",
       "1746     G0006        APT1       group         uses     S0017   \n",
       "1270     G0006        APT1       group         uses     S0025   \n",
       "55       G0006        APT1       group         uses     S0119   \n",
       "1485     G0006        APT1       group         uses     S0026   \n",
       "\n",
       "           target name target type                   mapping description  \n",
       "473   Imminent Monitor    software  (Citation: QiAnXin APT-C-36 Feb2019)  \n",
       "1746           BISCUIT    software             (Citation: Mandiant APT1)  \n",
       "1270          CALENDAR    software             (Citation: Mandiant APT1)  \n",
       "55           Cachedump    software             (Citation: Mandiant APT1)  \n",
       "1485         GLOOXMAIL    software             (Citation: Mandiant APT1)  "
      ]
     },
     "execution_count": 15,
     "metadata": {},
     "output_type": "execute_result"
    }
   ],
   "source": [
    "groups_software_df = groups_data['associated software']\n",
    "groups_software_df.head()"
   ]
  },
  {
   "cell_type": "code",
   "execution_count": 16,
   "metadata": {},
   "outputs": [
    {
     "name": "stdout",
     "output_type": "stream",
     "text": [
      "<class 'pandas.core.frame.DataFrame'>\n",
      "Index: 830 entries, 473 to 3001\n",
      "Data columns (total 8 columns):\n",
      " #   Column               Non-Null Count  Dtype \n",
      "---  ------               --------------  ----- \n",
      " 0   source ID            830 non-null    object\n",
      " 1   source name          830 non-null    object\n",
      " 2   source type          830 non-null    object\n",
      " 3   mapping type         830 non-null    object\n",
      " 4   target ID            830 non-null    object\n",
      " 5   target name          830 non-null    object\n",
      " 6   target type          830 non-null    object\n",
      " 7   mapping description  828 non-null    object\n",
      "dtypes: object(8)\n",
      "memory usage: 58.4+ KB\n",
      "- source ID\n",
      "- source name\n",
      "- source type\n",
      "- mapping type\n",
      "- target ID\n",
      "- target name\n",
      "- target type\n",
      "- mapping description\n"
     ]
    }
   ],
   "source": [
    "groups_software_df.info()\n",
    "print_cols (groups_software_df)"
   ]
  },
  {
   "cell_type": "markdown",
   "metadata": {},
   "source": [
    "---\n",
    "## 3 Tactic list"
   ]
  },
  {
   "cell_type": "code",
   "execution_count": 17,
   "metadata": {},
   "outputs": [
    {
     "name": "stderr",
     "output_type": "stream",
     "text": [
      "parsing tactics: 100%|██████████| 14/14 [00:00<00:00, 6993.84it/s]\n"
     ]
    },
    {
     "data": {
      "text/plain": [
       "dict_keys(['tactics'])"
      ]
     },
     "execution_count": 17,
     "metadata": {},
     "output_type": "execute_result"
    }
   ],
   "source": [
    "tactics_data = stixToDf.tacticsToDf(attackdata)\n",
    "tactics_data.keys()"
   ]
  },
  {
   "cell_type": "code",
   "execution_count": 18,
   "metadata": {},
   "outputs": [],
   "source": [
    "tactics_df = tactics_data['tactics']"
   ]
  },
  {
   "cell_type": "code",
   "execution_count": 19,
   "metadata": {},
   "outputs": [
    {
     "name": "stdout",
     "output_type": "stream",
     "text": [
      "<class 'pandas.core.frame.DataFrame'>\n",
      "Index: 14 entries, 9 to 10\n",
      "Data columns (total 7 columns):\n",
      " #   Column         Non-Null Count  Dtype \n",
      "---  ------         --------------  ----- \n",
      " 0   ID             14 non-null     object\n",
      " 1   name           14 non-null     object\n",
      " 2   description    14 non-null     object\n",
      " 3   url            14 non-null     object\n",
      " 4   created        14 non-null     object\n",
      " 5   last modified  14 non-null     object\n",
      " 6   version        14 non-null     object\n",
      "dtypes: object(7)\n",
      "memory usage: 896.0+ bytes\n"
     ]
    }
   ],
   "source": [
    "tactics_df.info()"
   ]
  },
  {
   "cell_type": "code",
   "execution_count": 20,
   "metadata": {},
   "outputs": [
    {
     "name": "stdout",
     "output_type": "stream",
     "text": [
      "- ID\n",
      "- name\n",
      "- description\n",
      "- url\n",
      "- created\n",
      "- last modified\n",
      "- version\n"
     ]
    }
   ],
   "source": [
    "print_cols (tactics_df)"
   ]
  },
  {
   "cell_type": "markdown",
   "metadata": {},
   "source": [
    "## 4 Software list"
   ]
  },
  {
   "cell_type": "code",
   "execution_count": 21,
   "metadata": {},
   "outputs": [
    {
     "name": "stderr",
     "output_type": "stream",
     "text": [
      "parsing software: 100%|██████████| 635/635 [00:00<00:00, 16300.47it/s]\n",
      "parsing relationships for type=software: 100%|██████████| 16530/16530 [00:00<00:00, 68686.47it/s]\n"
     ]
    },
    {
     "data": {
      "text/plain": [
       "dict_keys(['software', 'associated groups', 'associated campaigns', 'techniques used', 'citations'])"
      ]
     },
     "execution_count": 21,
     "metadata": {},
     "output_type": "execute_result"
    }
   ],
   "source": [
    "software_data = stixToDf.softwareToDf(attackdata)\n",
    "software_data.keys()"
   ]
  },
  {
   "cell_type": "code",
   "execution_count": 22,
   "metadata": {},
   "outputs": [],
   "source": [
    "software_df = software_data['software']\n",
    "software_groups_df = software_data['associated groups']\n",
    "software_techniques_df = software_data['techniques used']"
   ]
  },
  {
   "cell_type": "markdown",
   "metadata": {},
   "source": [
    "### 4-1 Software list"
   ]
  },
  {
   "cell_type": "code",
   "execution_count": 23,
   "metadata": {},
   "outputs": [
    {
     "name": "stdout",
     "output_type": "stream",
     "text": [
      "<class 'pandas.core.frame.DataFrame'>\n",
      "Index: 635 entries, 350 to 258\n",
      "Data columns (total 12 columns):\n",
      " #   Column                  Non-Null Count  Dtype \n",
      "---  ------                  --------------  ----- \n",
      " 0   ID                      635 non-null    object\n",
      " 1   name                    635 non-null    object\n",
      " 2   description             635 non-null    object\n",
      " 3   url                     635 non-null    object\n",
      " 4   created                 635 non-null    object\n",
      " 5   last modified           635 non-null    object\n",
      " 6   version                 635 non-null    object\n",
      " 7   contributors            138 non-null    object\n",
      " 8   platforms               598 non-null    object\n",
      " 9   aliases                 608 non-null    object\n",
      " 10  type                    635 non-null    object\n",
      " 11  relationship citations  635 non-null    object\n",
      "dtypes: object(12)\n",
      "memory usage: 64.5+ KB\n",
      "- ID\n",
      "- name\n",
      "- description\n",
      "- url\n",
      "- created\n",
      "- last modified\n",
      "- version\n",
      "- contributors\n",
      "- platforms\n",
      "- aliases\n",
      "- type\n",
      "- relationship citations\n"
     ]
    }
   ],
   "source": [
    "software_df.info()\n",
    "print_cols (software_df)"
   ]
  },
  {
   "cell_type": "markdown",
   "metadata": {},
   "source": [
    "### 4-2 Software-Group list"
   ]
  },
  {
   "cell_type": "code",
   "execution_count": 24,
   "metadata": {},
   "outputs": [
    {
     "name": "stdout",
     "output_type": "stream",
     "text": [
      "<class 'pandas.core.frame.DataFrame'>\n",
      "Index: 830 entries, 1150 to 7089\n",
      "Data columns (total 8 columns):\n",
      " #   Column               Non-Null Count  Dtype \n",
      "---  ------               --------------  ----- \n",
      " 0   source ID            830 non-null    object\n",
      " 1   source name          830 non-null    object\n",
      " 2   source type          830 non-null    object\n",
      " 3   mapping type         830 non-null    object\n",
      " 4   target ID            830 non-null    object\n",
      " 5   target name          830 non-null    object\n",
      " 6   target type          830 non-null    object\n",
      " 7   mapping description  828 non-null    object\n",
      "dtypes: object(8)\n",
      "memory usage: 58.4+ KB\n",
      "- source ID\n",
      "- source name\n",
      "- source type\n",
      "- mapping type\n",
      "- target ID\n",
      "- target name\n",
      "- target type\n",
      "- mapping description\n"
     ]
    }
   ],
   "source": [
    "software_groups_df.info()\n",
    "print_cols(software_groups_df)"
   ]
  },
  {
   "cell_type": "markdown",
   "metadata": {},
   "source": [
    "### 4-3 Software-Techniques list"
   ]
  },
  {
   "cell_type": "code",
   "execution_count": 25,
   "metadata": {},
   "outputs": [
    {
     "name": "stdout",
     "output_type": "stream",
     "text": [
      "- source ID\n",
      "- source name\n",
      "- source type\n",
      "- mapping type\n",
      "- target ID\n",
      "- target name\n",
      "- target type\n",
      "- mapping description\n"
     ]
    }
   ],
   "source": [
    "print_cols(software_techniques_df)"
   ]
  },
  {
   "cell_type": "markdown",
   "metadata": {},
   "source": [
    "---\n",
    "# Export data"
   ]
  },
  {
   "cell_type": "code",
   "execution_count": 26,
   "metadata": {},
   "outputs": [],
   "source": [
    "dfs = {\n",
    "    \"techniques_df\" : techniques_df,\n",
    "    \"techniques_mitigations_df\" : techniques_mitigations_df,\n",
    "    \"groups_df\": groups_df,\n",
    "    \"groups_techniques_df\" : groups_techniques_df,\n",
    "    \"groups_software_df\" : groups_software_df,\n",
    "    \"tactics_df\" : tactics_df,\n",
    "    \"software_df\" : software_df,\n",
    "    \"software_groups_df\" : software_groups_df\n",
    "}\n"
   ]
  },
  {
   "cell_type": "code",
   "execution_count": 29,
   "metadata": {},
   "outputs": [],
   "source": [
    "import attck_utils\n",
    "\n",
    "for key in dfs.keys():\n",
    "    # dfs[key].to_csv (f\"fetched_data/{key}.csv\", index = False)\n",
    "    attck_utils.save_df_to_csv (\n",
    "        path = \"data/fetched_data\",\n",
    "        filename =  key,\n",
    "        df = dfs[key]\n",
    "    )"
   ]
  }
 ],
 "metadata": {
  "kernelspec": {
   "display_name": "tfNote01",
   "language": "python",
   "name": "python3"
  },
  "language_info": {
   "codemirror_mode": {
    "name": "ipython",
    "version": 3
   },
   "file_extension": ".py",
   "mimetype": "text/x-python",
   "name": "python",
   "nbconvert_exporter": "python",
   "pygments_lexer": "ipython3",
   "version": "3.10.12"
  },
  "orig_nbformat": 4
 },
 "nbformat": 4,
 "nbformat_minor": 2
}
