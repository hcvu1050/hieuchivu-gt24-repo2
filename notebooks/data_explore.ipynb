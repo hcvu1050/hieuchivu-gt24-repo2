{
 "cells": [
  {
   "cell_type": "markdown",
   "metadata": {},
   "source": [
    "Explore all the data that can be provided by `mitreattack.attackToExcel.stixToDf` and `enterprise-attack.json`"
   ]
  },
  {
   "cell_type": "code",
   "execution_count": 77,
   "metadata": {},
   "outputs": [],
   "source": [
    "from stix2 import MemoryStore\n",
    "import mitreattack.attackToExcel.stixToDf as stixToDf\n",
    "import pandas as pd\n",
    "import os\n",
    "file_path = '../data/raw/enterprise-attack.json'\n",
    "attackdata = MemoryStore ()\n",
    "attackdata.load_from_file (file_path)"
   ]
  },
  {
   "cell_type": "code",
   "execution_count": 78,
   "metadata": {},
   "outputs": [
    {
     "name": "stderr",
     "output_type": "stream",
     "text": [
      "parsing techniques: 100%|██████████| 607/607 [00:00<00:00, 1395.50it/s]\n",
      "parsing relationships for type=technique: 100%|██████████| 16530/16530 [00:00<00:00, 72429.74it/s]\n",
      "parsing groups: 100%|██████████| 136/136 [00:00<00:00, 22669.21it/s]\n",
      "parsing relationships for type=group: 100%|██████████| 16530/16530 [00:00<00:00, 102556.74it/s]\n",
      "parsing tactics: 100%|██████████| 14/14 [00:00<00:00, 13954.43it/s]\n",
      "parsing software: 100%|██████████| 635/635 [00:00<00:00, 33351.49it/s]\n",
      "parsing relationships for type=software: 100%|██████████| 16530/16530 [00:00<00:00, 81348.58it/s]\n",
      "parsing mitigations: 100%|██████████| 43/43 [00:00<00:00, 41252.30it/s]\n",
      "parsing relationships for type=mitigation: 100%|██████████| 16530/16530 [00:00<00:00, 113822.03it/s]\n",
      "parsing all relationships: 100%|██████████| 16530/16530 [00:00<00:00, 74198.29it/s]\n"
     ]
    }
   ],
   "source": [
    "techniques = stixToDf.techniquesToDf(attackdata, 'enterprise-attack')\n",
    "groups = stixToDf.groupsToDf(attackdata)\n",
    "tactics = stixToDf.tacticsToDf(attackdata)\n",
    "software = stixToDf.softwareToDf(attackdata)\n",
    "mitigations = stixToDf.mitigationsToDf(attackdata)\n",
    "relationships = stixToDf.relationshipsToDf(attackdata)"
   ]
  },
  {
   "cell_type": "markdown",
   "metadata": {},
   "source": [
    "---\n",
    "# 1- Techniques data"
   ]
  },
  {
   "cell_type": "code",
   "execution_count": 79,
   "metadata": {},
   "outputs": [
    {
     "data": {
      "text/plain": [
       "dict_keys(['techniques', 'procedure examples', 'associated mitigations', 'citations'])"
      ]
     },
     "execution_count": 79,
     "metadata": {},
     "output_type": "execute_result"
    }
   ],
   "source": [
    "techniques.keys()"
   ]
  },
  {
   "cell_type": "markdown",
   "metadata": {},
   "source": [
    "## 1-1 Techniques-Techniques"
   ]
  },
  {
   "cell_type": "code",
   "execution_count": 80,
   "metadata": {},
   "outputs": [],
   "source": [
    "techniques_df = techniques['techniques']"
   ]
  },
  {
   "cell_type": "code",
   "execution_count": 81,
   "metadata": {},
   "outputs": [
    {
     "data": {
      "text/html": [
       "<div>\n",
       "<style scoped>\n",
       "    .dataframe tbody tr th:only-of-type {\n",
       "        vertical-align: middle;\n",
       "    }\n",
       "\n",
       "    .dataframe tbody tr th {\n",
       "        vertical-align: top;\n",
       "    }\n",
       "\n",
       "    .dataframe thead th {\n",
       "        text-align: right;\n",
       "    }\n",
       "</style>\n",
       "<table border=\"1\" class=\"dataframe\">\n",
       "  <thead>\n",
       "    <tr style=\"text-align: right;\">\n",
       "      <th></th>\n",
       "      <th>ID</th>\n",
       "      <th>name</th>\n",
       "      <th>description</th>\n",
       "      <th>url</th>\n",
       "      <th>created</th>\n",
       "      <th>last modified</th>\n",
       "      <th>version</th>\n",
       "      <th>tactics</th>\n",
       "      <th>detection</th>\n",
       "      <th>platforms</th>\n",
       "      <th>...</th>\n",
       "      <th>is sub-technique</th>\n",
       "      <th>sub-technique of</th>\n",
       "      <th>defenses bypassed</th>\n",
       "      <th>contributors</th>\n",
       "      <th>permissions required</th>\n",
       "      <th>supports remote</th>\n",
       "      <th>system requirements</th>\n",
       "      <th>impact type</th>\n",
       "      <th>effective permissions</th>\n",
       "      <th>relationship citations</th>\n",
       "    </tr>\n",
       "  </thead>\n",
       "  <tbody>\n",
       "    <tr>\n",
       "      <th>256</th>\n",
       "      <td>T1548</td>\n",
       "      <td>Abuse Elevation Control Mechanism</td>\n",
       "      <td>Adversaries may circumvent mechanisms designed...</td>\n",
       "      <td>https://attack.mitre.org/techniques/T1548</td>\n",
       "      <td>30 January 2020</td>\n",
       "      <td>21 April 2023</td>\n",
       "      <td>1.1</td>\n",
       "      <td>Defense Evasion, Privilege Escalation</td>\n",
       "      <td>Monitor the file system for files that have th...</td>\n",
       "      <td>Linux, Windows, macOS</td>\n",
       "      <td>...</td>\n",
       "      <td>False</td>\n",
       "      <td>NaN</td>\n",
       "      <td>NaN</td>\n",
       "      <td>NaN</td>\n",
       "      <td>Administrator, User</td>\n",
       "      <td>NaN</td>\n",
       "      <td>NaN</td>\n",
       "      <td>NaN</td>\n",
       "      <td>NaN</td>\n",
       "      <td>,(Citation: Github UACMe)</td>\n",
       "    </tr>\n",
       "    <tr>\n",
       "      <th>50</th>\n",
       "      <td>T1548.002</td>\n",
       "      <td>Abuse Elevation Control Mechanism: Bypass User...</td>\n",
       "      <td>Adversaries may bypass UAC mechanisms to eleva...</td>\n",
       "      <td>https://attack.mitre.org/techniques/T1548/002</td>\n",
       "      <td>30 January 2020</td>\n",
       "      <td>21 April 2023</td>\n",
       "      <td>2.1</td>\n",
       "      <td>Defense Evasion, Privilege Escalation</td>\n",
       "      <td>There are many ways to perform UAC bypasses wh...</td>\n",
       "      <td>Windows</td>\n",
       "      <td>...</td>\n",
       "      <td>True</td>\n",
       "      <td>T1548</td>\n",
       "      <td>Windows User Account Control</td>\n",
       "      <td>Casey Smith; Stefan Kanthak</td>\n",
       "      <td>Administrator, User</td>\n",
       "      <td>NaN</td>\n",
       "      <td>NaN</td>\n",
       "      <td>NaN</td>\n",
       "      <td>Administrator</td>\n",
       "      <td>(Citation: ESET EvilNum July 2020),(Citation: ...</td>\n",
       "    </tr>\n",
       "    <tr>\n",
       "      <th>433</th>\n",
       "      <td>T1548.004</td>\n",
       "      <td>Abuse Elevation Control Mechanism: Elevated Ex...</td>\n",
       "      <td>Adversaries may leverage the &lt;code&gt;Authorizati...</td>\n",
       "      <td>https://attack.mitre.org/techniques/T1548/004</td>\n",
       "      <td>30 January 2020</td>\n",
       "      <td>19 October 2022</td>\n",
       "      <td>1.0</td>\n",
       "      <td>Defense Evasion, Privilege Escalation</td>\n",
       "      <td>Consider monitoring for &lt;code&gt;/usr/libexec/sec...</td>\n",
       "      <td>macOS</td>\n",
       "      <td>...</td>\n",
       "      <td>True</td>\n",
       "      <td>T1548</td>\n",
       "      <td>NaN</td>\n",
       "      <td>Erika Noerenberg, @gutterchurl, Carbon Black; ...</td>\n",
       "      <td>Administrator, User</td>\n",
       "      <td>NaN</td>\n",
       "      <td>NaN</td>\n",
       "      <td>NaN</td>\n",
       "      <td>root</td>\n",
       "      <td>(Citation: Carbon Black Shlayer Feb 2019),</td>\n",
       "    </tr>\n",
       "    <tr>\n",
       "      <th>258</th>\n",
       "      <td>T1548.001</td>\n",
       "      <td>Abuse Elevation Control Mechanism: Setuid and ...</td>\n",
       "      <td>An adversary may abuse configurations where an...</td>\n",
       "      <td>https://attack.mitre.org/techniques/T1548/001</td>\n",
       "      <td>30 January 2020</td>\n",
       "      <td>15 March 2023</td>\n",
       "      <td>1.1</td>\n",
       "      <td>Defense Evasion, Privilege Escalation</td>\n",
       "      <td>Monitor the file system for files that have th...</td>\n",
       "      <td>Linux, macOS</td>\n",
       "      <td>...</td>\n",
       "      <td>True</td>\n",
       "      <td>T1548</td>\n",
       "      <td>NaN</td>\n",
       "      <td>NaN</td>\n",
       "      <td>User</td>\n",
       "      <td>NaN</td>\n",
       "      <td>NaN</td>\n",
       "      <td>NaN</td>\n",
       "      <td>NaN</td>\n",
       "      <td>(Citation: OSX Keydnap malware),(Citation: ANS...</td>\n",
       "    </tr>\n",
       "    <tr>\n",
       "      <th>52</th>\n",
       "      <td>T1548.003</td>\n",
       "      <td>Abuse Elevation Control Mechanism: Sudo and Su...</td>\n",
       "      <td>Adversaries may perform sudo caching and/or us...</td>\n",
       "      <td>https://attack.mitre.org/techniques/T1548/003</td>\n",
       "      <td>30 January 2020</td>\n",
       "      <td>14 March 2022</td>\n",
       "      <td>1.0</td>\n",
       "      <td>Defense Evasion, Privilege Escalation</td>\n",
       "      <td>On Linux, auditd can alert every time a user's...</td>\n",
       "      <td>Linux, macOS</td>\n",
       "      <td>...</td>\n",
       "      <td>True</td>\n",
       "      <td>T1548</td>\n",
       "      <td>NaN</td>\n",
       "      <td>NaN</td>\n",
       "      <td>User</td>\n",
       "      <td>NaN</td>\n",
       "      <td>NaN</td>\n",
       "      <td>NaN</td>\n",
       "      <td>root</td>\n",
       "      <td>(Citation: Cobalt Strike Manual 4.3 November 2...</td>\n",
       "    </tr>\n",
       "  </tbody>\n",
       "</table>\n",
       "<p>5 rows × 21 columns</p>\n",
       "</div>"
      ],
      "text/plain": [
       "            ID                                               name  \\\n",
       "256      T1548                  Abuse Elevation Control Mechanism   \n",
       "50   T1548.002  Abuse Elevation Control Mechanism: Bypass User...   \n",
       "433  T1548.004  Abuse Elevation Control Mechanism: Elevated Ex...   \n",
       "258  T1548.001  Abuse Elevation Control Mechanism: Setuid and ...   \n",
       "52   T1548.003  Abuse Elevation Control Mechanism: Sudo and Su...   \n",
       "\n",
       "                                           description  \\\n",
       "256  Adversaries may circumvent mechanisms designed...   \n",
       "50   Adversaries may bypass UAC mechanisms to eleva...   \n",
       "433  Adversaries may leverage the <code>Authorizati...   \n",
       "258  An adversary may abuse configurations where an...   \n",
       "52   Adversaries may perform sudo caching and/or us...   \n",
       "\n",
       "                                               url          created  \\\n",
       "256      https://attack.mitre.org/techniques/T1548  30 January 2020   \n",
       "50   https://attack.mitre.org/techniques/T1548/002  30 January 2020   \n",
       "433  https://attack.mitre.org/techniques/T1548/004  30 January 2020   \n",
       "258  https://attack.mitre.org/techniques/T1548/001  30 January 2020   \n",
       "52   https://attack.mitre.org/techniques/T1548/003  30 January 2020   \n",
       "\n",
       "       last modified version                                tactics  \\\n",
       "256    21 April 2023     1.1  Defense Evasion, Privilege Escalation   \n",
       "50     21 April 2023     2.1  Defense Evasion, Privilege Escalation   \n",
       "433  19 October 2022     1.0  Defense Evasion, Privilege Escalation   \n",
       "258    15 March 2023     1.1  Defense Evasion, Privilege Escalation   \n",
       "52     14 March 2022     1.0  Defense Evasion, Privilege Escalation   \n",
       "\n",
       "                                             detection              platforms  \\\n",
       "256  Monitor the file system for files that have th...  Linux, Windows, macOS   \n",
       "50   There are many ways to perform UAC bypasses wh...                Windows   \n",
       "433  Consider monitoring for <code>/usr/libexec/sec...                  macOS   \n",
       "258  Monitor the file system for files that have th...           Linux, macOS   \n",
       "52   On Linux, auditd can alert every time a user's...           Linux, macOS   \n",
       "\n",
       "     ... is sub-technique  sub-technique of             defenses bypassed  \\\n",
       "256  ...            False               NaN                           NaN   \n",
       "50   ...             True             T1548  Windows User Account Control   \n",
       "433  ...             True             T1548                           NaN   \n",
       "258  ...             True             T1548                           NaN   \n",
       "52   ...             True             T1548                           NaN   \n",
       "\n",
       "                                          contributors permissions required  \\\n",
       "256                                                NaN  Administrator, User   \n",
       "50                         Casey Smith; Stefan Kanthak  Administrator, User   \n",
       "433  Erika Noerenberg, @gutterchurl, Carbon Black; ...  Administrator, User   \n",
       "258                                                NaN                 User   \n",
       "52                                                 NaN                 User   \n",
       "\n",
       "    supports remote system requirements impact type effective permissions  \\\n",
       "256             NaN                 NaN         NaN                   NaN   \n",
       "50              NaN                 NaN         NaN         Administrator   \n",
       "433             NaN                 NaN         NaN                  root   \n",
       "258             NaN                 NaN         NaN                   NaN   \n",
       "52              NaN                 NaN         NaN                  root   \n",
       "\n",
       "                                relationship citations  \n",
       "256                          ,(Citation: Github UACMe)  \n",
       "50   (Citation: ESET EvilNum July 2020),(Citation: ...  \n",
       "433         (Citation: Carbon Black Shlayer Feb 2019),  \n",
       "258  (Citation: OSX Keydnap malware),(Citation: ANS...  \n",
       "52   (Citation: Cobalt Strike Manual 4.3 November 2...  \n",
       "\n",
       "[5 rows x 21 columns]"
      ]
     },
     "execution_count": 81,
     "metadata": {},
     "output_type": "execute_result"
    }
   ],
   "source": [
    "techniques_df.head()"
   ]
  },
  {
   "cell_type": "code",
   "execution_count": 85,
   "metadata": {},
   "outputs": [
    {
     "ename": "KeyError",
     "evalue": "('url', 'created')",
     "output_type": "error",
     "traceback": [
      "\u001b[1;31m---------------------------------------------------------------------------\u001b[0m",
      "\u001b[1;31mKeyError\u001b[0m                                  Traceback (most recent call last)",
      "File \u001b[1;32mc:\\ProgramData\\anaconda3\\envs\\hcv-gt24-env\\Lib\\site-packages\\pandas\\core\\indexes\\base.py:3790\u001b[0m, in \u001b[0;36mIndex.get_loc\u001b[1;34m(self, key)\u001b[0m\n\u001b[0;32m   3789\u001b[0m \u001b[39mtry\u001b[39;00m:\n\u001b[1;32m-> 3790\u001b[0m     \u001b[39mreturn\u001b[39;00m \u001b[39mself\u001b[39m\u001b[39m.\u001b[39m_engine\u001b[39m.\u001b[39mget_loc(casted_key)\n\u001b[0;32m   3791\u001b[0m \u001b[39mexcept\u001b[39;00m \u001b[39mKeyError\u001b[39;00m \u001b[39mas\u001b[39;00m err:\n",
      "File \u001b[1;32mindex.pyx:152\u001b[0m, in \u001b[0;36mpandas._libs.index.IndexEngine.get_loc\u001b[1;34m()\u001b[0m\n",
      "File \u001b[1;32mindex.pyx:181\u001b[0m, in \u001b[0;36mpandas._libs.index.IndexEngine.get_loc\u001b[1;34m()\u001b[0m\n",
      "File \u001b[1;32mpandas\\_libs\\hashtable_class_helper.pxi:7080\u001b[0m, in \u001b[0;36mpandas._libs.hashtable.PyObjectHashTable.get_item\u001b[1;34m()\u001b[0m\n",
      "File \u001b[1;32mpandas\\_libs\\hashtable_class_helper.pxi:7088\u001b[0m, in \u001b[0;36mpandas._libs.hashtable.PyObjectHashTable.get_item\u001b[1;34m()\u001b[0m\n",
      "\u001b[1;31mKeyError\u001b[0m: ('url', 'created')",
      "\nThe above exception was the direct cause of the following exception:\n",
      "\u001b[1;31mKeyError\u001b[0m                                  Traceback (most recent call last)",
      "\u001b[1;32mc:\\Users\\vuchi\\GT24\\hieuchivu-gt24-repo2\\notebooks\\data_explore.ipynb Cell 9\u001b[0m line \u001b[0;36m1\n\u001b[1;32m----> <a href='vscode-notebook-cell:/c%3A/Users/vuchi/GT24/hieuchivu-gt24-repo2/notebooks/data_explore.ipynb#Y125sZmlsZQ%3D%3D?line=0'>1</a>\u001b[0m df \u001b[39m=\u001b[39m techniques_df[\u001b[39m'\u001b[39m\u001b[39murl\u001b[39m\u001b[39m'\u001b[39m, \u001b[39m'\u001b[39m\u001b[39mcreated\u001b[39m\u001b[39m'\u001b[39m]\n",
      "File \u001b[1;32mc:\\ProgramData\\anaconda3\\envs\\hcv-gt24-env\\Lib\\site-packages\\pandas\\core\\frame.py:3896\u001b[0m, in \u001b[0;36mDataFrame.__getitem__\u001b[1;34m(self, key)\u001b[0m\n\u001b[0;32m   3894\u001b[0m \u001b[39mif\u001b[39;00m \u001b[39mself\u001b[39m\u001b[39m.\u001b[39mcolumns\u001b[39m.\u001b[39mnlevels \u001b[39m>\u001b[39m \u001b[39m1\u001b[39m:\n\u001b[0;32m   3895\u001b[0m     \u001b[39mreturn\u001b[39;00m \u001b[39mself\u001b[39m\u001b[39m.\u001b[39m_getitem_multilevel(key)\n\u001b[1;32m-> 3896\u001b[0m indexer \u001b[39m=\u001b[39m \u001b[39mself\u001b[39m\u001b[39m.\u001b[39mcolumns\u001b[39m.\u001b[39mget_loc(key)\n\u001b[0;32m   3897\u001b[0m \u001b[39mif\u001b[39;00m is_integer(indexer):\n\u001b[0;32m   3898\u001b[0m     indexer \u001b[39m=\u001b[39m [indexer]\n",
      "File \u001b[1;32mc:\\ProgramData\\anaconda3\\envs\\hcv-gt24-env\\Lib\\site-packages\\pandas\\core\\indexes\\base.py:3797\u001b[0m, in \u001b[0;36mIndex.get_loc\u001b[1;34m(self, key)\u001b[0m\n\u001b[0;32m   3792\u001b[0m     \u001b[39mif\u001b[39;00m \u001b[39misinstance\u001b[39m(casted_key, \u001b[39mslice\u001b[39m) \u001b[39mor\u001b[39;00m (\n\u001b[0;32m   3793\u001b[0m         \u001b[39misinstance\u001b[39m(casted_key, abc\u001b[39m.\u001b[39mIterable)\n\u001b[0;32m   3794\u001b[0m         \u001b[39mand\u001b[39;00m \u001b[39many\u001b[39m(\u001b[39misinstance\u001b[39m(x, \u001b[39mslice\u001b[39m) \u001b[39mfor\u001b[39;00m x \u001b[39min\u001b[39;00m casted_key)\n\u001b[0;32m   3795\u001b[0m     ):\n\u001b[0;32m   3796\u001b[0m         \u001b[39mraise\u001b[39;00m InvalidIndexError(key)\n\u001b[1;32m-> 3797\u001b[0m     \u001b[39mraise\u001b[39;00m \u001b[39mKeyError\u001b[39;00m(key) \u001b[39mfrom\u001b[39;00m \u001b[39merr\u001b[39;00m\n\u001b[0;32m   3798\u001b[0m \u001b[39mexcept\u001b[39;00m \u001b[39mTypeError\u001b[39;00m:\n\u001b[0;32m   3799\u001b[0m     \u001b[39m# If we have a listlike key, _check_indexing_error will raise\u001b[39;00m\n\u001b[0;32m   3800\u001b[0m     \u001b[39m#  InvalidIndexError. Otherwise we fall through and re-raise\u001b[39;00m\n\u001b[0;32m   3801\u001b[0m     \u001b[39m#  the TypeError.\u001b[39;00m\n\u001b[0;32m   3802\u001b[0m     \u001b[39mself\u001b[39m\u001b[39m.\u001b[39m_check_indexing_error(key)\n",
      "\u001b[1;31mKeyError\u001b[0m: ('url', 'created')"
     ]
    }
   ],
   "source": [
    "df = techniques_df['url', 'created']"
   ]
  },
  {
   "cell_type": "code",
   "execution_count": 76,
   "metadata": {},
   "outputs": [
    {
     "data": {
      "text/plain": [
       "103"
      ]
     },
     "execution_count": 76,
     "metadata": {},
     "output_type": "execute_result"
    }
   ],
   "source": [
    "techniques_df['defenses bypassed'].count()"
   ]
  },
  {
   "cell_type": "markdown",
   "metadata": {},
   "source": [
    "## 1-2 Techniques-Mitigations\n"
   ]
  },
  {
   "cell_type": "code",
   "execution_count": 28,
   "metadata": {},
   "outputs": [],
   "source": [
    "techniques_mitigations_df = techniques['associated mitigations']"
   ]
  },
  {
   "cell_type": "code",
   "execution_count": 29,
   "metadata": {},
   "outputs": [
    {
     "data": {
      "text/plain": [
       "source ID\n",
       "M1026    105\n",
       "M1018     89\n",
       "M1056     82\n",
       "M1047     78\n",
       "M1038     66\n",
       "M1042     59\n",
       "M1022     56\n",
       "M1031     55\n",
       "M1040     46\n",
       "M1027     44\n",
       "M1017     41\n",
       "M1032     41\n",
       "M1037     40\n",
       "M1028     39\n",
       "M1030     35\n",
       "M1051     32\n",
       "M1041     29\n",
       "M1054     24\n",
       "M1021     23\n",
       "M1045     20\n",
       "M1024     20\n",
       "M1035     16\n",
       "M1049     15\n",
       "M1015     14\n",
       "M1048     12\n",
       "M1029     11\n",
       "M1050     11\n",
       "M1046     11\n",
       "M1057      9\n",
       "M1053      9\n",
       "M1013      9\n",
       "M1043      8\n",
       "M1052      7\n",
       "M1025      7\n",
       "M1036      7\n",
       "M1033      6\n",
       "M1016      5\n",
       "M1020      4\n",
       "M1019      4\n",
       "M1034      4\n",
       "M1044      3\n",
       "M1039      2\n",
       "M1055      2\n",
       "Name: count, dtype: int64"
      ]
     },
     "execution_count": 29,
     "metadata": {},
     "output_type": "execute_result"
    }
   ],
   "source": [
    "techniques_mitigations_df['source ID'].value_counts()"
   ]
  },
  {
   "cell_type": "markdown",
   "metadata": {},
   "source": [
    "---\n",
    "# 2- Groups data"
   ]
  },
  {
   "cell_type": "code",
   "execution_count": 30,
   "metadata": {},
   "outputs": [
    {
     "data": {
      "text/plain": [
       "dict_keys(['groups', 'associated software', 'techniques used', 'attributed campaigns', 'citations'])"
      ]
     },
     "execution_count": 30,
     "metadata": {},
     "output_type": "execute_result"
    }
   ],
   "source": [
    "groups.keys()"
   ]
  },
  {
   "cell_type": "markdown",
   "metadata": {},
   "source": [
    "## 2-1 Groups-Groups"
   ]
  },
  {
   "cell_type": "code",
   "execution_count": 31,
   "metadata": {},
   "outputs": [],
   "source": [
    "groups_df = groups['groups']"
   ]
  },
  {
   "cell_type": "code",
   "execution_count": 32,
   "metadata": {},
   "outputs": [
    {
     "data": {
      "text/html": [
       "<div>\n",
       "<style scoped>\n",
       "    .dataframe tbody tr th:only-of-type {\n",
       "        vertical-align: middle;\n",
       "    }\n",
       "\n",
       "    .dataframe tbody tr th {\n",
       "        vertical-align: top;\n",
       "    }\n",
       "\n",
       "    .dataframe thead th {\n",
       "        text-align: right;\n",
       "    }\n",
       "</style>\n",
       "<table border=\"1\" class=\"dataframe\">\n",
       "  <thead>\n",
       "    <tr style=\"text-align: right;\">\n",
       "      <th></th>\n",
       "      <th>ID</th>\n",
       "      <th>name</th>\n",
       "      <th>description</th>\n",
       "      <th>url</th>\n",
       "      <th>created</th>\n",
       "      <th>last modified</th>\n",
       "      <th>version</th>\n",
       "      <th>contributors</th>\n",
       "      <th>associated groups</th>\n",
       "      <th>associated groups citations</th>\n",
       "      <th>relationship citations</th>\n",
       "    </tr>\n",
       "  </thead>\n",
       "  <tbody>\n",
       "    <tr>\n",
       "      <th>47</th>\n",
       "      <td>G0099</td>\n",
       "      <td>APT-C-36</td>\n",
       "      <td>[APT-C-36](https://attack.mitre.org/groups/G00...</td>\n",
       "      <td>https://attack.mitre.org/groups/G0099</td>\n",
       "      <td>05 May 2020</td>\n",
       "      <td>26 May 2021</td>\n",
       "      <td>1.1</td>\n",
       "      <td>Jose Luis Sánchez Martinez</td>\n",
       "      <td>Blind Eagle</td>\n",
       "      <td>(Citation: QiAnXin APT-C-36 Feb2019)</td>\n",
       "      <td>(Citation: QiAnXin APT-C-36 Feb2019),(Citation...</td>\n",
       "    </tr>\n",
       "    <tr>\n",
       "      <th>13</th>\n",
       "      <td>G0006</td>\n",
       "      <td>APT1</td>\n",
       "      <td>[APT1](https://attack.mitre.org/groups/G0006) ...</td>\n",
       "      <td>https://attack.mitre.org/groups/G0006</td>\n",
       "      <td>31 May 2017</td>\n",
       "      <td>26 May 2021</td>\n",
       "      <td>1.4</td>\n",
       "      <td>NaN</td>\n",
       "      <td>Comment Crew, Comment Group, Comment Panda</td>\n",
       "      <td>(Citation: Mandiant APT1), (Citation: Mandiant...</td>\n",
       "      <td>(Citation: Mandiant APT1 Appendix),(Citation: ...</td>\n",
       "    </tr>\n",
       "    <tr>\n",
       "      <th>96</th>\n",
       "      <td>G0005</td>\n",
       "      <td>APT12</td>\n",
       "      <td>[APT12](https://attack.mitre.org/groups/G0005)...</td>\n",
       "      <td>https://attack.mitre.org/groups/G0005</td>\n",
       "      <td>31 May 2017</td>\n",
       "      <td>30 March 2020</td>\n",
       "      <td>2.1</td>\n",
       "      <td>NaN</td>\n",
       "      <td>DNSCALC, DynCalc, IXESHE, Numbered Panda</td>\n",
       "      <td>(Citation: Moran 2014), (Citation: Meyers Numb...</td>\n",
       "      <td>(Citation: Moran 2013),(Citation: Moran 2014),...</td>\n",
       "    </tr>\n",
       "    <tr>\n",
       "      <th>129</th>\n",
       "      <td>G0023</td>\n",
       "      <td>APT16</td>\n",
       "      <td>[APT16](https://attack.mitre.org/groups/G0023)...</td>\n",
       "      <td>https://attack.mitre.org/groups/G0023</td>\n",
       "      <td>31 May 2017</td>\n",
       "      <td>26 July 2022</td>\n",
       "      <td>1.1</td>\n",
       "      <td>NaN</td>\n",
       "      <td></td>\n",
       "      <td></td>\n",
       "      <td>(Citation: FireEye EPS Awakens Part 2),(Citati...</td>\n",
       "    </tr>\n",
       "    <tr>\n",
       "      <th>130</th>\n",
       "      <td>G0025</td>\n",
       "      <td>APT17</td>\n",
       "      <td>[APT17](https://attack.mitre.org/groups/G0025)...</td>\n",
       "      <td>https://attack.mitre.org/groups/G0025</td>\n",
       "      <td>31 May 2017</td>\n",
       "      <td>13 October 2020</td>\n",
       "      <td>1.1</td>\n",
       "      <td>NaN</td>\n",
       "      <td>Deputy Dog</td>\n",
       "      <td>(Citation: FireEye APT17)</td>\n",
       "      <td>(Citation: FireEye APT17),(Citation: FireEye A...</td>\n",
       "    </tr>\n",
       "  </tbody>\n",
       "</table>\n",
       "</div>"
      ],
      "text/plain": [
       "        ID      name                                        description  \\\n",
       "47   G0099  APT-C-36  [APT-C-36](https://attack.mitre.org/groups/G00...   \n",
       "13   G0006      APT1  [APT1](https://attack.mitre.org/groups/G0006) ...   \n",
       "96   G0005     APT12  [APT12](https://attack.mitre.org/groups/G0005)...   \n",
       "129  G0023     APT16  [APT16](https://attack.mitre.org/groups/G0023)...   \n",
       "130  G0025     APT17  [APT17](https://attack.mitre.org/groups/G0025)...   \n",
       "\n",
       "                                       url      created    last modified  \\\n",
       "47   https://attack.mitre.org/groups/G0099  05 May 2020      26 May 2021   \n",
       "13   https://attack.mitre.org/groups/G0006  31 May 2017      26 May 2021   \n",
       "96   https://attack.mitre.org/groups/G0005  31 May 2017    30 March 2020   \n",
       "129  https://attack.mitre.org/groups/G0023  31 May 2017     26 July 2022   \n",
       "130  https://attack.mitre.org/groups/G0025  31 May 2017  13 October 2020   \n",
       "\n",
       "    version                contributors  \\\n",
       "47      1.1  Jose Luis Sánchez Martinez   \n",
       "13      1.4                         NaN   \n",
       "96      2.1                         NaN   \n",
       "129     1.1                         NaN   \n",
       "130     1.1                         NaN   \n",
       "\n",
       "                              associated groups  \\\n",
       "47                                  Blind Eagle   \n",
       "13   Comment Crew, Comment Group, Comment Panda   \n",
       "96     DNSCALC, DynCalc, IXESHE, Numbered Panda   \n",
       "129                                               \n",
       "130                                  Deputy Dog   \n",
       "\n",
       "                           associated groups citations  \\\n",
       "47                (Citation: QiAnXin APT-C-36 Feb2019)   \n",
       "13   (Citation: Mandiant APT1), (Citation: Mandiant...   \n",
       "96   (Citation: Moran 2014), (Citation: Meyers Numb...   \n",
       "129                                                      \n",
       "130                          (Citation: FireEye APT17)   \n",
       "\n",
       "                                relationship citations  \n",
       "47   (Citation: QiAnXin APT-C-36 Feb2019),(Citation...  \n",
       "13   (Citation: Mandiant APT1 Appendix),(Citation: ...  \n",
       "96   (Citation: Moran 2013),(Citation: Moran 2014),...  \n",
       "129  (Citation: FireEye EPS Awakens Part 2),(Citati...  \n",
       "130  (Citation: FireEye APT17),(Citation: FireEye A...  "
      ]
     },
     "execution_count": 32,
     "metadata": {},
     "output_type": "execute_result"
    }
   ],
   "source": [
    "groups_df.head()"
   ]
  },
  {
   "cell_type": "markdown",
   "metadata": {},
   "source": [
    "## 2-2 Group-Softwares"
   ]
  },
  {
   "cell_type": "code",
   "execution_count": 33,
   "metadata": {},
   "outputs": [],
   "source": [
    "groups_software_df = groups['associated software']"
   ]
  },
  {
   "cell_type": "code",
   "execution_count": 34,
   "metadata": {},
   "outputs": [
    {
     "data": {
      "text/plain": [
       "source ID              830\n",
       "source name            830\n",
       "source type            830\n",
       "mapping type           830\n",
       "target ID              830\n",
       "target name            830\n",
       "target type            830\n",
       "mapping description    828\n",
       "dtype: int64"
      ]
     },
     "execution_count": 34,
     "metadata": {},
     "output_type": "execute_result"
    }
   ],
   "source": [
    "groups_software_df.count()"
   ]
  },
  {
   "cell_type": "code",
   "execution_count": 35,
   "metadata": {},
   "outputs": [
    {
     "name": "stdout",
     "output_type": "stream",
     "text": [
      "ID\n",
      "name\n",
      "description\n",
      "url\n",
      "created\n",
      "last modified\n",
      "version\n",
      "contributors\n",
      "associated groups\n",
      "associated groups citations\n",
      "relationship citations\n"
     ]
    }
   ],
   "source": [
    "for col in groups_df.columns: \n",
    "    print (col)"
   ]
  },
  {
   "cell_type": "markdown",
   "metadata": {},
   "source": [
    "## 2-3 Groups-Techniques"
   ]
  },
  {
   "cell_type": "code",
   "execution_count": 36,
   "metadata": {},
   "outputs": [],
   "source": [
    "groups_techniques_df = groups['techniques used']"
   ]
  },
  {
   "cell_type": "code",
   "execution_count": 37,
   "metadata": {},
   "outputs": [
    {
     "data": {
      "text/plain": [
       "source ID              3052\n",
       "source name            3052\n",
       "source type            3052\n",
       "mapping type           3052\n",
       "target ID              3052\n",
       "target name            3052\n",
       "target type            3052\n",
       "mapping description    3052\n",
       "dtype: int64"
      ]
     },
     "execution_count": 37,
     "metadata": {},
     "output_type": "execute_result"
    }
   ],
   "source": [
    "groups_techniques_df.count()"
   ]
  },
  {
   "cell_type": "markdown",
   "metadata": {},
   "source": [
    "## 2-4 Groups-Campaigns"
   ]
  },
  {
   "cell_type": "code",
   "execution_count": 38,
   "metadata": {},
   "outputs": [],
   "source": [
    "groups_campaigns_df = groups['attributed campaigns']"
   ]
  },
  {
   "cell_type": "code",
   "execution_count": 39,
   "metadata": {},
   "outputs": [
    {
     "data": {
      "text/plain": [
       "source ID              6\n",
       "source name            6\n",
       "source type            6\n",
       "mapping type           6\n",
       "target ID              6\n",
       "target name            6\n",
       "target type            6\n",
       "mapping description    6\n",
       "dtype: int64"
      ]
     },
     "execution_count": 39,
     "metadata": {},
     "output_type": "execute_result"
    }
   ],
   "source": [
    "groups_campaigns_df.count()"
   ]
  },
  {
   "cell_type": "markdown",
   "metadata": {},
   "source": [
    "---\n",
    "# 3- Tactics data\n"
   ]
  },
  {
   "cell_type": "code",
   "execution_count": 40,
   "metadata": {},
   "outputs": [
    {
     "data": {
      "text/plain": [
       "dict_keys(['tactics'])"
      ]
     },
     "execution_count": 40,
     "metadata": {},
     "output_type": "execute_result"
    }
   ],
   "source": [
    "tactics.keys()"
   ]
  },
  {
   "cell_type": "code",
   "execution_count": 41,
   "metadata": {},
   "outputs": [],
   "source": [
    "tactics_df = tactics['tactics']"
   ]
  },
  {
   "cell_type": "code",
   "execution_count": 42,
   "metadata": {},
   "outputs": [
    {
     "name": "stdout",
     "output_type": "stream",
     "text": [
      "ID\n",
      "name\n",
      "description\n",
      "url\n",
      "created\n",
      "last modified\n",
      "version\n"
     ]
    }
   ],
   "source": [
    "for col in tactics_df.columns:\n",
    "    print (col)"
   ]
  },
  {
   "cell_type": "markdown",
   "metadata": {},
   "source": [
    "---\n",
    "# 4- Software data"
   ]
  },
  {
   "cell_type": "code",
   "execution_count": 43,
   "metadata": {},
   "outputs": [
    {
     "data": {
      "text/plain": [
       "dict_keys(['software', 'associated groups', 'associated campaigns', 'techniques used', 'citations'])"
      ]
     },
     "execution_count": 43,
     "metadata": {},
     "output_type": "execute_result"
    }
   ],
   "source": [
    "software.keys()"
   ]
  },
  {
   "cell_type": "markdown",
   "metadata": {},
   "source": [
    "## 4-1 Software-Software"
   ]
  },
  {
   "cell_type": "code",
   "execution_count": 44,
   "metadata": {},
   "outputs": [],
   "source": [
    "software_df = software['software']"
   ]
  },
  {
   "cell_type": "code",
   "execution_count": 45,
   "metadata": {},
   "outputs": [
    {
     "data": {
      "text/html": [
       "<div>\n",
       "<style scoped>\n",
       "    .dataframe tbody tr th:only-of-type {\n",
       "        vertical-align: middle;\n",
       "    }\n",
       "\n",
       "    .dataframe tbody tr th {\n",
       "        vertical-align: top;\n",
       "    }\n",
       "\n",
       "    .dataframe thead th {\n",
       "        text-align: right;\n",
       "    }\n",
       "</style>\n",
       "<table border=\"1\" class=\"dataframe\">\n",
       "  <thead>\n",
       "    <tr style=\"text-align: right;\">\n",
       "      <th></th>\n",
       "      <th>ID</th>\n",
       "      <th>name</th>\n",
       "      <th>description</th>\n",
       "      <th>url</th>\n",
       "      <th>created</th>\n",
       "      <th>last modified</th>\n",
       "      <th>version</th>\n",
       "      <th>contributors</th>\n",
       "      <th>platforms</th>\n",
       "      <th>aliases</th>\n",
       "      <th>type</th>\n",
       "      <th>relationship citations</th>\n",
       "    </tr>\n",
       "  </thead>\n",
       "  <tbody>\n",
       "    <tr>\n",
       "      <th>350</th>\n",
       "      <td>S0066</td>\n",
       "      <td>3PARA RAT</td>\n",
       "      <td>[3PARA RAT](https://attack.mitre.org/software/...</td>\n",
       "      <td>https://attack.mitre.org/software/S0066</td>\n",
       "      <td>31 May 2017</td>\n",
       "      <td>30 March 2020</td>\n",
       "      <td>1.1</td>\n",
       "      <td>NaN</td>\n",
       "      <td>Windows</td>\n",
       "      <td></td>\n",
       "      <td>malware</td>\n",
       "      <td>(Citation: CrowdStrike Putter Panda),,(Citatio...</td>\n",
       "    </tr>\n",
       "    <tr>\n",
       "      <th>393</th>\n",
       "      <td>S0065</td>\n",
       "      <td>4H RAT</td>\n",
       "      <td>[4H RAT](https://attack.mitre.org/software/S00...</td>\n",
       "      <td>https://attack.mitre.org/software/S0065</td>\n",
       "      <td>31 May 2017</td>\n",
       "      <td>30 March 2020</td>\n",
       "      <td>1.1</td>\n",
       "      <td>NaN</td>\n",
       "      <td>Windows</td>\n",
       "      <td></td>\n",
       "      <td>malware</td>\n",
       "      <td>(Citation: CrowdStrike Putter Panda),,(Citatio...</td>\n",
       "    </tr>\n",
       "    <tr>\n",
       "      <th>13</th>\n",
       "      <td>S0677</td>\n",
       "      <td>AADInternals</td>\n",
       "      <td>[AADInternals](https://attack.mitre.org/softwa...</td>\n",
       "      <td>https://attack.mitre.org/software/S0677</td>\n",
       "      <td>01 February 2022</td>\n",
       "      <td>15 April 2023</td>\n",
       "      <td>1.2</td>\n",
       "      <td>NaN</td>\n",
       "      <td>Azure AD, Office 365, Windows</td>\n",
       "      <td></td>\n",
       "      <td>tool</td>\n",
       "      <td>(Citation: MSTIC Nobelium Oct 2021),,(Citation...</td>\n",
       "    </tr>\n",
       "    <tr>\n",
       "      <th>437</th>\n",
       "      <td>S0469</td>\n",
       "      <td>ABK</td>\n",
       "      <td>[ABK](https://attack.mitre.org/software/S0469)...</td>\n",
       "      <td>https://attack.mitre.org/software/S0469</td>\n",
       "      <td>10 June 2020</td>\n",
       "      <td>24 June 2020</td>\n",
       "      <td>1.0</td>\n",
       "      <td>NaN</td>\n",
       "      <td>Windows</td>\n",
       "      <td></td>\n",
       "      <td>malware</td>\n",
       "      <td>(Citation: Trend Micro Tick November 2019),,(C...</td>\n",
       "    </tr>\n",
       "    <tr>\n",
       "      <th>624</th>\n",
       "      <td>S0045</td>\n",
       "      <td>ADVSTORESHELL</td>\n",
       "      <td>[ADVSTORESHELL](https://attack.mitre.org/softw...</td>\n",
       "      <td>https://attack.mitre.org/software/S0045</td>\n",
       "      <td>31 May 2017</td>\n",
       "      <td>30 March 2020</td>\n",
       "      <td>1.1</td>\n",
       "      <td>NaN</td>\n",
       "      <td>Windows</td>\n",
       "      <td>AZZY, EVILTOSS, NETUI, Sedreco</td>\n",
       "      <td>malware</td>\n",
       "      <td>(Citation: Kaspersky Sofacy),(Citation: Secure...</td>\n",
       "    </tr>\n",
       "  </tbody>\n",
       "</table>\n",
       "</div>"
      ],
      "text/plain": [
       "        ID           name                                        description  \\\n",
       "350  S0066      3PARA RAT  [3PARA RAT](https://attack.mitre.org/software/...   \n",
       "393  S0065         4H RAT  [4H RAT](https://attack.mitre.org/software/S00...   \n",
       "13   S0677   AADInternals  [AADInternals](https://attack.mitre.org/softwa...   \n",
       "437  S0469            ABK  [ABK](https://attack.mitre.org/software/S0469)...   \n",
       "624  S0045  ADVSTORESHELL  [ADVSTORESHELL](https://attack.mitre.org/softw...   \n",
       "\n",
       "                                         url           created  last modified  \\\n",
       "350  https://attack.mitre.org/software/S0066       31 May 2017  30 March 2020   \n",
       "393  https://attack.mitre.org/software/S0065       31 May 2017  30 March 2020   \n",
       "13   https://attack.mitre.org/software/S0677  01 February 2022  15 April 2023   \n",
       "437  https://attack.mitre.org/software/S0469      10 June 2020   24 June 2020   \n",
       "624  https://attack.mitre.org/software/S0045       31 May 2017  30 March 2020   \n",
       "\n",
       "    version contributors                      platforms  \\\n",
       "350     1.1          NaN                        Windows   \n",
       "393     1.1          NaN                        Windows   \n",
       "13      1.2          NaN  Azure AD, Office 365, Windows   \n",
       "437     1.0          NaN                        Windows   \n",
       "624     1.1          NaN                        Windows   \n",
       "\n",
       "                            aliases     type  \\\n",
       "350                                  malware   \n",
       "393                                  malware   \n",
       "13                                      tool   \n",
       "437                                  malware   \n",
       "624  AZZY, EVILTOSS, NETUI, Sedreco  malware   \n",
       "\n",
       "                                relationship citations  \n",
       "350  (Citation: CrowdStrike Putter Panda),,(Citatio...  \n",
       "393  (Citation: CrowdStrike Putter Panda),,(Citatio...  \n",
       "13   (Citation: MSTIC Nobelium Oct 2021),,(Citation...  \n",
       "437  (Citation: Trend Micro Tick November 2019),,(C...  \n",
       "624  (Citation: Kaspersky Sofacy),(Citation: Secure...  "
      ]
     },
     "execution_count": 45,
     "metadata": {},
     "output_type": "execute_result"
    }
   ],
   "source": [
    "software_df.head()"
   ]
  },
  {
   "cell_type": "code",
   "execution_count": 66,
   "metadata": {},
   "outputs": [],
   "source": [
    "software_techniques_df = software['techniques used']"
   ]
  },
  {
   "cell_type": "code",
   "execution_count": 68,
   "metadata": {},
   "outputs": [
    {
     "data": {
      "text/html": [
       "<div>\n",
       "<style scoped>\n",
       "    .dataframe tbody tr th:only-of-type {\n",
       "        vertical-align: middle;\n",
       "    }\n",
       "\n",
       "    .dataframe tbody tr th {\n",
       "        vertical-align: top;\n",
       "    }\n",
       "\n",
       "    .dataframe thead th {\n",
       "        text-align: right;\n",
       "    }\n",
       "</style>\n",
       "<table border=\"1\" class=\"dataframe\">\n",
       "  <thead>\n",
       "    <tr style=\"text-align: right;\">\n",
       "      <th></th>\n",
       "      <th>source ID</th>\n",
       "      <th>source name</th>\n",
       "      <th>source type</th>\n",
       "      <th>mapping type</th>\n",
       "      <th>target ID</th>\n",
       "      <th>target name</th>\n",
       "      <th>target type</th>\n",
       "      <th>mapping description</th>\n",
       "    </tr>\n",
       "  </thead>\n",
       "  <tbody>\n",
       "    <tr>\n",
       "      <th>4672</th>\n",
       "      <td>S0066</td>\n",
       "      <td>3PARA RAT</td>\n",
       "      <td>software</td>\n",
       "      <td>uses</td>\n",
       "      <td>T1083</td>\n",
       "      <td>File and Directory Discovery</td>\n",
       "      <td>technique</td>\n",
       "      <td>[3PARA RAT](https://attack.mitre.org/software/...</td>\n",
       "    </tr>\n",
       "    <tr>\n",
       "      <th>8960</th>\n",
       "      <td>S0066</td>\n",
       "      <td>3PARA RAT</td>\n",
       "      <td>software</td>\n",
       "      <td>uses</td>\n",
       "      <td>T1573.001</td>\n",
       "      <td>Symmetric Cryptography</td>\n",
       "      <td>technique</td>\n",
       "      <td>[3PARA RAT](https://attack.mitre.org/software/...</td>\n",
       "    </tr>\n",
       "    <tr>\n",
       "      <th>7203</th>\n",
       "      <td>S0066</td>\n",
       "      <td>3PARA RAT</td>\n",
       "      <td>software</td>\n",
       "      <td>uses</td>\n",
       "      <td>T1070.006</td>\n",
       "      <td>Timestomp</td>\n",
       "      <td>technique</td>\n",
       "      <td>[3PARA RAT](https://attack.mitre.org/software/...</td>\n",
       "    </tr>\n",
       "    <tr>\n",
       "      <th>5111</th>\n",
       "      <td>S0066</td>\n",
       "      <td>3PARA RAT</td>\n",
       "      <td>software</td>\n",
       "      <td>uses</td>\n",
       "      <td>T1071.001</td>\n",
       "      <td>Web Protocols</td>\n",
       "      <td>technique</td>\n",
       "      <td>[3PARA RAT](https://attack.mitre.org/software/...</td>\n",
       "    </tr>\n",
       "    <tr>\n",
       "      <th>6918</th>\n",
       "      <td>S0065</td>\n",
       "      <td>4H RAT</td>\n",
       "      <td>software</td>\n",
       "      <td>uses</td>\n",
       "      <td>T1083</td>\n",
       "      <td>File and Directory Discovery</td>\n",
       "      <td>technique</td>\n",
       "      <td>[4H RAT](https://attack.mitre.org/software/S00...</td>\n",
       "    </tr>\n",
       "  </tbody>\n",
       "</table>\n",
       "</div>"
      ],
      "text/plain": [
       "     source ID source name source type mapping type  target ID  \\\n",
       "4672     S0066   3PARA RAT    software         uses      T1083   \n",
       "8960     S0066   3PARA RAT    software         uses  T1573.001   \n",
       "7203     S0066   3PARA RAT    software         uses  T1070.006   \n",
       "5111     S0066   3PARA RAT    software         uses  T1071.001   \n",
       "6918     S0065      4H RAT    software         uses      T1083   \n",
       "\n",
       "                       target name target type  \\\n",
       "4672  File and Directory Discovery   technique   \n",
       "8960        Symmetric Cryptography   technique   \n",
       "7203                     Timestomp   technique   \n",
       "5111                 Web Protocols   technique   \n",
       "6918  File and Directory Discovery   technique   \n",
       "\n",
       "                                    mapping description  \n",
       "4672  [3PARA RAT](https://attack.mitre.org/software/...  \n",
       "8960  [3PARA RAT](https://attack.mitre.org/software/...  \n",
       "7203  [3PARA RAT](https://attack.mitre.org/software/...  \n",
       "5111  [3PARA RAT](https://attack.mitre.org/software/...  \n",
       "6918  [4H RAT](https://attack.mitre.org/software/S00...  "
      ]
     },
     "execution_count": 68,
     "metadata": {},
     "output_type": "execute_result"
    }
   ],
   "source": [
    "software_techniques_df.head()"
   ]
  },
  {
   "cell_type": "code",
   "execution_count": null,
   "metadata": {},
   "outputs": [],
   "source": []
  },
  {
   "cell_type": "markdown",
   "metadata": {},
   "source": [
    "---\n",
    "# 5- Mitigations data"
   ]
  },
  {
   "cell_type": "code",
   "execution_count": 46,
   "metadata": {},
   "outputs": [
    {
     "data": {
      "text/plain": [
       "dict_keys(['mitigations', 'techniques addressed', 'citations'])"
      ]
     },
     "execution_count": 46,
     "metadata": {},
     "output_type": "execute_result"
    }
   ],
   "source": [
    "mitigations.keys()"
   ]
  },
  {
   "cell_type": "markdown",
   "metadata": {},
   "source": [
    "## 5-1 Mitigations-Mitigations"
   ]
  },
  {
   "cell_type": "code",
   "execution_count": 47,
   "metadata": {},
   "outputs": [],
   "source": [
    "mitigations_df = mitigations['mitigations']"
   ]
  },
  {
   "cell_type": "code",
   "execution_count": 48,
   "metadata": {},
   "outputs": [
    {
     "data": {
      "text/html": [
       "<div>\n",
       "<style scoped>\n",
       "    .dataframe tbody tr th:only-of-type {\n",
       "        vertical-align: middle;\n",
       "    }\n",
       "\n",
       "    .dataframe tbody tr th {\n",
       "        vertical-align: top;\n",
       "    }\n",
       "\n",
       "    .dataframe thead th {\n",
       "        text-align: right;\n",
       "    }\n",
       "</style>\n",
       "<table border=\"1\" class=\"dataframe\">\n",
       "  <thead>\n",
       "    <tr style=\"text-align: right;\">\n",
       "      <th></th>\n",
       "      <th>ID</th>\n",
       "      <th>name</th>\n",
       "      <th>description</th>\n",
       "      <th>url</th>\n",
       "      <th>created</th>\n",
       "      <th>last modified</th>\n",
       "      <th>version</th>\n",
       "      <th>relationship citations</th>\n",
       "    </tr>\n",
       "  </thead>\n",
       "  <tbody>\n",
       "    <tr>\n",
       "      <th>41</th>\n",
       "      <td>M1036</td>\n",
       "      <td>Account Use Policies</td>\n",
       "      <td>Configure features related to account use like...</td>\n",
       "      <td>https://attack.mitre.org/mitigations/M1036</td>\n",
       "      <td>11 June 2019</td>\n",
       "      <td>21 October 2022</td>\n",
       "      <td>1.0</td>\n",
       "      <td>(Citation: Microsoft Common Conditional Access...</td>\n",
       "    </tr>\n",
       "    <tr>\n",
       "      <th>37</th>\n",
       "      <td>M1015</td>\n",
       "      <td>Active Directory Configuration</td>\n",
       "      <td>Configure Active Directory to prevent use of c...</td>\n",
       "      <td>https://attack.mitre.org/mitigations/M1015</td>\n",
       "      <td>06 June 2019</td>\n",
       "      <td>29 May 2020</td>\n",
       "      <td>1.1</td>\n",
       "      <td>(Citation: Microsoft Replication ACL),(Citatio...</td>\n",
       "    </tr>\n",
       "    <tr>\n",
       "      <th>31</th>\n",
       "      <td>M1049</td>\n",
       "      <td>Antivirus/Antimalware</td>\n",
       "      <td>Use signatures or heuristics to detect malicio...</td>\n",
       "      <td>https://attack.mitre.org/mitigations/M1049</td>\n",
       "      <td>11 June 2019</td>\n",
       "      <td>31 March 2020</td>\n",
       "      <td>1.1</td>\n",
       "      <td>(Citation: Chkrootkit Main),(Citation: SourceF...</td>\n",
       "    </tr>\n",
       "    <tr>\n",
       "      <th>7</th>\n",
       "      <td>M1013</td>\n",
       "      <td>Application Developer Guidance</td>\n",
       "      <td>This mitigation describes any guidance or trai...</td>\n",
       "      <td>https://attack.mitre.org/mitigations/M1013</td>\n",
       "      <td>25 October 2017</td>\n",
       "      <td>17 October 2018</td>\n",
       "      <td>1.0</td>\n",
       "      <td>(Citation: Apple App Security Overview),(Citat...</td>\n",
       "    </tr>\n",
       "    <tr>\n",
       "      <th>34</th>\n",
       "      <td>M1048</td>\n",
       "      <td>Application Isolation and Sandboxing</td>\n",
       "      <td>Restrict execution of code to a virtual enviro...</td>\n",
       "      <td>https://attack.mitre.org/mitigations/M1048</td>\n",
       "      <td>11 June 2019</td>\n",
       "      <td>31 March 2020</td>\n",
       "      <td>1.1</td>\n",
       "      <td>(Citation: Kubernetes Hardening Guide),(Citati...</td>\n",
       "    </tr>\n",
       "  </tbody>\n",
       "</table>\n",
       "</div>"
      ],
      "text/plain": [
       "       ID                                  name  \\\n",
       "41  M1036                  Account Use Policies   \n",
       "37  M1015        Active Directory Configuration   \n",
       "31  M1049                 Antivirus/Antimalware   \n",
       "7   M1013        Application Developer Guidance   \n",
       "34  M1048  Application Isolation and Sandboxing   \n",
       "\n",
       "                                          description  \\\n",
       "41  Configure features related to account use like...   \n",
       "37  Configure Active Directory to prevent use of c...   \n",
       "31  Use signatures or heuristics to detect malicio...   \n",
       "7   This mitigation describes any guidance or trai...   \n",
       "34  Restrict execution of code to a virtual enviro...   \n",
       "\n",
       "                                           url          created  \\\n",
       "41  https://attack.mitre.org/mitigations/M1036     11 June 2019   \n",
       "37  https://attack.mitre.org/mitigations/M1015     06 June 2019   \n",
       "31  https://attack.mitre.org/mitigations/M1049     11 June 2019   \n",
       "7   https://attack.mitre.org/mitigations/M1013  25 October 2017   \n",
       "34  https://attack.mitre.org/mitigations/M1048     11 June 2019   \n",
       "\n",
       "      last modified version                             relationship citations  \n",
       "41  21 October 2022     1.0  (Citation: Microsoft Common Conditional Access...  \n",
       "37      29 May 2020     1.1  (Citation: Microsoft Replication ACL),(Citatio...  \n",
       "31    31 March 2020     1.1  (Citation: Chkrootkit Main),(Citation: SourceF...  \n",
       "7   17 October 2018     1.0  (Citation: Apple App Security Overview),(Citat...  \n",
       "34    31 March 2020     1.1  (Citation: Kubernetes Hardening Guide),(Citati...  "
      ]
     },
     "execution_count": 48,
     "metadata": {},
     "output_type": "execute_result"
    }
   ],
   "source": [
    "mitigations_df.head()"
   ]
  },
  {
   "cell_type": "code",
   "execution_count": 49,
   "metadata": {},
   "outputs": [],
   "source": [
    "mitigations_techniques_df = mitigations['techniques addressed']"
   ]
  },
  {
   "cell_type": "code",
   "execution_count": 50,
   "metadata": {},
   "outputs": [
    {
     "data": {
      "text/plain": [
       "source ID              1200\n",
       "source name            1200\n",
       "source type            1200\n",
       "mapping type           1200\n",
       "target ID              1200\n",
       "target name            1200\n",
       "target type            1200\n",
       "mapping description    1200\n",
       "dtype: int64"
      ]
     },
     "execution_count": 50,
     "metadata": {},
     "output_type": "execute_result"
    }
   ],
   "source": [
    "mitigations_techniques_df.count()"
   ]
  },
  {
   "cell_type": "markdown",
   "metadata": {},
   "source": [
    "---\n",
    "# 6- Relationships data"
   ]
  },
  {
   "cell_type": "code",
   "execution_count": 51,
   "metadata": {},
   "outputs": [
    {
     "data": {
      "text/plain": [
       "dict_keys(['relationships', 'citations'])"
      ]
     },
     "execution_count": 51,
     "metadata": {},
     "output_type": "execute_result"
    }
   ],
   "source": [
    "relationships.keys()"
   ]
  },
  {
   "cell_type": "code",
   "execution_count": 52,
   "metadata": {},
   "outputs": [],
   "source": [
    "relationships_df = relationships['relationships']"
   ]
  },
  {
   "cell_type": "code",
   "execution_count": 53,
   "metadata": {},
   "outputs": [
    {
     "data": {
      "text/plain": [
       "mapping type\n",
       "uses             12900\n",
       "detects           1876\n",
       "mitigates         1200\n",
       "attributed-to        6\n",
       "Name: count, dtype: int64"
      ]
     },
     "execution_count": 53,
     "metadata": {},
     "output_type": "execute_result"
    }
   ],
   "source": [
    "relationships_df['mapping type'].value_counts()"
   ]
  },
  {
   "cell_type": "markdown",
   "metadata": {},
   "source": [
    "## 6-1 Relationships - `uses` mapping"
   ]
  },
  {
   "cell_type": "code",
   "execution_count": 54,
   "metadata": {},
   "outputs": [],
   "source": [
    "rela_uses_df = relationships_df[relationships_df['mapping type'] =='uses']"
   ]
  },
  {
   "cell_type": "code",
   "execution_count": 63,
   "metadata": {},
   "outputs": [],
   "source": [
    "rela_software_techniques_df = relationships_df[(relationships_df['mapping type'] =='uses') & (relationships_df['source type'] =='software')]"
   ]
  },
  {
   "cell_type": "code",
   "execution_count": 65,
   "metadata": {},
   "outputs": [
    {
     "data": {
      "text/html": [
       "<div>\n",
       "<style scoped>\n",
       "    .dataframe tbody tr th:only-of-type {\n",
       "        vertical-align: middle;\n",
       "    }\n",
       "\n",
       "    .dataframe tbody tr th {\n",
       "        vertical-align: top;\n",
       "    }\n",
       "\n",
       "    .dataframe thead th {\n",
       "        text-align: right;\n",
       "    }\n",
       "</style>\n",
       "<table border=\"1\" class=\"dataframe\">\n",
       "  <thead>\n",
       "    <tr style=\"text-align: right;\">\n",
       "      <th></th>\n",
       "      <th>source ID</th>\n",
       "      <th>source name</th>\n",
       "      <th>source type</th>\n",
       "      <th>mapping type</th>\n",
       "      <th>target ID</th>\n",
       "      <th>target name</th>\n",
       "      <th>target type</th>\n",
       "      <th>mapping description</th>\n",
       "    </tr>\n",
       "  </thead>\n",
       "  <tbody>\n",
       "    <tr>\n",
       "      <th>8084</th>\n",
       "      <td>S0066</td>\n",
       "      <td>3PARA RAT</td>\n",
       "      <td>software</td>\n",
       "      <td>uses</td>\n",
       "      <td>T1083</td>\n",
       "      <td>File and Directory Discovery</td>\n",
       "      <td>technique</td>\n",
       "      <td>[3PARA RAT](https://attack.mitre.org/software/...</td>\n",
       "    </tr>\n",
       "    <tr>\n",
       "      <th>15350</th>\n",
       "      <td>S0066</td>\n",
       "      <td>3PARA RAT</td>\n",
       "      <td>software</td>\n",
       "      <td>uses</td>\n",
       "      <td>T1573.001</td>\n",
       "      <td>Symmetric Cryptography</td>\n",
       "      <td>technique</td>\n",
       "      <td>[3PARA RAT](https://attack.mitre.org/software/...</td>\n",
       "    </tr>\n",
       "    <tr>\n",
       "      <th>12385</th>\n",
       "      <td>S0066</td>\n",
       "      <td>3PARA RAT</td>\n",
       "      <td>software</td>\n",
       "      <td>uses</td>\n",
       "      <td>T1070.006</td>\n",
       "      <td>Timestomp</td>\n",
       "      <td>technique</td>\n",
       "      <td>[3PARA RAT](https://attack.mitre.org/software/...</td>\n",
       "    </tr>\n",
       "    <tr>\n",
       "      <th>8800</th>\n",
       "      <td>S0066</td>\n",
       "      <td>3PARA RAT</td>\n",
       "      <td>software</td>\n",
       "      <td>uses</td>\n",
       "      <td>T1071.001</td>\n",
       "      <td>Web Protocols</td>\n",
       "      <td>technique</td>\n",
       "      <td>[3PARA RAT](https://attack.mitre.org/software/...</td>\n",
       "    </tr>\n",
       "    <tr>\n",
       "      <th>11915</th>\n",
       "      <td>S0065</td>\n",
       "      <td>4H RAT</td>\n",
       "      <td>software</td>\n",
       "      <td>uses</td>\n",
       "      <td>T1083</td>\n",
       "      <td>File and Directory Discovery</td>\n",
       "      <td>technique</td>\n",
       "      <td>[4H RAT](https://attack.mitre.org/software/S00...</td>\n",
       "    </tr>\n",
       "  </tbody>\n",
       "</table>\n",
       "</div>"
      ],
      "text/plain": [
       "      source ID source name source type mapping type  target ID  \\\n",
       "8084      S0066   3PARA RAT    software         uses      T1083   \n",
       "15350     S0066   3PARA RAT    software         uses  T1573.001   \n",
       "12385     S0066   3PARA RAT    software         uses  T1070.006   \n",
       "8800      S0066   3PARA RAT    software         uses  T1071.001   \n",
       "11915     S0065      4H RAT    software         uses      T1083   \n",
       "\n",
       "                        target name target type  \\\n",
       "8084   File and Directory Discovery   technique   \n",
       "15350        Symmetric Cryptography   technique   \n",
       "12385                     Timestomp   technique   \n",
       "8800                  Web Protocols   technique   \n",
       "11915  File and Directory Discovery   technique   \n",
       "\n",
       "                                     mapping description  \n",
       "8084   [3PARA RAT](https://attack.mitre.org/software/...  \n",
       "15350  [3PARA RAT](https://attack.mitre.org/software/...  \n",
       "12385  [3PARA RAT](https://attack.mitre.org/software/...  \n",
       "8800   [3PARA RAT](https://attack.mitre.org/software/...  \n",
       "11915  [4H RAT](https://attack.mitre.org/software/S00...  "
      ]
     },
     "execution_count": 65,
     "metadata": {},
     "output_type": "execute_result"
    }
   ],
   "source": [
    "rela_software_techniques_df.head()"
   ]
  },
  {
   "cell_type": "code",
   "execution_count": 55,
   "metadata": {},
   "outputs": [
    {
     "name": "stdout",
     "output_type": "stream",
     "text": [
      "<class 'pandas.core.frame.DataFrame'>\n",
      "Index: 12900 entries, 2208 to 4683\n",
      "Data columns (total 8 columns):\n",
      " #   Column               Non-Null Count  Dtype \n",
      "---  ------               --------------  ----- \n",
      " 0   source ID            12900 non-null  object\n",
      " 1   source name          12900 non-null  object\n",
      " 2   source type          12900 non-null  object\n",
      " 3   mapping type         12900 non-null  object\n",
      " 4   target ID            12900 non-null  object\n",
      " 5   target name          12900 non-null  object\n",
      " 6   target type          12900 non-null  object\n",
      " 7   mapping description  12898 non-null  object\n",
      "dtypes: object(8)\n",
      "memory usage: 907.0+ KB\n"
     ]
    }
   ],
   "source": [
    "rela_uses_df.info()"
   ]
  },
  {
   "cell_type": "code",
   "execution_count": 56,
   "metadata": {},
   "outputs": [
    {
     "data": {
      "text/plain": [
       "source type\n",
       "software    8406\n",
       "group       3882\n",
       "campaign     612\n",
       "Name: count, dtype: int64"
      ]
     },
     "execution_count": 56,
     "metadata": {},
     "output_type": "execute_result"
    }
   ],
   "source": [
    "rela_uses_df['source type'].value_counts()"
   ]
  },
  {
   "cell_type": "code",
   "execution_count": 57,
   "metadata": {},
   "outputs": [
    {
     "data": {
      "text/plain": [
       "target type\n",
       "technique    526\n",
       "software      86\n",
       "Name: count, dtype: int64"
      ]
     },
     "execution_count": 57,
     "metadata": {},
     "output_type": "execute_result"
    }
   ],
   "source": [
    "rela_uses_df[rela_uses_df['source type'] == 'campaign']['target type'].value_counts()"
   ]
  },
  {
   "cell_type": "markdown",
   "metadata": {},
   "source": [
    "## 6-2 Relationships - `detects` mapping"
   ]
  },
  {
   "cell_type": "code",
   "execution_count": 58,
   "metadata": {},
   "outputs": [],
   "source": [
    "rela_detects_df = relationships_df[relationships_df['mapping type'] == 'detects']"
   ]
  },
  {
   "cell_type": "code",
   "execution_count": 60,
   "metadata": {},
   "outputs": [
    {
     "data": {
      "text/html": [
       "<div>\n",
       "<style scoped>\n",
       "    .dataframe tbody tr th:only-of-type {\n",
       "        vertical-align: middle;\n",
       "    }\n",
       "\n",
       "    .dataframe tbody tr th {\n",
       "        vertical-align: top;\n",
       "    }\n",
       "\n",
       "    .dataframe thead th {\n",
       "        text-align: right;\n",
       "    }\n",
       "</style>\n",
       "<table border=\"1\" class=\"dataframe\">\n",
       "  <thead>\n",
       "    <tr style=\"text-align: right;\">\n",
       "      <th></th>\n",
       "      <th>source ID</th>\n",
       "      <th>source name</th>\n",
       "      <th>source type</th>\n",
       "      <th>mapping type</th>\n",
       "      <th>target ID</th>\n",
       "      <th>target name</th>\n",
       "      <th>target type</th>\n",
       "      <th>mapping description</th>\n",
       "    </tr>\n",
       "  </thead>\n",
       "  <tbody>\n",
       "    <tr>\n",
       "      <th>8038</th>\n",
       "      <td>NaN</td>\n",
       "      <td>Active DNS</td>\n",
       "      <td>datacomponent</td>\n",
       "      <td>detects</td>\n",
       "      <td>T1583</td>\n",
       "      <td>Acquire Infrastructure</td>\n",
       "      <td>technique</td>\n",
       "      <td>Monitor for queried domain name system (DNS) r...</td>\n",
       "    </tr>\n",
       "    <tr>\n",
       "      <th>1158</th>\n",
       "      <td>NaN</td>\n",
       "      <td>Active DNS</td>\n",
       "      <td>datacomponent</td>\n",
       "      <td>detects</td>\n",
       "      <td>T1584</td>\n",
       "      <td>Compromise Infrastructure</td>\n",
       "      <td>technique</td>\n",
       "      <td>Monitor for queried domain name system (DNS) r...</td>\n",
       "    </tr>\n",
       "    <tr>\n",
       "      <th>1286</th>\n",
       "      <td>NaN</td>\n",
       "      <td>Active DNS</td>\n",
       "      <td>datacomponent</td>\n",
       "      <td>detects</td>\n",
       "      <td>T1584.002</td>\n",
       "      <td>DNS Server</td>\n",
       "      <td>technique</td>\n",
       "      <td>Monitor for queried domain name system (DNS) r...</td>\n",
       "    </tr>\n",
       "    <tr>\n",
       "      <th>5513</th>\n",
       "      <td>NaN</td>\n",
       "      <td>Active DNS</td>\n",
       "      <td>datacomponent</td>\n",
       "      <td>detects</td>\n",
       "      <td>T1584.001</td>\n",
       "      <td>Domains</td>\n",
       "      <td>technique</td>\n",
       "      <td>Monitor for queried domain name system (DNS) r...</td>\n",
       "    </tr>\n",
       "    <tr>\n",
       "      <th>6724</th>\n",
       "      <td>NaN</td>\n",
       "      <td>Active DNS</td>\n",
       "      <td>datacomponent</td>\n",
       "      <td>detects</td>\n",
       "      <td>T1583.001</td>\n",
       "      <td>Domains</td>\n",
       "      <td>technique</td>\n",
       "      <td>Monitor queried domain name system (DNS) regis...</td>\n",
       "    </tr>\n",
       "  </tbody>\n",
       "</table>\n",
       "</div>"
      ],
      "text/plain": [
       "     source ID source name    source type mapping type  target ID  \\\n",
       "8038       NaN  Active DNS  datacomponent      detects      T1583   \n",
       "1158       NaN  Active DNS  datacomponent      detects      T1584   \n",
       "1286       NaN  Active DNS  datacomponent      detects  T1584.002   \n",
       "5513       NaN  Active DNS  datacomponent      detects  T1584.001   \n",
       "6724       NaN  Active DNS  datacomponent      detects  T1583.001   \n",
       "\n",
       "                    target name target type  \\\n",
       "8038     Acquire Infrastructure   technique   \n",
       "1158  Compromise Infrastructure   technique   \n",
       "1286                 DNS Server   technique   \n",
       "5513                    Domains   technique   \n",
       "6724                    Domains   technique   \n",
       "\n",
       "                                    mapping description  \n",
       "8038  Monitor for queried domain name system (DNS) r...  \n",
       "1158  Monitor for queried domain name system (DNS) r...  \n",
       "1286  Monitor for queried domain name system (DNS) r...  \n",
       "5513  Monitor for queried domain name system (DNS) r...  \n",
       "6724  Monitor queried domain name system (DNS) regis...  "
      ]
     },
     "execution_count": 60,
     "metadata": {},
     "output_type": "execute_result"
    }
   ],
   "source": [
    "rela_detects_df.head()\n"
   ]
  },
  {
   "cell_type": "markdown",
   "metadata": {},
   "source": [
    "## 6-3 Relationships - `mitigates` mapping"
   ]
  },
  {
   "cell_type": "code",
   "execution_count": 148,
   "metadata": {},
   "outputs": [],
   "source": [
    "rela_mitigates_df = relationships_df[relationships_df['mapping type'] == 'mitigates']"
   ]
  },
  {
   "cell_type": "code",
   "execution_count": 186,
   "metadata": {},
   "outputs": [
    {
     "name": "stdout",
     "output_type": "stream",
     "text": [
      "<class 'pandas.core.frame.DataFrame'>\n",
      "Index: 1200 entries, 8321 to 10405\n",
      "Data columns (total 8 columns):\n",
      " #   Column               Non-Null Count  Dtype \n",
      "---  ------               --------------  ----- \n",
      " 0   source ID            1200 non-null   object\n",
      " 1   source name          1200 non-null   object\n",
      " 2   source type          1200 non-null   object\n",
      " 3   mapping type         1200 non-null   object\n",
      " 4   target ID            1200 non-null   object\n",
      " 5   target name          1200 non-null   object\n",
      " 6   target type          1200 non-null   object\n",
      " 7   mapping description  1200 non-null   object\n",
      "dtypes: object(8)\n",
      "memory usage: 84.4+ KB\n"
     ]
    }
   ],
   "source": [
    "rela_mitigates_df.info()"
   ]
  },
  {
   "cell_type": "markdown",
   "metadata": {},
   "source": [
    "## 6-4 Relationships - `attributed-to` mapping"
   ]
  },
  {
   "cell_type": "code",
   "execution_count": 154,
   "metadata": {},
   "outputs": [],
   "source": [
    "rela_attributed_df = relationships_df[relationships_df['mapping type'] == 'attributed-to']"
   ]
  },
  {
   "cell_type": "code",
   "execution_count": 159,
   "metadata": {},
   "outputs": [
    {
     "data": {
      "text/plain": [
       "target type\n",
       "group    6\n",
       "Name: count, dtype: int64"
      ]
     },
     "execution_count": 159,
     "metadata": {},
     "output_type": "execute_result"
    }
   ],
   "source": [
    "rela_attributed_df['target type'].value_counts()"
   ]
  },
  {
   "cell_type": "code",
   "execution_count": null,
   "metadata": {},
   "outputs": [],
   "source": []
  }
 ],
 "metadata": {
  "kernelspec": {
   "display_name": "hcv-gt24-env",
   "language": "python",
   "name": "python3"
  },
  "language_info": {
   "codemirror_mode": {
    "name": "ipython",
    "version": 3
   },
   "file_extension": ".py",
   "mimetype": "text/x-python",
   "name": "python",
   "nbconvert_exporter": "python",
   "pygments_lexer": "ipython3",
   "version": "3.11.4"
  },
  "orig_nbformat": 4
 },
 "nbformat": 4,
 "nbformat_minor": 2
}
