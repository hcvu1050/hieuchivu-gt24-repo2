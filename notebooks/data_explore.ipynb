{
 "cells": [
  {
   "cell_type": "code",
   "execution_count": 2,
   "metadata": {},
   "outputs": [],
   "source": [
    "from stix2 import MemoryStore\n",
    "import mitreattack.attackToExcel.stixToDf as stixToDf\n",
    "import pandas as pd\n",
    "import os"
   ]
  },
  {
   "cell_type": "code",
   "execution_count": 3,
   "metadata": {},
   "outputs": [],
   "source": [
    "file_path = '../data/raw/enterprise-attack.json'\n",
    "attackdata = MemoryStore ()\n",
    "attackdata.load_from_file (file_path)\n"
   ]
  },
  {
   "cell_type": "code",
   "execution_count": 12,
   "metadata": {},
   "outputs": [
    {
     "name": "stderr",
     "output_type": "stream",
     "text": [
      "parsing all relationships: 100%|██████████| 16530/16530 [00:00<00:00, 77409.79it/s]\n"
     ]
    },
    {
     "data": {
      "text/plain": [
       "dict_keys(['relationships', 'citations'])"
      ]
     },
     "execution_count": 12,
     "metadata": {},
     "output_type": "execute_result"
    }
   ],
   "source": [
    "relationships = stixToDf.relationshipsToDf(attackdata)\n",
    "relationships.keys()"
   ]
  },
  {
   "cell_type": "code",
   "execution_count": 13,
   "metadata": {},
   "outputs": [],
   "source": [
    "relationships = relationships['relationships']"
   ]
  },
  {
   "cell_type": "code",
   "execution_count": 18,
   "metadata": {},
   "outputs": [
    {
     "data": {
      "text/html": [
       "<div>\n",
       "<style scoped>\n",
       "    .dataframe tbody tr th:only-of-type {\n",
       "        vertical-align: middle;\n",
       "    }\n",
       "\n",
       "    .dataframe tbody tr th {\n",
       "        vertical-align: top;\n",
       "    }\n",
       "\n",
       "    .dataframe thead th {\n",
       "        text-align: right;\n",
       "    }\n",
       "</style>\n",
       "<table border=\"1\" class=\"dataframe\">\n",
       "  <thead>\n",
       "    <tr style=\"text-align: right;\">\n",
       "      <th></th>\n",
       "      <th>source ID</th>\n",
       "      <th>source name</th>\n",
       "      <th>source type</th>\n",
       "      <th>mapping type</th>\n",
       "      <th>target ID</th>\n",
       "      <th>target name</th>\n",
       "      <th>target type</th>\n",
       "      <th>mapping description</th>\n",
       "    </tr>\n",
       "  </thead>\n",
       "  <tbody>\n",
       "    <tr>\n",
       "      <th>15980</th>\n",
       "      <td>C0025</td>\n",
       "      <td>2016 Ukraine Electric Power Attack</td>\n",
       "      <td>campaign</td>\n",
       "      <td>attributed-to</td>\n",
       "      <td>G0034</td>\n",
       "      <td>Sandworm Team</td>\n",
       "      <td>group</td>\n",
       "      <td>(Citation: US District Court Indictment GRU Un...</td>\n",
       "    </tr>\n",
       "    <tr>\n",
       "      <th>15977</th>\n",
       "      <td>C0011</td>\n",
       "      <td>C0011</td>\n",
       "      <td>campaign</td>\n",
       "      <td>attributed-to</td>\n",
       "      <td>G0134</td>\n",
       "      <td>Transparent Tribe</td>\n",
       "      <td>group</td>\n",
       "      <td>(Citation: Cisco Talos Transparent Tribe Educa...</td>\n",
       "    </tr>\n",
       "    <tr>\n",
       "      <th>15976</th>\n",
       "      <td>C0017</td>\n",
       "      <td>C0017</td>\n",
       "      <td>campaign</td>\n",
       "      <td>attributed-to</td>\n",
       "      <td>G0096</td>\n",
       "      <td>APT41</td>\n",
       "      <td>group</td>\n",
       "      <td>(Citation: Mandiant APT41)</td>\n",
       "    </tr>\n",
       "    <tr>\n",
       "      <th>15981</th>\n",
       "      <td>C0022</td>\n",
       "      <td>Operation Dream Job</td>\n",
       "      <td>campaign</td>\n",
       "      <td>attributed-to</td>\n",
       "      <td>G0032</td>\n",
       "      <td>Lazarus Group</td>\n",
       "      <td>group</td>\n",
       "      <td>(Citation: ClearSky Lazarus Aug 2020)(Citation...</td>\n",
       "    </tr>\n",
       "    <tr>\n",
       "      <th>15978</th>\n",
       "      <td>C0023</td>\n",
       "      <td>Operation Ghost</td>\n",
       "      <td>campaign</td>\n",
       "      <td>attributed-to</td>\n",
       "      <td>G0016</td>\n",
       "      <td>APT29</td>\n",
       "      <td>group</td>\n",
       "      <td>(Citation: ESET Dukes October 2019)</td>\n",
       "    </tr>\n",
       "  </tbody>\n",
       "</table>\n",
       "</div>"
      ],
      "text/plain": [
       "      source ID                         source name source type  \\\n",
       "15980     C0025  2016 Ukraine Electric Power Attack    campaign   \n",
       "15977     C0011                               C0011    campaign   \n",
       "15976     C0017                               C0017    campaign   \n",
       "15981     C0022                 Operation Dream Job    campaign   \n",
       "15978     C0023                     Operation Ghost    campaign   \n",
       "\n",
       "        mapping type target ID        target name target type  \\\n",
       "15980  attributed-to     G0034      Sandworm Team       group   \n",
       "15977  attributed-to     G0134  Transparent Tribe       group   \n",
       "15976  attributed-to     G0096              APT41       group   \n",
       "15981  attributed-to     G0032      Lazarus Group       group   \n",
       "15978  attributed-to     G0016              APT29       group   \n",
       "\n",
       "                                     mapping description  \n",
       "15980  (Citation: US District Court Indictment GRU Un...  \n",
       "15977  (Citation: Cisco Talos Transparent Tribe Educa...  \n",
       "15976                         (Citation: Mandiant APT41)  \n",
       "15981  (Citation: ClearSky Lazarus Aug 2020)(Citation...  \n",
       "15978                (Citation: ESET Dukes October 2019)  "
      ]
     },
     "execution_count": 18,
     "metadata": {},
     "output_type": "execute_result"
    }
   ],
   "source": [
    "relationships.head()"
   ]
  },
  {
   "cell_type": "code",
   "execution_count": 19,
   "metadata": {},
   "outputs": [
    {
     "name": "stderr",
     "output_type": "stream",
     "text": [
      "parsing groups: 100%|██████████| 136/136 [00:00<?, ?it/s]\n",
      "parsing relationships for type=group: 100%|██████████| 16530/16530 [00:00<00:00, 111496.10it/s]\n"
     ]
    }
   ],
   "source": [
    "groups = stixToDf.groupsToDf(attackdata)"
   ]
  },
  {
   "cell_type": "code",
   "execution_count": 21,
   "metadata": {},
   "outputs": [
    {
     "data": {
      "text/html": [
       "<div>\n",
       "<style scoped>\n",
       "    .dataframe tbody tr th:only-of-type {\n",
       "        vertical-align: middle;\n",
       "    }\n",
       "\n",
       "    .dataframe tbody tr th {\n",
       "        vertical-align: top;\n",
       "    }\n",
       "\n",
       "    .dataframe thead th {\n",
       "        text-align: right;\n",
       "    }\n",
       "</style>\n",
       "<table border=\"1\" class=\"dataframe\">\n",
       "  <thead>\n",
       "    <tr style=\"text-align: right;\">\n",
       "      <th></th>\n",
       "      <th>ID</th>\n",
       "      <th>name</th>\n",
       "      <th>description</th>\n",
       "      <th>url</th>\n",
       "      <th>created</th>\n",
       "      <th>last modified</th>\n",
       "      <th>version</th>\n",
       "      <th>contributors</th>\n",
       "      <th>associated groups</th>\n",
       "      <th>associated groups citations</th>\n",
       "      <th>relationship citations</th>\n",
       "    </tr>\n",
       "  </thead>\n",
       "  <tbody>\n",
       "    <tr>\n",
       "      <th>47</th>\n",
       "      <td>G0099</td>\n",
       "      <td>APT-C-36</td>\n",
       "      <td>[APT-C-36](https://attack.mitre.org/groups/G00...</td>\n",
       "      <td>https://attack.mitre.org/groups/G0099</td>\n",
       "      <td>05 May 2020</td>\n",
       "      <td>26 May 2021</td>\n",
       "      <td>1.1</td>\n",
       "      <td>Jose Luis Sánchez Martinez</td>\n",
       "      <td>Blind Eagle</td>\n",
       "      <td>(Citation: QiAnXin APT-C-36 Feb2019)</td>\n",
       "      <td>(Citation: QiAnXin APT-C-36 Feb2019),(Citation...</td>\n",
       "    </tr>\n",
       "    <tr>\n",
       "      <th>13</th>\n",
       "      <td>G0006</td>\n",
       "      <td>APT1</td>\n",
       "      <td>[APT1](https://attack.mitre.org/groups/G0006) ...</td>\n",
       "      <td>https://attack.mitre.org/groups/G0006</td>\n",
       "      <td>31 May 2017</td>\n",
       "      <td>26 May 2021</td>\n",
       "      <td>1.4</td>\n",
       "      <td>NaN</td>\n",
       "      <td>Comment Crew, Comment Group, Comment Panda</td>\n",
       "      <td>(Citation: Mandiant APT1), (Citation: Mandiant...</td>\n",
       "      <td>(Citation: Mandiant APT1),(Citation: McAfee Oc...</td>\n",
       "    </tr>\n",
       "    <tr>\n",
       "      <th>96</th>\n",
       "      <td>G0005</td>\n",
       "      <td>APT12</td>\n",
       "      <td>[APT12](https://attack.mitre.org/groups/G0005)...</td>\n",
       "      <td>https://attack.mitre.org/groups/G0005</td>\n",
       "      <td>31 May 2017</td>\n",
       "      <td>30 March 2020</td>\n",
       "      <td>2.1</td>\n",
       "      <td>NaN</td>\n",
       "      <td>DNSCALC, DynCalc, IXESHE, Numbered Panda</td>\n",
       "      <td>(Citation: Moran 2014), (Citation: Meyers Numb...</td>\n",
       "      <td>(Citation: Moran 2014),(Citation: Moran 2013),...</td>\n",
       "    </tr>\n",
       "    <tr>\n",
       "      <th>129</th>\n",
       "      <td>G0023</td>\n",
       "      <td>APT16</td>\n",
       "      <td>[APT16](https://attack.mitre.org/groups/G0023)...</td>\n",
       "      <td>https://attack.mitre.org/groups/G0023</td>\n",
       "      <td>31 May 2017</td>\n",
       "      <td>26 July 2022</td>\n",
       "      <td>1.1</td>\n",
       "      <td>NaN</td>\n",
       "      <td></td>\n",
       "      <td></td>\n",
       "      <td>(Citation: FireEye EPS Awakens Part 2),(Citati...</td>\n",
       "    </tr>\n",
       "    <tr>\n",
       "      <th>130</th>\n",
       "      <td>G0025</td>\n",
       "      <td>APT17</td>\n",
       "      <td>[APT17](https://attack.mitre.org/groups/G0025)...</td>\n",
       "      <td>https://attack.mitre.org/groups/G0025</td>\n",
       "      <td>31 May 2017</td>\n",
       "      <td>13 October 2020</td>\n",
       "      <td>1.1</td>\n",
       "      <td>NaN</td>\n",
       "      <td>Deputy Dog</td>\n",
       "      <td>(Citation: FireEye APT17)</td>\n",
       "      <td>(Citation: FireEye APT17),(Citation: FireEye A...</td>\n",
       "    </tr>\n",
       "  </tbody>\n",
       "</table>\n",
       "</div>"
      ],
      "text/plain": [
       "        ID      name                                        description  \\\n",
       "47   G0099  APT-C-36  [APT-C-36](https://attack.mitre.org/groups/G00...   \n",
       "13   G0006      APT1  [APT1](https://attack.mitre.org/groups/G0006) ...   \n",
       "96   G0005     APT12  [APT12](https://attack.mitre.org/groups/G0005)...   \n",
       "129  G0023     APT16  [APT16](https://attack.mitre.org/groups/G0023)...   \n",
       "130  G0025     APT17  [APT17](https://attack.mitre.org/groups/G0025)...   \n",
       "\n",
       "                                       url      created    last modified  \\\n",
       "47   https://attack.mitre.org/groups/G0099  05 May 2020      26 May 2021   \n",
       "13   https://attack.mitre.org/groups/G0006  31 May 2017      26 May 2021   \n",
       "96   https://attack.mitre.org/groups/G0005  31 May 2017    30 March 2020   \n",
       "129  https://attack.mitre.org/groups/G0023  31 May 2017     26 July 2022   \n",
       "130  https://attack.mitre.org/groups/G0025  31 May 2017  13 October 2020   \n",
       "\n",
       "    version                contributors  \\\n",
       "47      1.1  Jose Luis Sánchez Martinez   \n",
       "13      1.4                         NaN   \n",
       "96      2.1                         NaN   \n",
       "129     1.1                         NaN   \n",
       "130     1.1                         NaN   \n",
       "\n",
       "                              associated groups  \\\n",
       "47                                  Blind Eagle   \n",
       "13   Comment Crew, Comment Group, Comment Panda   \n",
       "96     DNSCALC, DynCalc, IXESHE, Numbered Panda   \n",
       "129                                               \n",
       "130                                  Deputy Dog   \n",
       "\n",
       "                           associated groups citations  \\\n",
       "47                (Citation: QiAnXin APT-C-36 Feb2019)   \n",
       "13   (Citation: Mandiant APT1), (Citation: Mandiant...   \n",
       "96   (Citation: Moran 2014), (Citation: Meyers Numb...   \n",
       "129                                                      \n",
       "130                          (Citation: FireEye APT17)   \n",
       "\n",
       "                                relationship citations  \n",
       "47   (Citation: QiAnXin APT-C-36 Feb2019),(Citation...  \n",
       "13   (Citation: Mandiant APT1),(Citation: McAfee Oc...  \n",
       "96   (Citation: Moran 2014),(Citation: Moran 2013),...  \n",
       "129  (Citation: FireEye EPS Awakens Part 2),(Citati...  \n",
       "130  (Citation: FireEye APT17),(Citation: FireEye A...  "
      ]
     },
     "execution_count": 21,
     "metadata": {},
     "output_type": "execute_result"
    }
   ],
   "source": [
    "groups['groups'].head()"
   ]
  },
  {
   "cell_type": "code",
   "execution_count": null,
   "metadata": {},
   "outputs": [],
   "source": []
  }
 ],
 "metadata": {
  "kernelspec": {
   "display_name": "hcv-gt24-env",
   "language": "python",
   "name": "python3"
  },
  "language_info": {
   "codemirror_mode": {
    "name": "ipython",
    "version": 3
   },
   "file_extension": ".py",
   "mimetype": "text/x-python",
   "name": "python",
   "nbconvert_exporter": "python",
   "pygments_lexer": "ipython3",
   "version": "3.11.4"
  },
  "orig_nbformat": 4
 },
 "nbformat": 4,
 "nbformat_minor": 2
}
