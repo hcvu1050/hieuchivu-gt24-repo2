{
 "cells": [
  {
   "cell_type": "code",
   "execution_count": 8,
   "metadata": {},
   "outputs": [],
   "source": [
    "import pandas as pd\n",
    "import sys\n",
    "sys.path.append('../src/data') \n",
    "sys.path.append('..')\n",
    "from visualization import plotting"
   ]
  },
  {
   "cell_type": "code",
   "execution_count": 9,
   "metadata": {},
   "outputs": [
    {
     "ename": "ImportError",
     "evalue": "attempted relative import with no known parent package",
     "output_type": "error",
     "traceback": [
      "\u001b[1;31m---------------------------------------------------------------------------\u001b[0m",
      "\u001b[1;31mImportError\u001b[0m                               Traceback (most recent call last)",
      "\u001b[1;32mc:\\Users\\vuchi\\GT24\\hieuchivu-gt24-repo2\\notebooks\\build_feature_test.ipynb Cell 2\u001b[0m line \u001b[0;36m1\n\u001b[1;32m----> <a href='vscode-notebook-cell:/c%3A/Users/vuchi/GT24/hieuchivu-gt24-repo2/notebooks/build_feature_test.ipynb#W4sZmlsZQ%3D%3D?line=0'>1</a>\u001b[0m \u001b[39mfrom\u001b[39;00m \u001b[39mbuild_features2\u001b[39;00m \u001b[39mimport\u001b[39;00m _frequency_encode_features\n",
      "File \u001b[1;32mc:\\Users\\vuchi\\GT24\\hieuchivu-gt24-repo2\\notebooks\\../src/data\\build_features2.py:14\u001b[0m\n\u001b[0;32m     12\u001b[0m \u001b[39mimport\u001b[39;00m \u001b[39mpandas\u001b[39;00m \u001b[39mas\u001b[39;00m \u001b[39mpd\u001b[39;00m\n\u001b[0;32m     13\u001b[0m \u001b[39mimport\u001b[39;00m \u001b[39mcategory_encoders\u001b[39;00m \u001b[39mas\u001b[39;00m \u001b[39mce\u001b[39;00m\n\u001b[1;32m---> 14\u001b[0m \u001b[39mfrom\u001b[39;00m \u001b[39m.\u001b[39;00m \u001b[39mimport\u001b[39;00m utils\n\u001b[0;32m     15\u001b[0m ROOT_FOLDER \u001b[39m=\u001b[39m os\u001b[39m.\u001b[39mpath\u001b[39m.\u001b[39mdirname(os\u001b[39m.\u001b[39mpath\u001b[39m.\u001b[39mdirname(os\u001b[39m.\u001b[39mpath\u001b[39m.\u001b[39mabspath(\u001b[39m'\u001b[39m\u001b[39m__file__\u001b[39m\u001b[39m'\u001b[39m)))\n\u001b[0;32m     17\u001b[0m \u001b[39m# path to get cleaned data\u001b[39;00m\n",
      "\u001b[1;31mImportError\u001b[0m: attempted relative import with no known parent package"
     ]
    }
   ],
   "source": [
    "from build_features2 import _frequency_encode_features"
   ]
  },
  {
   "cell_type": "code",
   "execution_count": null,
   "metadata": {},
   "outputs": [],
   "source": [
    "df = pd.read_csv('../data/interim/X_group_cleaned.csv')"
   ]
  },
  {
   "cell_type": "code",
   "execution_count": null,
   "metadata": {},
   "outputs": [
    {
     "ename": "TypeError",
     "evalue": "string indices must be integers, not 'str'",
     "output_type": "error",
     "traceback": [
      "\u001b[1;31m---------------------------------------------------------------------------\u001b[0m",
      "\u001b[1;31mTypeError\u001b[0m                                 Traceback (most recent call last)",
      "\u001b[1;32mc:\\Users\\vuchi\\GT24\\hieuchivu-gt24-repo2\\notebooks\\build_feature_test.ipynb Cell 3\u001b[0m line \u001b[0;36m1\n\u001b[1;32m----> <a href='vscode-notebook-cell:/c%3A/Users/vuchi/GT24/hieuchivu-gt24-repo2/notebooks/build_feature_test.ipynb#W3sZmlsZQ%3D%3D?line=0'>1</a>\u001b[0m res \u001b[39m=\u001b[39m _frequency_encode_features(df, ID \u001b[39m=\u001b[39m \u001b[39m'\u001b[39m\u001b[39mgroup_ID\u001b[39m\u001b[39m'\u001b[39m, feature_names\u001b[39m=\u001b[39m[\u001b[39m'\u001b[39m\u001b[39msoftware_ID\u001b[39m\u001b[39m'\u001b[39m])\n",
      "File \u001b[1;32mc:\\Users\\vuchi\\GT24\\hieuchivu-gt24-repo2\\notebooks\\..\\src\\data\\build_features2.py:131\u001b[0m, in \u001b[0;36m_frequency_encode_features\u001b[1;34m(df, ID, feature_names, feature_sep_char)\u001b[0m\n\u001b[0;32m    129\u001b[0m \u001b[39mif\u001b[39;00m \u001b[39mnot\u001b[39;00m multi_valued:\n\u001b[0;32m    130\u001b[0m     freq_encoded \u001b[39m=\u001b[39m count_enc\u001b[39m.\u001b[39mfit_transform (df[feature_name], return_df \u001b[39m=\u001b[39m \u001b[39mTrue\u001b[39;00m)\n\u001b[1;32m--> 131\u001b[0m     freq_encoded_one_hot \u001b[39m=\u001b[39m pd\u001b[39m.\u001b[39mget_dummies (feature_name[feature_name], dtype \u001b[39m=\u001b[39m \u001b[39mfloat\u001b[39m)\n\u001b[0;32m    132\u001b[0m     freq_encoded_one_hot \u001b[39m=\u001b[39m freq_encoded_one_hot\u001b[39m.\u001b[39mmultiply (freq_encoded_one_hot\u001b[39m.\u001b[39mcolumns, axis \u001b[39m=\u001b[39m \u001b[39m1\u001b[39m)\n\u001b[0;32m    133\u001b[0m freq_encoded_feature_dfs\u001b[39m.\u001b[39mappend (freq_encoded_one_hot)\n",
      "\u001b[1;31mTypeError\u001b[0m: string indices must be integers, not 'str'"
     ]
    }
   ],
   "source": [
    "res = _frequency_encode_features(df, ID = 'group_ID', feature_names=['software_ID'])"
   ]
  },
  {
   "cell_type": "code",
   "execution_count": null,
   "metadata": {},
   "outputs": [],
   "source": []
  }
 ],
 "metadata": {
  "kernelspec": {
   "display_name": "hcv-gt24-env",
   "language": "python",
   "name": "python3"
  },
  "language_info": {
   "codemirror_mode": {
    "name": "ipython",
    "version": 3
   },
   "file_extension": ".py",
   "mimetype": "text/x-python",
   "name": "python",
   "nbconvert_exporter": "python",
   "pygments_lexer": "ipython3",
   "version": "3.11.4"
  },
  "orig_nbformat": 4
 },
 "nbformat": 4,
 "nbformat_minor": 2
}
