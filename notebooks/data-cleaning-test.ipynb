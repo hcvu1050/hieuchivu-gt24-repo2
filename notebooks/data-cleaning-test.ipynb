{
 "cells": [
  {
   "cell_type": "code",
   "execution_count": 1,
   "metadata": {},
   "outputs": [],
   "source": [
    "import sys\n",
    "sys.path.append(\"..\")\n",
    "from src.data.cleaning import clean_data"
   ]
  },
  {
   "cell_type": "code",
   "execution_count": 2,
   "metadata": {},
   "outputs": [
    {
     "name": "stderr",
     "output_type": "stream",
     "text": [
      "c:\\Users\\vuchi\\GT24\\hieuchivu-gt24-repo2\\notebooks\\..\\src\\data\\cleaning.py:69: SettingWithCopyWarning: \n",
      "A value is trying to be set on a copy of a slice from a DataFrame.\n",
      "Try using .loc[row_indexer,col_indexer] = value instead\n",
      "\n",
      "See the caveats in the documentation: https://pandas.pydata.org/pandas-docs/stable/user_guide/indexing.html#returning-a-view-versus-a-copy\n",
      "  positive_cases ['target'] = 1\n"
     ]
    },
    {
     "name": "stdout",
     "output_type": "stream",
     "text": [
      "Finished: files saved to c:\\Users\\vuchi\\GT24\\hieuchivu-gt24-repo2\\data/interim\n",
      "\tcleaned_technique_features_df.csv\n",
      "\tcleaned_group_features_df.csv\n",
      "\tcleaned_interaction_matrix.csv\n"
     ]
    },
    {
     "data": {
      "text/plain": [
       "{'technique_features_df':      technique_ID              platforms mitigation_ID\n",
       " 0           T1548  Linux, Windows, macOS         M1047\n",
       " 1           T1548  Linux, Windows, macOS         M1038\n",
       " 2           T1548  Linux, Windows, macOS         M1028\n",
       " 3           T1548  Linux, Windows, macOS         M1026\n",
       " 4           T1548  Linux, Windows, macOS         M1022\n",
       " ...           ...                    ...           ...\n",
       " 1288        T1047                Windows         M1040\n",
       " 1289        T1047                Windows         M1038\n",
       " 1290        T1047                Windows         M1026\n",
       " 1291        T1047                Windows         M1018\n",
       " 1292        T1220                Windows         M1038\n",
       " \n",
       " [1293 rows x 3 columns],\n",
       " 'group_features_df':       group_ID software_ID technique_ID\n",
       " 0        G0099       S0434        T1105\n",
       " 1        G0099       S0434    T1204.002\n",
       " 2        G0099       S0434    T1036.004\n",
       " 3        G0099       S0434        T1571\n",
       " 4        G0099       S0434        T1027\n",
       " ...        ...         ...          ...\n",
       " 32797    G0045       S0006    T1588.002\n",
       " 32798    G0045       S0006        T1199\n",
       " 32799    G0045       S0006        T1078\n",
       " 32800    G0045       S0006    T1059.003\n",
       " 32801    G0045       S0006        T1047\n",
       " \n",
       " [32802 rows x 3 columns],\n",
       " 'interaction_matrix':       group_ID technique_ID  target\n",
       " 0        G0099        T1548     0.0\n",
       " 1        G0099    T1548.002     0.0\n",
       " 2        G0099    T1548.004     0.0\n",
       " 3        G0099    T1548.001     0.0\n",
       " 4        G0099    T1548.003     0.0\n",
       " ...        ...          ...     ...\n",
       " 82547    G0045    T1102.002     0.0\n",
       " 82548    G0045    T1102.001     0.0\n",
       " 82549    G0045    T1102.003     0.0\n",
       " 82550    G0045        T1047     1.0\n",
       " 82551    G0045        T1220     0.0\n",
       " \n",
       " [82552 rows x 3 columns]}"
      ]
     },
     "execution_count": 2,
     "metadata": {},
     "output_type": "execute_result"
    }
   ],
   "source": [
    "clean_data()"
   ]
  }
 ],
 "metadata": {
  "kernelspec": {
   "display_name": "hcv-gt24-env",
   "language": "python",
   "name": "python3"
  },
  "language_info": {
   "codemirror_mode": {
    "name": "ipython",
    "version": 3
   },
   "file_extension": ".py",
   "mimetype": "text/x-python",
   "name": "python",
   "nbconvert_exporter": "python",
   "pygments_lexer": "ipython3",
   "version": "3.11.4"
  },
  "orig_nbformat": 4
 },
 "nbformat": 4,
 "nbformat_minor": 2
}
