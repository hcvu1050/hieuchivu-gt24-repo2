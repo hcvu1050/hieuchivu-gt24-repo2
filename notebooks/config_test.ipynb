{
 "cells": [
  {
   "cell_type": "code",
   "execution_count": 21,
   "metadata": {},
   "outputs": [],
   "source": [
    "import yaml\n",
    "\n",
    "with open ('config_2.yaml', 'r') as config_file:\n",
    "    config = yaml.safe_load (config_file)"
   ]
  },
  {
   "cell_type": "code",
   "execution_count": 22,
   "metadata": {},
   "outputs": [
    {
     "name": "stdout",
     "output_type": "stream",
     "text": [
      "{'val': 1, 'val2': 2, 'val_str': 'abc', 'list': [1, 2, 'def'], 'val3': 3, 'dict1': {'val_dict_1': 2, 'val_dict_2': 3, 'val_dict_3': 4, 'list_dict': [12, 13, 14]}}\n"
     ]
    }
   ],
   "source": [
    "print (config)"
   ]
  },
  {
   "cell_type": "code",
   "execution_count": 23,
   "metadata": {},
   "outputs": [
    {
     "data": {
      "text/plain": [
       "True"
      ]
     },
     "execution_count": 23,
     "metadata": {},
     "output_type": "execute_result"
    }
   ],
   "source": [
    "isinstance(config['val_str'], str)"
   ]
  },
  {
   "cell_type": "code",
   "execution_count": 24,
   "metadata": {},
   "outputs": [],
   "source": [
    "def _build_text (indent, item):\n",
    "    # base case 1: item is an element of a list\n",
    "    if isinstance(item, int) or isinstance (item, str):\n",
    "        print (indent, item)\n",
    "    \n",
    "    else:\n",
    "        for key in item.keys():\n",
    "        ## base case 2 if item[key] is single valued build: the line\n",
    "            if isinstance(item[key], int) or isinstance (item[key], str):\n",
    "                print (indent, '{key}: {val}'.format(key = key, val = item[key]))\n",
    "        \n",
    "        ## recursive cases\n",
    "            ## if item[key] is a list\n",
    "            elif isinstance(item[key], list):\n",
    "                print (indent, key, ':' )\n",
    "                for list_ele in item[key]: _build_text(indent+'\\t- ', list_ele)\n",
    "                \n",
    "            elif isinstance(item[key], dict):\n",
    "                print (indent, key, ':' )\n",
    "                _build_text(indent+'\\t', item[key])"
   ]
  },
  {
   "cell_type": "code",
   "execution_count": 25,
   "metadata": {},
   "outputs": [
    {
     "name": "stdout",
     "output_type": "stream",
     "text": [
      " val: 1\n",
      " val2: 2\n",
      " val_str: abc\n",
      " list :\n",
      "\t-  1\n",
      "\t-  2\n",
      "\t-  def\n",
      " val3: 3\n",
      " dict1 :\n",
      "\t val_dict_1: 2\n",
      "\t val_dict_2: 3\n",
      "\t val_dict_3: 4\n",
      "\t list_dict :\n",
      "\t\t-  12\n",
      "\t\t-  13\n",
      "\t\t-  14\n"
     ]
    }
   ],
   "source": [
    "_build_text('',config)"
   ]
  },
  {
   "cell_type": "code",
   "execution_count": null,
   "metadata": {},
   "outputs": [],
   "source": []
  }
 ],
 "metadata": {
  "kernelspec": {
   "display_name": "hcv-gt24-env",
   "language": "python",
   "name": "python3"
  },
  "language_info": {
   "codemirror_mode": {
    "name": "ipython",
    "version": 3
   },
   "file_extension": ".py",
   "mimetype": "text/x-python",
   "name": "python",
   "nbconvert_exporter": "python",
   "pygments_lexer": "ipython3",
   "version": "3.11.4"
  },
  "orig_nbformat": 4
 },
 "nbformat": 4,
 "nbformat_minor": 2
}
