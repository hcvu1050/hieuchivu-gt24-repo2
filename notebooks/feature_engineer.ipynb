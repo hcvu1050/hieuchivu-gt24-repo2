{
 "cells": [
  {
   "cell_type": "code",
   "execution_count": 7,
   "metadata": {},
   "outputs": [
    {
     "name": "stdout",
     "output_type": "stream",
     "text": [
      "   Example_ID             Hobbies Hobbies_FrequencyEncoded  \\\n",
      "0           1     [Soccer, Piano]                   [2, 2]   \n",
      "1           2  [Reading, Cooking]                   [2, 2]   \n",
      "2           3            [Soccer]                      [2]   \n",
      "3           4           [Reading]                      [2]   \n",
      "4           5    [Piano, Cooking]                   [2, 2]   \n",
      "\n",
      "  Hobbies_FrequencyEncoded_Padded  \n",
      "0                          [2, 2]  \n",
      "1                          [2, 2]  \n",
      "2                          [2, 0]  \n",
      "3                          [2, 0]  \n",
      "4                          [2, 2]  \n"
     ]
    }
   ],
   "source": [
    "import pandas as pd\n",
    "import numpy as np\n",
    "from tensorflow.keras.preprocessing.sequence import pad_sequences\n",
    "\n",
    "# Sample multi-label data (replace with your own data)\n",
    "data = {'Example_ID': [1, 2, 3, 4, 5],\n",
    "        'Hobbies': [['Soccer', 'Piano'], ['Reading', 'Cooking'], ['Soccer'], ['Reading'], ['Piano', 'Cooking']]}\n",
    "df = pd.DataFrame(data)\n",
    "\n",
    "# Calculate label frequencies\n",
    "label_frequencies = {}\n",
    "for labels in df['Hobbies']:\n",
    "    for label in labels:\n",
    "        if label in label_frequencies:\n",
    "            label_frequencies[label] += 1\n",
    "        else:\n",
    "            label_frequencies[label] = 1\n",
    "\n",
    "# Create a mapping\n",
    "label_frequency_mapping = label_frequencies\n",
    "\n",
    "# Apply Frequency Encoding\n",
    "df['Hobbies_FrequencyEncoded'] = df['Hobbies'].apply(lambda x: [label_frequency_mapping[label] for label in x])\n",
    "\n",
    "# Determine the maximum sequence length\n",
    "max_sequence_length = max(df['Hobbies_FrequencyEncoded'].apply(len))\n",
    "\n",
    "# Pad sequences to a consistent length\n",
    "df['Hobbies_FrequencyEncoded_Padded'] = df['Hobbies_FrequencyEncoded'].apply(\n",
    "    lambda x: pad_sequences([x], maxlen=max_sequence_length, padding='post')[0])\n",
    "\n",
    "# The resulting DataFrame now contains a new column 'Hobbies_FrequencyEncoded_Padded'\n",
    "print(df)\n"
   ]
  },
  {
   "cell_type": "code",
   "execution_count": 5,
   "metadata": {},
   "outputs": [
    {
     "data": {
      "text/html": [
       "<div>\n",
       "<style scoped>\n",
       "    .dataframe tbody tr th:only-of-type {\n",
       "        vertical-align: middle;\n",
       "    }\n",
       "\n",
       "    .dataframe tbody tr th {\n",
       "        vertical-align: top;\n",
       "    }\n",
       "\n",
       "    .dataframe thead th {\n",
       "        text-align: right;\n",
       "    }\n",
       "</style>\n",
       "<table border=\"1\" class=\"dataframe\">\n",
       "  <thead>\n",
       "    <tr style=\"text-align: right;\">\n",
       "      <th></th>\n",
       "      <th>Category</th>\n",
       "      <th>Description</th>\n",
       "    </tr>\n",
       "  </thead>\n",
       "  <tbody>\n",
       "    <tr>\n",
       "      <th>0</th>\n",
       "      <td>Class A</td>\n",
       "      <td>Description A</td>\n",
       "    </tr>\n",
       "    <tr>\n",
       "      <th>1</th>\n",
       "      <td>Class B</td>\n",
       "      <td>Description B</td>\n",
       "    </tr>\n",
       "    <tr>\n",
       "      <th>2</th>\n",
       "      <td>Class A</td>\n",
       "      <td>Description A</td>\n",
       "    </tr>\n",
       "    <tr>\n",
       "      <th>3</th>\n",
       "      <td>Class C</td>\n",
       "      <td>Description C</td>\n",
       "    </tr>\n",
       "    <tr>\n",
       "      <th>4</th>\n",
       "      <td>Class B</td>\n",
       "      <td>Description B</td>\n",
       "    </tr>\n",
       "    <tr>\n",
       "      <th>5</th>\n",
       "      <td>Class A</td>\n",
       "      <td>Description A</td>\n",
       "    </tr>\n",
       "    <tr>\n",
       "      <th>6</th>\n",
       "      <td>Class C</td>\n",
       "      <td>Description C</td>\n",
       "    </tr>\n",
       "    <tr>\n",
       "      <th>7</th>\n",
       "      <td>Class C</td>\n",
       "      <td>Description C</td>\n",
       "    </tr>\n",
       "  </tbody>\n",
       "</table>\n",
       "</div>"
      ],
      "text/plain": [
       "  Category    Description\n",
       "0  Class A  Description A\n",
       "1  Class B  Description B\n",
       "2  Class A  Description A\n",
       "3  Class C  Description C\n",
       "4  Class B  Description B\n",
       "5  Class A  Description A\n",
       "6  Class C  Description C\n",
       "7  Class C  Description C"
      ]
     },
     "execution_count": 5,
     "metadata": {},
     "output_type": "execute_result"
    }
   ],
   "source": [
    "df"
   ]
  }
 ],
 "metadata": {
  "kernelspec": {
   "display_name": "hcv-gt24-env",
   "language": "python",
   "name": "python3"
  },
  "language_info": {
   "codemirror_mode": {
    "name": "ipython",
    "version": 3
   },
   "file_extension": ".py",
   "mimetype": "text/x-python",
   "name": "python",
   "nbconvert_exporter": "python",
   "pygments_lexer": "ipython3",
   "version": "3.11.4"
  },
  "orig_nbformat": 4
 },
 "nbformat": 4,
 "nbformat_minor": 2
}
